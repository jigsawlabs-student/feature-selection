{
 "cells": [
  {
   "cell_type": "markdown",
   "metadata": {},
   "source": [
    "# Using Correlations"
   ]
  },
  {
   "cell_type": "markdown",
   "metadata": {},
   "source": [
    "### Introduction"
   ]
  },
  {
   "cell_type": "markdown",
   "metadata": {},
   "source": [
    "In this lesson, we'll apply what we learned about correlations to reducing the features in our Airbnb dataset.  Let's get started."
   ]
  },
  {
   "cell_type": "markdown",
   "metadata": {},
   "source": [
    "### Loading the Data"
   ]
  },
  {
   "cell_type": "markdown",
   "metadata": {},
   "source": [
    "We'll start by loading up our training set with the top features that we previously found using permutation importance."
   ]
  },
  {
   "cell_type": "code",
   "execution_count": 1,
   "metadata": {},
   "outputs": [
    {
     "data": {
      "text/plain": [
       "(17952, 41)"
      ]
     },
     "execution_count": 1,
     "metadata": {},
     "output_type": "execute_result"
    }
   ],
   "source": [
    "import pandas as pd\n",
    "url = \"https://raw.githubusercontent.com/jigsawlabs-student/feature-selection/master/listings_train_top_forty.csv\"\n",
    "listings_df = pd.read_csv(url, index_col = 0)\n",
    "listings_df.shape"
   ]
  },
  {
   "cell_type": "markdown",
   "metadata": {},
   "source": [
    "Included here is the `price` feature."
   ]
  },
  {
   "cell_type": "code",
   "execution_count": 170,
   "metadata": {},
   "outputs": [],
   "source": [
    "X = listings_df.drop('price', axis = 1)"
   ]
  },
  {
   "cell_type": "code",
   "execution_count": 171,
   "metadata": {},
   "outputs": [],
   "source": [
    "y = listings_df['price']"
   ]
  },
  {
   "cell_type": "code",
   "execution_count": 210,
   "metadata": {},
   "outputs": [],
   "source": [
    "from sklearn.model_selection import train_test_split\n",
    "X_train, X_validate, y_train, y_validate = train_test_split(X, y, random_state = 21)"
   ]
  },
  {
   "cell_type": "code",
   "execution_count": 212,
   "metadata": {},
   "outputs": [
    {
     "data": {
      "text/plain": [
       "0.4847218710182034"
      ]
     },
     "execution_count": 212,
     "metadata": {},
     "output_type": "execute_result"
    }
   ],
   "source": [
    "from sklearn.linear_model import LinearRegression\n",
    "\n",
    "model = LinearRegression()\n",
    "model.fit(X_train, y_train).score(X_validate, y_validate)\n",
    "# 0.4847218710182034"
   ]
  },
  {
   "cell_type": "markdown",
   "metadata": {},
   "source": [
    "### Finding Correlated Features In Code"
   ]
  },
  {
   "cell_type": "markdown",
   "metadata": {},
   "source": [
    "Because we have so many features, we'll avoid plotting a scatter matrix."
   ]
  },
  {
   "cell_type": "markdown",
   "metadata": {},
   "source": [
    "Instead we can calculate our correlation in code.  To do so, we first should coerce all of our values to numbers.  So we can select our boolean features and coerce them to 1s and 0s."
   ]
  },
  {
   "cell_type": "code",
   "execution_count": 199,
   "metadata": {},
   "outputs": [],
   "source": [
    "bool_cols = X.select_dtypes(include='bool').columns\n",
    "\n",
    "# we do this with astype int\n",
    "X[bool_cols] = X[bool_cols].astype(int)"
   ]
  },
  {
   "cell_type": "markdown",
   "metadata": {},
   "source": [
    "Now that everything is numeric, we can calculate the correlation between all columns."
   ]
  },
  {
   "cell_type": "markdown",
   "metadata": {},
   "source": [
    "Let's start with the pearson correlation.  Start by assigning `pearson_corr_df` to a grid of the pearson correlation coefficients."
   ]
  },
  {
   "cell_type": "code",
   "execution_count": 200,
   "metadata": {},
   "outputs": [
    {
     "data": {
      "text/html": [
       "<div>\n",
       "<style scoped>\n",
       "    .dataframe tbody tr th:only-of-type {\n",
       "        vertical-align: middle;\n",
       "    }\n",
       "\n",
       "    .dataframe tbody tr th {\n",
       "        vertical-align: top;\n",
       "    }\n",
       "\n",
       "    .dataframe thead th {\n",
       "        text-align: right;\n",
       "    }\n",
       "</style>\n",
       "<table border=\"1\" class=\"dataframe\">\n",
       "  <thead>\n",
       "    <tr style=\"text-align: right;\">\n",
       "      <th></th>\n",
       "      <th>accommodates</th>\n",
       "      <th>guests_included</th>\n",
       "      <th>availability_90</th>\n",
       "      <th>calculated_host_listings_count</th>\n",
       "      <th>property_type_x0_Apartment</th>\n",
       "    </tr>\n",
       "  </thead>\n",
       "  <tbody>\n",
       "    <tr>\n",
       "      <th>accommodates</th>\n",
       "      <td>1.000000</td>\n",
       "      <td>0.502932</td>\n",
       "      <td>0.148772</td>\n",
       "      <td>0.182929</td>\n",
       "      <td>-0.118029</td>\n",
       "    </tr>\n",
       "    <tr>\n",
       "      <th>guests_included</th>\n",
       "      <td>0.502932</td>\n",
       "      <td>1.000000</td>\n",
       "      <td>0.099042</td>\n",
       "      <td>0.099660</td>\n",
       "      <td>-0.059833</td>\n",
       "    </tr>\n",
       "    <tr>\n",
       "      <th>availability_90</th>\n",
       "      <td>0.148772</td>\n",
       "      <td>0.099042</td>\n",
       "      <td>1.000000</td>\n",
       "      <td>0.223432</td>\n",
       "      <td>-0.178087</td>\n",
       "    </tr>\n",
       "    <tr>\n",
       "      <th>calculated_host_listings_count</th>\n",
       "      <td>0.182929</td>\n",
       "      <td>0.099660</td>\n",
       "      <td>0.223432</td>\n",
       "      <td>1.000000</td>\n",
       "      <td>-0.159715</td>\n",
       "    </tr>\n",
       "    <tr>\n",
       "      <th>property_type_x0_Apartment</th>\n",
       "      <td>-0.118029</td>\n",
       "      <td>-0.059833</td>\n",
       "      <td>-0.178087</td>\n",
       "      <td>-0.159715</td>\n",
       "      <td>1.000000</td>\n",
       "    </tr>\n",
       "  </tbody>\n",
       "</table>\n",
       "</div>"
      ],
      "text/plain": [
       "                                accommodates  guests_included  \\\n",
       "accommodates                        1.000000         0.502932   \n",
       "guests_included                     0.502932         1.000000   \n",
       "availability_90                     0.148772         0.099042   \n",
       "calculated_host_listings_count      0.182929         0.099660   \n",
       "property_type_x0_Apartment         -0.118029        -0.059833   \n",
       "\n",
       "                                availability_90  \\\n",
       "accommodates                           0.148772   \n",
       "guests_included                        0.099042   \n",
       "availability_90                        1.000000   \n",
       "calculated_host_listings_count         0.223432   \n",
       "property_type_x0_Apartment            -0.178087   \n",
       "\n",
       "                                calculated_host_listings_count  \\\n",
       "accommodates                                          0.182929   \n",
       "guests_included                                       0.099660   \n",
       "availability_90                                       0.223432   \n",
       "calculated_host_listings_count                        1.000000   \n",
       "property_type_x0_Apartment                           -0.159715   \n",
       "\n",
       "                                property_type_x0_Apartment  \n",
       "accommodates                                     -0.118029  \n",
       "guests_included                                  -0.059833  \n",
       "availability_90                                  -0.178087  \n",
       "calculated_host_listings_count                   -0.159715  \n",
       "property_type_x0_Apartment                        1.000000  "
      ]
     },
     "execution_count": 200,
     "metadata": {},
     "output_type": "execute_result"
    }
   ],
   "source": [
    "pearson_corr_df = None\n",
    "\n",
    "pearson_corr_df.iloc[:5, :5]\n",
    "# \taccommodates\tguests_included\tavailability_90\tcalculated_host_listings_count\tproperty_type_x0_Apartment\n",
    "# accommodates\t1.000000\t0.502932\t0.148772\t0.182929\t-0.118029\n",
    "# guests_included\t0.502932\t1.000000\t0.099042\t0.099660\t-0.059833\n",
    "# availability_90\t0.148772\t0.099042\t1.000000\t0.223432\t-0.178087\n",
    "# calculated_host_listings_count\t0.182929\t0.099660\t0.223432\t1.000000\t-0.159715\n",
    "# property_type_x0_Apartment\t-0.118029\t-0.059833\t-0.178087\t-0.159715\t1.000000"
   ]
  },
  {
   "cell_type": "code",
   "execution_count": 201,
   "metadata": {},
   "outputs": [
    {
     "data": {
      "text/plain": [
       "(40, 40)"
      ]
     },
     "execution_count": 201,
     "metadata": {},
     "output_type": "execute_result"
    }
   ],
   "source": [
    "pearson_corr_df.shape\n",
    "\n",
    "# (40, 40)"
   ]
  },
  {
   "cell_type": "markdown",
   "metadata": {},
   "source": [
    "So with the above, we can see how well a line fits to each of the above pairs of features.  Next, for each feature, find the number of correlations over $.70$, and sort by this amount."
   ]
  },
  {
   "cell_type": "code",
   "execution_count": 202,
   "metadata": {},
   "outputs": [],
   "source": [
    "pearson_corr_amounts = None"
   ]
  },
  {
   "cell_type": "code",
   "execution_count": 231,
   "metadata": {},
   "outputs": [
    {
     "data": {
      "text/plain": [
       "last_reviewYear_is_na                7\n",
       "reviews_per_month_is_na              7\n",
       "review_scores_value_is_na            7\n",
       "review_scores_location_is_na         7\n",
       "review_scores_communication_is_na    7\n",
       "review_scores_rating_is_na           7\n",
       "first_reviewYear_is_na               7\n",
       "host_sinceYear_is_na                 3\n",
       "host_total_listings_count_is_na      3\n",
       "host_listings_count_is_na            3\n",
       "host_sinceDayofyear                  2\n",
       "first_reviewElapsed                  2\n",
       "dtype: int64"
      ]
     },
     "execution_count": 231,
     "metadata": {},
     "output_type": "execute_result"
    }
   ],
   "source": [
    "pearson_corr_amounts[:12]\n",
    "\n",
    "# last_reviewYear_is_na                7\n",
    "# reviews_per_month_is_na              7\n",
    "# review_scores_value_is_na            7\n",
    "# review_scores_location_is_na         7\n",
    "# review_scores_communication_is_na    7\n",
    "# review_scores_rating_is_na           7\n",
    "# first_reviewYear_is_na               7\n",
    "# host_sinceYear_is_na                 3\n",
    "# host_total_listings_count_is_na      3\n",
    "# host_listings_count_is_na            3\n",
    "# host_sinceDayofyear                  2\n",
    "# first_reviewElapsed                  2\n",
    "# dtype: int64"
   ]
  },
  {
   "cell_type": "markdown",
   "metadata": {},
   "source": [
    "We can see that a lot of our na columns are correlated with each other.  Let's start by removing the columns with that have value of 7.  We can leave one of them there, so that the information is still captured in that one column."
   ]
  },
  {
   "cell_type": "markdown",
   "metadata": {},
   "source": [
    "Select the columns with a count equal to 7, drop them from our columns, train a model, and check the score on the validation set."
   ]
  },
  {
   "cell_type": "code",
   "execution_count": 194,
   "metadata": {},
   "outputs": [
    {
     "data": {
      "text/plain": [
       "['last_reviewYear_is_na',\n",
       " 'reviews_per_month_is_na',\n",
       " 'review_scores_value_is_na',\n",
       " 'review_scores_location_is_na',\n",
       " 'review_scores_communication_is_na',\n",
       " 'review_scores_rating_is_na',\n",
       " 'first_reviewYear_is_na']"
      ]
     },
     "execution_count": 194,
     "metadata": {},
     "output_type": "execute_result"
    }
   ],
   "source": [
    "pearson_corr_cols = None\n",
    "\n",
    "# ['last_reviewYear_is_na',\n",
    "#  'reviews_per_month_is_na',\n",
    "#  'review_scores_value_is_na',\n",
    "#  'review_scores_location_is_na',\n",
    "#  'review_scores_communication_is_na',\n",
    "#  'review_scores_rating_is_na',\n",
    "#  'first_reviewYear_is_na']"
   ]
  },
  {
   "cell_type": "code",
   "execution_count": 233,
   "metadata": {},
   "outputs": [],
   "source": [
    "X_train_removed_pearson = None\n",
    "X_validate_removed_pearson = None"
   ]
  },
  {
   "cell_type": "code",
   "execution_count": 234,
   "metadata": {},
   "outputs": [
    {
     "data": {
      "text/plain": [
       "0.4848176620843354"
      ]
     },
     "execution_count": 234,
     "metadata": {},
     "output_type": "execute_result"
    }
   ],
   "source": [
    "\n",
    "# 0.4848176620843354"
   ]
  },
  {
   "cell_type": "code",
   "execution_count": 236,
   "metadata": {},
   "outputs": [
    {
     "data": {
      "text/plain": [
       "(13464, 34)"
      ]
     },
     "execution_count": 236,
     "metadata": {},
     "output_type": "execute_result"
    }
   ],
   "source": [
    "X_train_removed_pearson.shape\n",
    "# (13464, 34)"
   ]
  },
  {
   "cell_type": "markdown",
   "metadata": {},
   "source": [
    "Ok, with this reduced model, for each feature, let's check the number of correlations above .70 for the spearman correlation.  First find the spearman correlation between each of the remaining features."
   ]
  },
  {
   "cell_type": "code",
   "execution_count": 245,
   "metadata": {},
   "outputs": [],
   "source": [
    "spearman_corr_df = None"
   ]
  },
  {
   "cell_type": "code",
   "execution_count": 246,
   "metadata": {},
   "outputs": [
    {
     "data": {
      "text/html": [
       "<div>\n",
       "<style scoped>\n",
       "    .dataframe tbody tr th:only-of-type {\n",
       "        vertical-align: middle;\n",
       "    }\n",
       "\n",
       "    .dataframe tbody tr th {\n",
       "        vertical-align: top;\n",
       "    }\n",
       "\n",
       "    .dataframe thead th {\n",
       "        text-align: right;\n",
       "    }\n",
       "</style>\n",
       "<table border=\"1\" class=\"dataframe\">\n",
       "  <thead>\n",
       "    <tr style=\"text-align: right;\">\n",
       "      <th></th>\n",
       "      <th>accommodates</th>\n",
       "      <th>guests_included</th>\n",
       "      <th>availability_90</th>\n",
       "      <th>calculated_host_listings_count</th>\n",
       "      <th>property_type_x0_Apartment</th>\n",
       "      <th>room_type_x0_Entire home/apt</th>\n",
       "      <th>cancellation_policy_x0_flexible</th>\n",
       "      <th>cancellation_policy_x0_moderate</th>\n",
       "      <th>cancellation_policy_x0_strict_14_with_grace_period</th>\n",
       "      <th>neighbourhood_group_cleansed_x0_Friedrichshain-Kreuzberg</th>\n",
       "      <th>...</th>\n",
       "      <th>host_sinceDayofyear</th>\n",
       "      <th>first_reviewYear</th>\n",
       "      <th>first_reviewMonth</th>\n",
       "      <th>first_reviewDayofyear</th>\n",
       "      <th>last_reviewYear</th>\n",
       "      <th>last_reviewDayofyear</th>\n",
       "      <th>host_listings_count_is_na</th>\n",
       "      <th>host_total_listings_count_is_na</th>\n",
       "      <th>host_sinceYear_is_na</th>\n",
       "      <th>last_reviewYear_is_na</th>\n",
       "    </tr>\n",
       "  </thead>\n",
       "  <tbody>\n",
       "    <tr>\n",
       "      <th>accommodates</th>\n",
       "      <td>1.00000</td>\n",
       "      <td>0.44539</td>\n",
       "      <td>0.127489</td>\n",
       "      <td>0.131958</td>\n",
       "      <td>-0.073413</td>\n",
       "      <td>0.461801</td>\n",
       "      <td>-0.175517</td>\n",
       "      <td>0.034774</td>\n",
       "      <td>0.151342</td>\n",
       "      <td>-0.016655</td>\n",
       "      <td>...</td>\n",
       "      <td>-0.005133</td>\n",
       "      <td>-0.051330</td>\n",
       "      <td>-0.014691</td>\n",
       "      <td>-0.013655</td>\n",
       "      <td>0.085635</td>\n",
       "      <td>0.057022</td>\n",
       "      <td>0.005791</td>\n",
       "      <td>0.005791</td>\n",
       "      <td>0.005791</td>\n",
       "      <td>-0.092999</td>\n",
       "    </tr>\n",
       "    <tr>\n",
       "      <th>guests_included</th>\n",
       "      <td>0.44539</td>\n",
       "      <td>1.00000</td>\n",
       "      <td>0.121660</td>\n",
       "      <td>0.110110</td>\n",
       "      <td>-0.049294</td>\n",
       "      <td>0.317260</td>\n",
       "      <td>-0.222347</td>\n",
       "      <td>0.084096</td>\n",
       "      <td>0.147671</td>\n",
       "      <td>-0.002118</td>\n",
       "      <td>...</td>\n",
       "      <td>0.001708</td>\n",
       "      <td>-0.096877</td>\n",
       "      <td>-0.020118</td>\n",
       "      <td>-0.019819</td>\n",
       "      <td>0.092963</td>\n",
       "      <td>0.070199</td>\n",
       "      <td>0.004369</td>\n",
       "      <td>0.004369</td>\n",
       "      <td>0.004369</td>\n",
       "      <td>-0.104033</td>\n",
       "    </tr>\n",
       "  </tbody>\n",
       "</table>\n",
       "<p>2 rows × 34 columns</p>\n",
       "</div>"
      ],
      "text/plain": [
       "                 accommodates  guests_included  availability_90  \\\n",
       "accommodates          1.00000          0.44539         0.127489   \n",
       "guests_included       0.44539          1.00000         0.121660   \n",
       "\n",
       "                 calculated_host_listings_count  property_type_x0_Apartment  \\\n",
       "accommodates                           0.131958                   -0.073413   \n",
       "guests_included                        0.110110                   -0.049294   \n",
       "\n",
       "                 room_type_x0_Entire home/apt  \\\n",
       "accommodates                         0.461801   \n",
       "guests_included                      0.317260   \n",
       "\n",
       "                 cancellation_policy_x0_flexible  \\\n",
       "accommodates                           -0.175517   \n",
       "guests_included                        -0.222347   \n",
       "\n",
       "                 cancellation_policy_x0_moderate  \\\n",
       "accommodates                            0.034774   \n",
       "guests_included                         0.084096   \n",
       "\n",
       "                 cancellation_policy_x0_strict_14_with_grace_period  \\\n",
       "accommodates                                              0.151342    \n",
       "guests_included                                           0.147671    \n",
       "\n",
       "                 neighbourhood_group_cleansed_x0_Friedrichshain-Kreuzberg  \\\n",
       "accommodates                                             -0.016655          \n",
       "guests_included                                          -0.002118          \n",
       "\n",
       "                 ...  host_sinceDayofyear  first_reviewYear  \\\n",
       "accommodates     ...            -0.005133         -0.051330   \n",
       "guests_included  ...             0.001708         -0.096877   \n",
       "\n",
       "                 first_reviewMonth  first_reviewDayofyear  last_reviewYear  \\\n",
       "accommodates             -0.014691              -0.013655         0.085635   \n",
       "guests_included          -0.020118              -0.019819         0.092963   \n",
       "\n",
       "                 last_reviewDayofyear  host_listings_count_is_na  \\\n",
       "accommodates                 0.057022                   0.005791   \n",
       "guests_included              0.070199                   0.004369   \n",
       "\n",
       "                 host_total_listings_count_is_na  host_sinceYear_is_na  \\\n",
       "accommodates                            0.005791              0.005791   \n",
       "guests_included                         0.004369              0.004369   \n",
       "\n",
       "                 last_reviewYear_is_na  \n",
       "accommodates                 -0.092999  \n",
       "guests_included              -0.104033  \n",
       "\n",
       "[2 rows x 34 columns]"
      ]
     },
     "execution_count": 246,
     "metadata": {},
     "output_type": "execute_result"
    }
   ],
   "source": [
    "spearman_corr_df[:2]\n",
    "\n",
    "# \taccommodates\tguests_included\tavailability_90\tcalculated_host_listings_count\tproperty_type_x0_Apartment\troom_type_x0_Entire home/apt\tcancellation_policy_x0_flexible\tcancellation_policy_x0_moderate\tcancellation_policy_x0_strict_14_with_grace_period\tneighbourhood_group_cleansed_x0_Friedrichshain-Kreuzberg\t...\thost_sinceDayofyear\tfirst_reviewYear\tfirst_reviewMonth\tfirst_reviewDayofyear\tlast_reviewYear\tlast_reviewDayofyear\thost_listings_count_is_na\thost_total_listings_count_is_na\thost_sinceYear_is_na\tlast_reviewYear_is_na\n",
    "# accommodates\t1.00000\t0.44539\t0.127489\t0.131958\t-0.073413\t0.461801\t-0.175517\t0.034774\t0.151342\t-0.016655\t...\t-0.005133\t-0.051330\t-0.014691\t-0.013655\t0.085635\t0.057022\t0.005791\t0.005791\t0.005791\t-0.092999\n",
    "# guests_included\t0.44539\t1.00000\t0.121660\t0.110110\t-0.049294\t0.317260\t-0.222347\t0.084096\t0.147671\t-0.002118\t...\t0.001708\t-0.096877\t-0.020118\t-0.019819\t0.092963\t0.070199\t0.004369\t0.004369\t0.004369\t-0.104033\n",
    "# 2 rows × 34 columns"
   ]
  },
  {
   "cell_type": "code",
   "execution_count": 247,
   "metadata": {},
   "outputs": [
    {
     "data": {
      "text/plain": [
       "(34, 34)"
      ]
     },
     "execution_count": 247,
     "metadata": {},
     "output_type": "execute_result"
    }
   ],
   "source": [
    "spearman_corr_df.shape\n",
    "# (34, 34)"
   ]
  },
  {
   "cell_type": "markdown",
   "metadata": {},
   "source": [
    "Then, for each feature, calculate the number of spearment correlations above .7."
   ]
  },
  {
   "cell_type": "code",
   "execution_count": 248,
   "metadata": {},
   "outputs": [],
   "source": [
    "spearman_corr_amounts = None"
   ]
  },
  {
   "cell_type": "code",
   "execution_count": 250,
   "metadata": {},
   "outputs": [
    {
     "data": {
      "text/plain": [
       "host_total_listings_count_is_na    3\n",
       "host_listings_count_is_na          3\n",
       "host_sinceYear_is_na               3\n",
       "first_reviewElapsed                2\n",
       "host_sinceDayofyear                2\n",
       "host_sinceElapsed                  2\n",
       "last_reviewElapsed                 2\n",
       "host_sinceYear                     2\n",
       "host_sinceMonth                    2\n",
       "first_reviewYear                   2\n",
       "first_reviewMonth                  2\n",
       "first_reviewDayofyear              2\n",
       "last_reviewYear                    2\n",
       "dtype: int64"
      ]
     },
     "execution_count": 250,
     "metadata": {},
     "output_type": "execute_result"
    }
   ],
   "source": [
    "spearman_corr_amounts[spearman_corr_amounts > 1]\n",
    "# host_total_listings_count_is_na    3\n",
    "# host_listings_count_is_na          3\n",
    "# host_sinceYear_is_na               3\n",
    "# first_reviewElapsed                2\n",
    "# host_sinceDayofyear                2\n",
    "# host_sinceElapsed                  2\n",
    "# last_reviewElapsed                 2\n",
    "# host_sinceYear                     2\n",
    "# host_sinceMonth                    2\n",
    "# first_reviewYear                   2\n",
    "# first_reviewMonth                  2\n",
    "# first_reviewDayofyear              2\n",
    "# last_reviewYear                    2\n",
    "# dtype: int64"
   ]
  },
  {
   "cell_type": "markdown",
   "metadata": {},
   "source": [
    "Ok, we see a lot of repeated words in the above features -- `host_since`, `first_review`, `listings_count`.  Let's try removing these potentially duplicate features.  We'll hold onto the `elapsed` columns, and drop the duplicates.  This means we'll drop:\n",
    "* `host_total_listings_count_is_na`, \n",
    "* `host_sinceYear_is_na`, `host_sinceDayofyear`, `host_sinceYear`, `host_sinceMonth`\n",
    "* `first_reviewYear`, `first_reviewMonth`, `first_reviewDayofyear`\n",
    "* `last_reviewYear`"
   ]
  },
  {
   "cell_type": "code",
   "execution_count": 251,
   "metadata": {},
   "outputs": [],
   "source": [
    "spearman_corr_cols = ['host_total_listings_count_is_na', 'host_sinceYear_is_na', 'host_sinceDayofyear', 'host_sinceYear',\n",
    "                      'host_sinceMonth', 'first_reviewYear', 'first_reviewMonth', 'first_reviewDayofyear', 'last_reviewYear'\n",
    "                     ]\n"
   ]
  },
  {
   "cell_type": "code",
   "execution_count": 253,
   "metadata": {},
   "outputs": [],
   "source": [
    "X_train_removed_spearman = X_train_removed_pearson.drop(columns = spearman_corr_cols)"
   ]
  },
  {
   "cell_type": "code",
   "execution_count": 254,
   "metadata": {},
   "outputs": [],
   "source": [
    "X_validate_removed_spearman = X_validate_removed_pearson.drop(columns = spearman_corr_cols)"
   ]
  },
  {
   "cell_type": "code",
   "execution_count": 255,
   "metadata": {},
   "outputs": [
    {
     "data": {
      "text/plain": [
       "0.4824619939089561"
      ]
     },
     "execution_count": 255,
     "metadata": {},
     "output_type": "execute_result"
    }
   ],
   "source": [
    "from sklearn.linear_model import LinearRegression\n",
    "\n",
    "model = LinearRegression()\n",
    "model.fit(X_train_removed_spearman, y_train).score(X_validate_removed_spearman, y_validate)"
   ]
  },
  {
   "cell_type": "markdown",
   "metadata": {},
   "source": [
    "So we see the same score."
   ]
  },
  {
   "cell_type": "code",
   "execution_count": 256,
   "metadata": {},
   "outputs": [
    {
     "data": {
      "text/plain": [
       "(4488, 25)"
      ]
     },
     "execution_count": 256,
     "metadata": {},
     "output_type": "execute_result"
    }
   ],
   "source": [
    "X_validate_removed_spearman.shape"
   ]
  },
  {
   "cell_type": "markdown",
   "metadata": {},
   "source": [
    "And now we are down to 25 columns."
   ]
  },
  {
   "cell_type": "markdown",
   "metadata": {},
   "source": [
    "Let's take another look at our feature importances."
   ]
  },
  {
   "cell_type": "code",
   "execution_count": 257,
   "metadata": {},
   "outputs": [
    {
     "data": {
      "text/html": [
       "<div>\n",
       "<style scoped>\n",
       "    .dataframe tbody tr th:only-of-type {\n",
       "        vertical-align: middle;\n",
       "    }\n",
       "\n",
       "    .dataframe tbody tr th {\n",
       "        vertical-align: top;\n",
       "    }\n",
       "\n",
       "    .dataframe thead th {\n",
       "        text-align: right;\n",
       "    }\n",
       "</style>\n",
       "<table border=\"1\" class=\"dataframe\">\n",
       "  <thead>\n",
       "    <tr style=\"text-align: right;\">\n",
       "      <th></th>\n",
       "      <th>feature</th>\n",
       "      <th>weight</th>\n",
       "      <th>std</th>\n",
       "    </tr>\n",
       "  </thead>\n",
       "  <tbody>\n",
       "    <tr>\n",
       "      <th>0</th>\n",
       "      <td>last_reviewYear_is_na</td>\n",
       "      <td>37.105381</td>\n",
       "      <td>0.562376</td>\n",
       "    </tr>\n",
       "    <tr>\n",
       "      <th>1</th>\n",
       "      <td>last_reviewElapsed</td>\n",
       "      <td>31.327157</td>\n",
       "      <td>0.719975</td>\n",
       "    </tr>\n",
       "    <tr>\n",
       "      <th>2</th>\n",
       "      <td>cancellation_policy_x0_flexible</td>\n",
       "      <td>0.351787</td>\n",
       "      <td>0.004794</td>\n",
       "    </tr>\n",
       "    <tr>\n",
       "      <th>3</th>\n",
       "      <td>cancellation_policy_x0_moderate</td>\n",
       "      <td>0.287987</td>\n",
       "      <td>0.004986</td>\n",
       "    </tr>\n",
       "    <tr>\n",
       "      <th>4</th>\n",
       "      <td>cancellation_policy_x0_strict_14_with_grace_pe...</td>\n",
       "      <td>0.246420</td>\n",
       "      <td>0.008429</td>\n",
       "    </tr>\n",
       "    <tr>\n",
       "      <th>5</th>\n",
       "      <td>first_reviewElapsed</td>\n",
       "      <td>0.146035</td>\n",
       "      <td>0.006223</td>\n",
       "    </tr>\n",
       "    <tr>\n",
       "      <th>6</th>\n",
       "      <td>accommodates</td>\n",
       "      <td>0.121869</td>\n",
       "      <td>0.006517</td>\n",
       "    </tr>\n",
       "    <tr>\n",
       "      <th>7</th>\n",
       "      <td>room_type_x0_Entire home/apt</td>\n",
       "      <td>0.107334</td>\n",
       "      <td>0.003195</td>\n",
       "    </tr>\n",
       "    <tr>\n",
       "      <th>8</th>\n",
       "      <td>availability_90</td>\n",
       "      <td>0.044049</td>\n",
       "      <td>0.002377</td>\n",
       "    </tr>\n",
       "    <tr>\n",
       "      <th>9</th>\n",
       "      <td>bedrooms</td>\n",
       "      <td>0.043910</td>\n",
       "      <td>0.004688</td>\n",
       "    </tr>\n",
       "    <tr>\n",
       "      <th>10</th>\n",
       "      <td>neighbourhood_group_cleansed_x0_Mitte</td>\n",
       "      <td>0.042675</td>\n",
       "      <td>0.002293</td>\n",
       "    </tr>\n",
       "    <tr>\n",
       "      <th>11</th>\n",
       "      <td>guests_included</td>\n",
       "      <td>0.022818</td>\n",
       "      <td>0.002656</td>\n",
       "    </tr>\n",
       "    <tr>\n",
       "      <th>12</th>\n",
       "      <td>cleaning_fee</td>\n",
       "      <td>0.019698</td>\n",
       "      <td>0.001989</td>\n",
       "    </tr>\n",
       "    <tr>\n",
       "      <th>13</th>\n",
       "      <td>calculated_host_listings_count</td>\n",
       "      <td>0.018317</td>\n",
       "      <td>0.001854</td>\n",
       "    </tr>\n",
       "    <tr>\n",
       "      <th>14</th>\n",
       "      <td>bathrooms</td>\n",
       "      <td>0.014286</td>\n",
       "      <td>0.001257</td>\n",
       "    </tr>\n",
       "    <tr>\n",
       "      <th>15</th>\n",
       "      <td>neighbourhood_cleansed_x0_Moabit West</td>\n",
       "      <td>0.010190</td>\n",
       "      <td>0.001596</td>\n",
       "    </tr>\n",
       "    <tr>\n",
       "      <th>16</th>\n",
       "      <td>neighbourhood_cleansed_x0_Osloer Straße</td>\n",
       "      <td>0.009295</td>\n",
       "      <td>0.000989</td>\n",
       "    </tr>\n",
       "    <tr>\n",
       "      <th>17</th>\n",
       "      <td>neighbourhood_cleansed_x0_Parkviertel</td>\n",
       "      <td>0.008174</td>\n",
       "      <td>0.001900</td>\n",
       "    </tr>\n",
       "    <tr>\n",
       "      <th>18</th>\n",
       "      <td>neighbourhood_cleansed_x0_Wedding Zentrum</td>\n",
       "      <td>0.008113</td>\n",
       "      <td>0.000842</td>\n",
       "    </tr>\n",
       "    <tr>\n",
       "      <th>19</th>\n",
       "      <td>property_type_x0_Apartment</td>\n",
       "      <td>0.008064</td>\n",
       "      <td>0.001407</td>\n",
       "    </tr>\n",
       "    <tr>\n",
       "      <th>20</th>\n",
       "      <td>neighbourhood_group_cleansed_x0_Friedrichshain...</td>\n",
       "      <td>0.005882</td>\n",
       "      <td>0.001056</td>\n",
       "    </tr>\n",
       "    <tr>\n",
       "      <th>21</th>\n",
       "      <td>host_listings_count_is_na</td>\n",
       "      <td>0.001903</td>\n",
       "      <td>0.000609</td>\n",
       "    </tr>\n",
       "    <tr>\n",
       "      <th>22</th>\n",
       "      <td>host_sinceElapsed</td>\n",
       "      <td>0.000956</td>\n",
       "      <td>0.000586</td>\n",
       "    </tr>\n",
       "    <tr>\n",
       "      <th>23</th>\n",
       "      <td>last_reviewDayofyear</td>\n",
       "      <td>0.000414</td>\n",
       "      <td>0.000059</td>\n",
       "    </tr>\n",
       "    <tr>\n",
       "      <th>24</th>\n",
       "      <td>host_sinceDay</td>\n",
       "      <td>0.000007</td>\n",
       "      <td>0.000194</td>\n",
       "    </tr>\n",
       "  </tbody>\n",
       "</table>\n",
       "</div>"
      ],
      "text/plain": [
       "                                              feature     weight       std\n",
       "0                               last_reviewYear_is_na  37.105381  0.562376\n",
       "1                                  last_reviewElapsed  31.327157  0.719975\n",
       "2                     cancellation_policy_x0_flexible   0.351787  0.004794\n",
       "3                     cancellation_policy_x0_moderate   0.287987  0.004986\n",
       "4   cancellation_policy_x0_strict_14_with_grace_pe...   0.246420  0.008429\n",
       "5                                 first_reviewElapsed   0.146035  0.006223\n",
       "6                                        accommodates   0.121869  0.006517\n",
       "7                        room_type_x0_Entire home/apt   0.107334  0.003195\n",
       "8                                     availability_90   0.044049  0.002377\n",
       "9                                            bedrooms   0.043910  0.004688\n",
       "10              neighbourhood_group_cleansed_x0_Mitte   0.042675  0.002293\n",
       "11                                    guests_included   0.022818  0.002656\n",
       "12                                       cleaning_fee   0.019698  0.001989\n",
       "13                     calculated_host_listings_count   0.018317  0.001854\n",
       "14                                          bathrooms   0.014286  0.001257\n",
       "15              neighbourhood_cleansed_x0_Moabit West   0.010190  0.001596\n",
       "16            neighbourhood_cleansed_x0_Osloer Straße   0.009295  0.000989\n",
       "17              neighbourhood_cleansed_x0_Parkviertel   0.008174  0.001900\n",
       "18          neighbourhood_cleansed_x0_Wedding Zentrum   0.008113  0.000842\n",
       "19                         property_type_x0_Apartment   0.008064  0.001407\n",
       "20  neighbourhood_group_cleansed_x0_Friedrichshain...   0.005882  0.001056\n",
       "21                          host_listings_count_is_na   0.001903  0.000609\n",
       "22                                  host_sinceElapsed   0.000956  0.000586\n",
       "23                               last_reviewDayofyear   0.000414  0.000059\n",
       "24                                      host_sinceDay   0.000007  0.000194"
      ]
     },
     "execution_count": 257,
     "metadata": {},
     "output_type": "execute_result"
    }
   ],
   "source": [
    "from eli5.sklearn import PermutationImportance\n",
    "import eli5\n",
    "\n",
    "\n",
    "perm = PermutationImportance(model).fit(X_validate_removed_spearman, y_validate)\n",
    "\n",
    "exp_df = eli5.explain_weights_df(perm, feature_names = list(X_train_removed_spearman.columns))\n",
    "exp_df"
   ]
  },
  {
   "cell_type": "markdown",
   "metadata": {},
   "source": [
    "Select the bottom four features from the `exp_df` dataframe above."
   ]
  },
  {
   "cell_type": "code",
   "execution_count": 271,
   "metadata": {},
   "outputs": [],
   "source": [
    "to_drop = None"
   ]
  },
  {
   "cell_type": "markdown",
   "metadata": {},
   "source": [
    "Then we'll remove these features and see how we do."
   ]
  },
  {
   "cell_type": "code",
   "execution_count": 272,
   "metadata": {},
   "outputs": [
    {
     "data": {
      "text/plain": [
       "0.4825615791102038"
      ]
     },
     "execution_count": 272,
     "metadata": {},
     "output_type": "execute_result"
    }
   ],
   "source": [
    "from sklearn.linear_model import LinearRegression\n",
    "\n",
    "reduced_X_train = X_train_removed_spearman.drop(columns = to_drop)\n",
    "reduced_X_validate = X_validate_removed_spearman.drop(columns = to_drop)\n",
    "model = LinearRegression()\n",
    "model.fit(reduced_X_train, y_train).score(reduced_X_validate, y_validate)\n",
    "# 0.4825615791102038"
   ]
  },
  {
   "cell_type": "markdown",
   "metadata": {},
   "source": [
    "So now we are down to 21 features."
   ]
  },
  {
   "cell_type": "code",
   "execution_count": 286,
   "metadata": {},
   "outputs": [],
   "source": [
    "selectd_cols = exp_df[:21].feature.values\n",
    "# selectd_cols"
   ]
  },
  {
   "cell_type": "markdown",
   "metadata": {},
   "source": [
    "While we could now use this information to focus our feature engineering, let's stop here for now."
   ]
  },
  {
   "cell_type": "markdown",
   "metadata": {},
   "source": [
    "### Summary"
   ]
  },
  {
   "cell_type": "markdown",
   "metadata": {},
   "source": [
    "In this lesson, we reduced our features from 40 down to 21.  We did so by reducing features that were highly correlated with a large number of other features.  We discovered this by using both `pearson` and `spearman` correlation coefficients.  Then, after reducing our features with correlations, we took another look at our feature importances, and removed those with low scores, to find our model accuracy maintained."
   ]
  }
 ],
 "metadata": {
  "kernelspec": {
   "display_name": "Python 3",
   "language": "python",
   "name": "python3"
  },
  "language_info": {
   "codemirror_mode": {
    "name": "ipython",
    "version": 3
   },
   "file_extension": ".py",
   "mimetype": "text/x-python",
   "name": "python",
   "nbconvert_exporter": "python",
   "pygments_lexer": "ipython3",
   "version": "3.7.4"
  }
 },
 "nbformat": 4,
 "nbformat_minor": 4
}
