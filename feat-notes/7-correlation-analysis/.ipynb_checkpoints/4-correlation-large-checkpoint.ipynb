{
 "cells": [
  {
   "cell_type": "markdown",
   "metadata": {},
   "source": [
    "# Using Correlations"
   ]
  },
  {
   "cell_type": "markdown",
   "metadata": {},
   "source": [
    "### Introduction"
   ]
  },
  {
   "cell_type": "markdown",
   "metadata": {},
   "source": [
    "In the last sections, we saw how we can use recursive feature selection to reduce the number of features while retaining a relatively accurate model.  The mechanism of recursive feature selection is quite automatic - that is, we simply go one by one and try to see which feature remoal would least hurt our score.  \n",
    "\n",
    "The goal is to use some of our own judgment to find features which are multicollinear and remove them."
   ]
  },
  {
   "cell_type": "markdown",
   "metadata": {},
   "source": [
    "### Loading the Data"
   ]
  },
  {
   "cell_type": "code",
   "execution_count": 24,
   "metadata": {},
   "outputs": [],
   "source": [
    "top_forty = ['first_reviewElapsed', 'first_reviewYear_is_na', 'reviews_per_month_is_na', 'last_reviewElapsed',\n",
    "'last_reviewYear_is_na', 'first_reviewYear', 'host_sinceElapsed', 'host_sinceYear_is_na', 'host_total_listings_count_is_na', \n",
    "'host_listings_count_is_na', 'first_reviewDayofyear', 'host_sinceYear', 'host_sinceDayofyear', 'host_sinceMonth',\n",
    "'last_reviewYear', 'cancellation_policy_x0_flexible', 'cancellation_policy_x0_moderate', 'cancellation_policy_x0_strict_14_with_grace_period',\n",
    "'accommodates', 'room_type_x0_Entire home/apt', 'host_sinceDay', 'review_scores_communication_is_na', 'neighbourhood_group_cleansed_x0_Mitte', 'last_reviewDayofyear',\n",
    "'review_scores_rating_is_na', 'bedrooms', 'review_scores_value_is_na', 'first_reviewMonth', 'cleaning_fee',\n",
    "'neighbourhood_group_cleansed_x0_Friedrichshain-Kreuzberg', 'guests_included', 'availability_90',\n",
    "'neighbourhood_cleansed_x0_Moabit West', 'bathrooms', 'neighbourhood_cleansed_x0_Parkviertel', 'neighbourhood_cleansed_x0_Wedding Zentrum',\n",
    "'review_scores_location_is_na', 'neighbourhood_cleansed_x0_Osloer Straße', 'calculated_host_listings_count', 'property_type_x0_Apartment', 'price']"
   ]
  },
  {
   "cell_type": "code",
   "execution_count": 30,
   "metadata": {},
   "outputs": [
    {
     "ename": "FileNotFoundError",
     "evalue": "[Errno 2] File b'./listings_train_df.csv' does not exist: b'./listings_train_df.csv'",
     "output_type": "error",
     "traceback": [
      "\u001b[0;31m---------------------------------------------------------------------------\u001b[0m",
      "\u001b[0;31mFileNotFoundError\u001b[0m                         Traceback (most recent call last)",
      "\u001b[0;32m<ipython-input-30-8570b464c5a4>\u001b[0m in \u001b[0;36m<module>\u001b[0;34m\u001b[0m\n\u001b[1;32m      2\u001b[0m \u001b[0murl\u001b[0m \u001b[0;34m=\u001b[0m \u001b[0;34m\"./listings_train_df.csv\"\u001b[0m\u001b[0;34m\u001b[0m\u001b[0;34m\u001b[0m\u001b[0m\n\u001b[1;32m      3\u001b[0m \u001b[0;34m\u001b[0m\u001b[0m\n\u001b[0;32m----> 4\u001b[0;31m \u001b[0mtrain_df\u001b[0m \u001b[0;34m=\u001b[0m \u001b[0mpd\u001b[0m\u001b[0;34m.\u001b[0m\u001b[0mread_csv\u001b[0m\u001b[0;34m(\u001b[0m\u001b[0murl\u001b[0m\u001b[0;34m,\u001b[0m \u001b[0musecols\u001b[0m \u001b[0;34m=\u001b[0m \u001b[0mtop_forty\u001b[0m\u001b[0;34m)\u001b[0m\u001b[0;34m\u001b[0m\u001b[0;34m\u001b[0m\u001b[0m\n\u001b[0m",
      "\u001b[0;32m~/opt/anaconda3/lib/python3.7/site-packages/pandas/io/parsers.py\u001b[0m in \u001b[0;36mparser_f\u001b[0;34m(filepath_or_buffer, sep, delimiter, header, names, index_col, usecols, squeeze, prefix, mangle_dupe_cols, dtype, engine, converters, true_values, false_values, skipinitialspace, skiprows, skipfooter, nrows, na_values, keep_default_na, na_filter, verbose, skip_blank_lines, parse_dates, infer_datetime_format, keep_date_col, date_parser, dayfirst, iterator, chunksize, compression, thousands, decimal, lineterminator, quotechar, quoting, doublequote, escapechar, comment, encoding, dialect, tupleize_cols, error_bad_lines, warn_bad_lines, delim_whitespace, low_memory, memory_map, float_precision)\u001b[0m\n\u001b[1;32m    700\u001b[0m                     skip_blank_lines=skip_blank_lines)\n\u001b[1;32m    701\u001b[0m \u001b[0;34m\u001b[0m\u001b[0m\n\u001b[0;32m--> 702\u001b[0;31m         \u001b[0;32mreturn\u001b[0m \u001b[0m_read\u001b[0m\u001b[0;34m(\u001b[0m\u001b[0mfilepath_or_buffer\u001b[0m\u001b[0;34m,\u001b[0m \u001b[0mkwds\u001b[0m\u001b[0;34m)\u001b[0m\u001b[0;34m\u001b[0m\u001b[0;34m\u001b[0m\u001b[0m\n\u001b[0m\u001b[1;32m    703\u001b[0m \u001b[0;34m\u001b[0m\u001b[0m\n\u001b[1;32m    704\u001b[0m     \u001b[0mparser_f\u001b[0m\u001b[0;34m.\u001b[0m\u001b[0m__name__\u001b[0m \u001b[0;34m=\u001b[0m \u001b[0mname\u001b[0m\u001b[0;34m\u001b[0m\u001b[0;34m\u001b[0m\u001b[0m\n",
      "\u001b[0;32m~/opt/anaconda3/lib/python3.7/site-packages/pandas/io/parsers.py\u001b[0m in \u001b[0;36m_read\u001b[0;34m(filepath_or_buffer, kwds)\u001b[0m\n\u001b[1;32m    427\u001b[0m \u001b[0;34m\u001b[0m\u001b[0m\n\u001b[1;32m    428\u001b[0m     \u001b[0;31m# Create the parser.\u001b[0m\u001b[0;34m\u001b[0m\u001b[0;34m\u001b[0m\u001b[0;34m\u001b[0m\u001b[0m\n\u001b[0;32m--> 429\u001b[0;31m     \u001b[0mparser\u001b[0m \u001b[0;34m=\u001b[0m \u001b[0mTextFileReader\u001b[0m\u001b[0;34m(\u001b[0m\u001b[0mfilepath_or_buffer\u001b[0m\u001b[0;34m,\u001b[0m \u001b[0;34m**\u001b[0m\u001b[0mkwds\u001b[0m\u001b[0;34m)\u001b[0m\u001b[0;34m\u001b[0m\u001b[0;34m\u001b[0m\u001b[0m\n\u001b[0m\u001b[1;32m    430\u001b[0m \u001b[0;34m\u001b[0m\u001b[0m\n\u001b[1;32m    431\u001b[0m     \u001b[0;32mif\u001b[0m \u001b[0mchunksize\u001b[0m \u001b[0;32mor\u001b[0m \u001b[0miterator\u001b[0m\u001b[0;34m:\u001b[0m\u001b[0;34m\u001b[0m\u001b[0;34m\u001b[0m\u001b[0m\n",
      "\u001b[0;32m~/opt/anaconda3/lib/python3.7/site-packages/pandas/io/parsers.py\u001b[0m in \u001b[0;36m__init__\u001b[0;34m(self, f, engine, **kwds)\u001b[0m\n\u001b[1;32m    893\u001b[0m             \u001b[0mself\u001b[0m\u001b[0;34m.\u001b[0m\u001b[0moptions\u001b[0m\u001b[0;34m[\u001b[0m\u001b[0;34m'has_index_names'\u001b[0m\u001b[0;34m]\u001b[0m \u001b[0;34m=\u001b[0m \u001b[0mkwds\u001b[0m\u001b[0;34m[\u001b[0m\u001b[0;34m'has_index_names'\u001b[0m\u001b[0;34m]\u001b[0m\u001b[0;34m\u001b[0m\u001b[0;34m\u001b[0m\u001b[0m\n\u001b[1;32m    894\u001b[0m \u001b[0;34m\u001b[0m\u001b[0m\n\u001b[0;32m--> 895\u001b[0;31m         \u001b[0mself\u001b[0m\u001b[0;34m.\u001b[0m\u001b[0m_make_engine\u001b[0m\u001b[0;34m(\u001b[0m\u001b[0mself\u001b[0m\u001b[0;34m.\u001b[0m\u001b[0mengine\u001b[0m\u001b[0;34m)\u001b[0m\u001b[0;34m\u001b[0m\u001b[0;34m\u001b[0m\u001b[0m\n\u001b[0m\u001b[1;32m    896\u001b[0m \u001b[0;34m\u001b[0m\u001b[0m\n\u001b[1;32m    897\u001b[0m     \u001b[0;32mdef\u001b[0m \u001b[0mclose\u001b[0m\u001b[0;34m(\u001b[0m\u001b[0mself\u001b[0m\u001b[0;34m)\u001b[0m\u001b[0;34m:\u001b[0m\u001b[0;34m\u001b[0m\u001b[0;34m\u001b[0m\u001b[0m\n",
      "\u001b[0;32m~/opt/anaconda3/lib/python3.7/site-packages/pandas/io/parsers.py\u001b[0m in \u001b[0;36m_make_engine\u001b[0;34m(self, engine)\u001b[0m\n\u001b[1;32m   1120\u001b[0m     \u001b[0;32mdef\u001b[0m \u001b[0m_make_engine\u001b[0m\u001b[0;34m(\u001b[0m\u001b[0mself\u001b[0m\u001b[0;34m,\u001b[0m \u001b[0mengine\u001b[0m\u001b[0;34m=\u001b[0m\u001b[0;34m'c'\u001b[0m\u001b[0;34m)\u001b[0m\u001b[0;34m:\u001b[0m\u001b[0;34m\u001b[0m\u001b[0;34m\u001b[0m\u001b[0m\n\u001b[1;32m   1121\u001b[0m         \u001b[0;32mif\u001b[0m \u001b[0mengine\u001b[0m \u001b[0;34m==\u001b[0m \u001b[0;34m'c'\u001b[0m\u001b[0;34m:\u001b[0m\u001b[0;34m\u001b[0m\u001b[0;34m\u001b[0m\u001b[0m\n\u001b[0;32m-> 1122\u001b[0;31m             \u001b[0mself\u001b[0m\u001b[0;34m.\u001b[0m\u001b[0m_engine\u001b[0m \u001b[0;34m=\u001b[0m \u001b[0mCParserWrapper\u001b[0m\u001b[0;34m(\u001b[0m\u001b[0mself\u001b[0m\u001b[0;34m.\u001b[0m\u001b[0mf\u001b[0m\u001b[0;34m,\u001b[0m \u001b[0;34m**\u001b[0m\u001b[0mself\u001b[0m\u001b[0;34m.\u001b[0m\u001b[0moptions\u001b[0m\u001b[0;34m)\u001b[0m\u001b[0;34m\u001b[0m\u001b[0;34m\u001b[0m\u001b[0m\n\u001b[0m\u001b[1;32m   1123\u001b[0m         \u001b[0;32melse\u001b[0m\u001b[0;34m:\u001b[0m\u001b[0;34m\u001b[0m\u001b[0;34m\u001b[0m\u001b[0m\n\u001b[1;32m   1124\u001b[0m             \u001b[0;32mif\u001b[0m \u001b[0mengine\u001b[0m \u001b[0;34m==\u001b[0m \u001b[0;34m'python'\u001b[0m\u001b[0;34m:\u001b[0m\u001b[0;34m\u001b[0m\u001b[0;34m\u001b[0m\u001b[0m\n",
      "\u001b[0;32m~/opt/anaconda3/lib/python3.7/site-packages/pandas/io/parsers.py\u001b[0m in \u001b[0;36m__init__\u001b[0;34m(self, src, **kwds)\u001b[0m\n\u001b[1;32m   1851\u001b[0m         \u001b[0mkwds\u001b[0m\u001b[0;34m[\u001b[0m\u001b[0;34m'usecols'\u001b[0m\u001b[0;34m]\u001b[0m \u001b[0;34m=\u001b[0m \u001b[0mself\u001b[0m\u001b[0;34m.\u001b[0m\u001b[0musecols\u001b[0m\u001b[0;34m\u001b[0m\u001b[0;34m\u001b[0m\u001b[0m\n\u001b[1;32m   1852\u001b[0m \u001b[0;34m\u001b[0m\u001b[0m\n\u001b[0;32m-> 1853\u001b[0;31m         \u001b[0mself\u001b[0m\u001b[0;34m.\u001b[0m\u001b[0m_reader\u001b[0m \u001b[0;34m=\u001b[0m \u001b[0mparsers\u001b[0m\u001b[0;34m.\u001b[0m\u001b[0mTextReader\u001b[0m\u001b[0;34m(\u001b[0m\u001b[0msrc\u001b[0m\u001b[0;34m,\u001b[0m \u001b[0;34m**\u001b[0m\u001b[0mkwds\u001b[0m\u001b[0;34m)\u001b[0m\u001b[0;34m\u001b[0m\u001b[0;34m\u001b[0m\u001b[0m\n\u001b[0m\u001b[1;32m   1854\u001b[0m         \u001b[0mself\u001b[0m\u001b[0;34m.\u001b[0m\u001b[0munnamed_cols\u001b[0m \u001b[0;34m=\u001b[0m \u001b[0mself\u001b[0m\u001b[0;34m.\u001b[0m\u001b[0m_reader\u001b[0m\u001b[0;34m.\u001b[0m\u001b[0munnamed_cols\u001b[0m\u001b[0;34m\u001b[0m\u001b[0;34m\u001b[0m\u001b[0m\n\u001b[1;32m   1855\u001b[0m \u001b[0;34m\u001b[0m\u001b[0m\n",
      "\u001b[0;32mpandas/_libs/parsers.pyx\u001b[0m in \u001b[0;36mpandas._libs.parsers.TextReader.__cinit__\u001b[0;34m()\u001b[0m\n",
      "\u001b[0;32mpandas/_libs/parsers.pyx\u001b[0m in \u001b[0;36mpandas._libs.parsers.TextReader._setup_parser_source\u001b[0;34m()\u001b[0m\n",
      "\u001b[0;31mFileNotFoundError\u001b[0m: [Errno 2] File b'./listings_train_df.csv' does not exist: b'./listings_train_df.csv'"
     ]
    }
   ],
   "source": [
    "import pandas as pd\n",
    "url = \"./listings_train_df.csv\"\n",
    "\n",
    "train_df = pd.read_csv(url, usecols = top_forty)"
   ]
  },
  {
   "cell_type": "markdown",
   "metadata": {},
   "source": [
    "### Becoming more picky"
   ]
  },
  {
   "cell_type": "code",
   "execution_count": 11,
   "metadata": {},
   "outputs": [],
   "source": [
    "bool_cols = X_train_pruned.select_dtypes(include='bool').columns"
   ]
  },
  {
   "cell_type": "code",
   "execution_count": 12,
   "metadata": {},
   "outputs": [
    {
     "name": "stderr",
     "output_type": "stream",
     "text": [
      "/Users/jeff/opt/anaconda3/lib/python3.7/site-packages/pandas/core/frame.py:3391: SettingWithCopyWarning: \n",
      "A value is trying to be set on a copy of a slice from a DataFrame.\n",
      "Try using .loc[row_indexer,col_indexer] = value instead\n",
      "\n",
      "See the caveats in the documentation: http://pandas.pydata.org/pandas-docs/stable/indexing.html#indexing-view-versus-copy\n",
      "  self[k1] = value[k2]\n"
     ]
    }
   ],
   "source": [
    "X_train_pruned[bool_cols] = X_train_pruned[bool_cols].astype(int)"
   ]
  },
  {
   "cell_type": "code",
   "execution_count": 13,
   "metadata": {},
   "outputs": [],
   "source": [
    "subsampled_df = X_train_pruned.sample(3000)"
   ]
  },
  {
   "cell_type": "code",
   "execution_count": 14,
   "metadata": {},
   "outputs": [
    {
     "name": "stdout",
     "output_type": "stream",
     "text": [
      "scatter matrix\n"
     ]
    }
   ],
   "source": [
    "# pd.plotting.scatter_matrix(subsampled_df)\n",
    "print('scatter matrix')"
   ]
  },
  {
   "cell_type": "markdown",
   "metadata": {},
   "source": [
    "A problem we have is that we still have a lot of features.  So we take a guess that we could have overlap in the geographic features.  So we gather together all of the columns that seem to have a geographic component."
   ]
  },
  {
   "cell_type": "code",
   "execution_count": 15,
   "metadata": {},
   "outputs": [],
   "source": [
    "\n",
    "neighborhood_cols = [col for col in X_train_pruned.columns if 'neighbourhood' in col]\n",
    "zip_cols = [col for col in X_train_pruned.columns if 'zip' in col]\n",
    "berlin_cols = [col for col in X_train_pruned.columns if 'berlin' in col]\n",
    "geo_cols = neighborhood_cols + zip_cols + berlin_cols"
   ]
  },
  {
   "cell_type": "code",
   "execution_count": 16,
   "metadata": {},
   "outputs": [
    {
     "data": {
      "text/plain": [
       "16"
      ]
     },
     "execution_count": 16,
     "metadata": {},
     "output_type": "execute_result"
    }
   ],
   "source": [
    "len(geo_cols)"
   ]
  },
  {
   "cell_type": "markdown",
   "metadata": {},
   "source": [
    "We see that almost half of our columns are geographic."
   ]
  },
  {
   "cell_type": "code",
   "execution_count": 17,
   "metadata": {},
   "outputs": [],
   "source": [
    "geo_df = X_train_pruned.loc[:, geo_cols]"
   ]
  },
  {
   "cell_type": "code",
   "execution_count": 18,
   "metadata": {},
   "outputs": [],
   "source": [
    "subsampled_geo = geo_df.sample(3000)"
   ]
  },
  {
   "cell_type": "code",
   "execution_count": 23,
   "metadata": {},
   "outputs": [
    {
     "data": {
      "text/html": [
       "<div>\n",
       "<style scoped>\n",
       "    .dataframe tbody tr th:only-of-type {\n",
       "        vertical-align: middle;\n",
       "    }\n",
       "\n",
       "    .dataframe tbody tr th {\n",
       "        vertical-align: top;\n",
       "    }\n",
       "\n",
       "    .dataframe thead th {\n",
       "        text-align: right;\n",
       "    }\n",
       "</style>\n",
       "<table border=\"1\" class=\"dataframe\">\n",
       "  <thead>\n",
       "    <tr style=\"text-align: right;\">\n",
       "      <th></th>\n",
       "      <th>neighbourhood_group_cleansed_Mitte</th>\n",
       "      <th>neighbourhood_group_cleansed_Neukölln</th>\n",
       "      <th>neighbourhood_group_cleansed_Reinickendorf</th>\n",
       "      <th>neighbourhood_group_cleansed_other</th>\n",
       "      <th>neighbourhood_Wedding</th>\n",
       "      <th>neighbourhood_Wilmersdorf</th>\n",
       "      <th>host_neighbourhood_Wilmersdorf</th>\n",
       "      <th>neighbourhood_cleansed_Moabit Ost</th>\n",
       "      <th>neighbourhood_cleansed_Moabit West</th>\n",
       "      <th>neighbourhood_cleansed_Parkviertel</th>\n",
       "      <th>zipcode_is_na</th>\n",
       "      <th>zip_dists_1082</th>\n",
       "      <th>zip_dists_1335</th>\n",
       "      <th>zip_dists_other</th>\n",
       "      <th>state_is_berlin</th>\n",
       "      <th>street_is_berlin_berlin_germany</th>\n",
       "    </tr>\n",
       "  </thead>\n",
       "  <tbody>\n",
       "    <tr>\n",
       "      <th>neighbourhood_group_cleansed_Mitte</th>\n",
       "      <td>True</td>\n",
       "      <td>False</td>\n",
       "      <td>False</td>\n",
       "      <td>False</td>\n",
       "      <td>False</td>\n",
       "      <td>False</td>\n",
       "      <td>False</td>\n",
       "      <td>False</td>\n",
       "      <td>False</td>\n",
       "      <td>False</td>\n",
       "      <td>False</td>\n",
       "      <td>False</td>\n",
       "      <td>False</td>\n",
       "      <td>False</td>\n",
       "      <td>False</td>\n",
       "      <td>False</td>\n",
       "    </tr>\n",
       "    <tr>\n",
       "      <th>neighbourhood_group_cleansed_Neukölln</th>\n",
       "      <td>False</td>\n",
       "      <td>True</td>\n",
       "      <td>False</td>\n",
       "      <td>False</td>\n",
       "      <td>False</td>\n",
       "      <td>False</td>\n",
       "      <td>False</td>\n",
       "      <td>False</td>\n",
       "      <td>False</td>\n",
       "      <td>False</td>\n",
       "      <td>False</td>\n",
       "      <td>False</td>\n",
       "      <td>False</td>\n",
       "      <td>False</td>\n",
       "      <td>False</td>\n",
       "      <td>False</td>\n",
       "    </tr>\n",
       "    <tr>\n",
       "      <th>neighbourhood_group_cleansed_Reinickendorf</th>\n",
       "      <td>False</td>\n",
       "      <td>False</td>\n",
       "      <td>True</td>\n",
       "      <td>False</td>\n",
       "      <td>False</td>\n",
       "      <td>False</td>\n",
       "      <td>False</td>\n",
       "      <td>False</td>\n",
       "      <td>False</td>\n",
       "      <td>False</td>\n",
       "      <td>False</td>\n",
       "      <td>False</td>\n",
       "      <td>False</td>\n",
       "      <td>False</td>\n",
       "      <td>False</td>\n",
       "      <td>False</td>\n",
       "    </tr>\n",
       "    <tr>\n",
       "      <th>neighbourhood_group_cleansed_other</th>\n",
       "      <td>False</td>\n",
       "      <td>False</td>\n",
       "      <td>False</td>\n",
       "      <td>True</td>\n",
       "      <td>False</td>\n",
       "      <td>False</td>\n",
       "      <td>False</td>\n",
       "      <td>False</td>\n",
       "      <td>False</td>\n",
       "      <td>False</td>\n",
       "      <td>False</td>\n",
       "      <td>False</td>\n",
       "      <td>False</td>\n",
       "      <td>False</td>\n",
       "      <td>False</td>\n",
       "      <td>False</td>\n",
       "    </tr>\n",
       "    <tr>\n",
       "      <th>neighbourhood_Wedding</th>\n",
       "      <td>False</td>\n",
       "      <td>False</td>\n",
       "      <td>False</td>\n",
       "      <td>False</td>\n",
       "      <td>True</td>\n",
       "      <td>False</td>\n",
       "      <td>False</td>\n",
       "      <td>False</td>\n",
       "      <td>False</td>\n",
       "      <td>False</td>\n",
       "      <td>False</td>\n",
       "      <td>False</td>\n",
       "      <td>True</td>\n",
       "      <td>False</td>\n",
       "      <td>False</td>\n",
       "      <td>False</td>\n",
       "    </tr>\n",
       "    <tr>\n",
       "      <th>neighbourhood_Wilmersdorf</th>\n",
       "      <td>False</td>\n",
       "      <td>False</td>\n",
       "      <td>False</td>\n",
       "      <td>False</td>\n",
       "      <td>False</td>\n",
       "      <td>True</td>\n",
       "      <td>True</td>\n",
       "      <td>False</td>\n",
       "      <td>False</td>\n",
       "      <td>False</td>\n",
       "      <td>False</td>\n",
       "      <td>False</td>\n",
       "      <td>False</td>\n",
       "      <td>False</td>\n",
       "      <td>False</td>\n",
       "      <td>False</td>\n",
       "    </tr>\n",
       "    <tr>\n",
       "      <th>host_neighbourhood_Wilmersdorf</th>\n",
       "      <td>False</td>\n",
       "      <td>False</td>\n",
       "      <td>False</td>\n",
       "      <td>False</td>\n",
       "      <td>False</td>\n",
       "      <td>True</td>\n",
       "      <td>True</td>\n",
       "      <td>False</td>\n",
       "      <td>False</td>\n",
       "      <td>False</td>\n",
       "      <td>False</td>\n",
       "      <td>False</td>\n",
       "      <td>False</td>\n",
       "      <td>False</td>\n",
       "      <td>False</td>\n",
       "      <td>False</td>\n",
       "    </tr>\n",
       "    <tr>\n",
       "      <th>neighbourhood_cleansed_Moabit Ost</th>\n",
       "      <td>False</td>\n",
       "      <td>False</td>\n",
       "      <td>False</td>\n",
       "      <td>False</td>\n",
       "      <td>False</td>\n",
       "      <td>False</td>\n",
       "      <td>False</td>\n",
       "      <td>True</td>\n",
       "      <td>False</td>\n",
       "      <td>False</td>\n",
       "      <td>False</td>\n",
       "      <td>False</td>\n",
       "      <td>False</td>\n",
       "      <td>False</td>\n",
       "      <td>False</td>\n",
       "      <td>False</td>\n",
       "    </tr>\n",
       "    <tr>\n",
       "      <th>neighbourhood_cleansed_Moabit West</th>\n",
       "      <td>False</td>\n",
       "      <td>False</td>\n",
       "      <td>False</td>\n",
       "      <td>False</td>\n",
       "      <td>False</td>\n",
       "      <td>False</td>\n",
       "      <td>False</td>\n",
       "      <td>False</td>\n",
       "      <td>True</td>\n",
       "      <td>False</td>\n",
       "      <td>False</td>\n",
       "      <td>False</td>\n",
       "      <td>False</td>\n",
       "      <td>False</td>\n",
       "      <td>False</td>\n",
       "      <td>False</td>\n",
       "    </tr>\n",
       "    <tr>\n",
       "      <th>neighbourhood_cleansed_Parkviertel</th>\n",
       "      <td>False</td>\n",
       "      <td>False</td>\n",
       "      <td>False</td>\n",
       "      <td>False</td>\n",
       "      <td>False</td>\n",
       "      <td>False</td>\n",
       "      <td>False</td>\n",
       "      <td>False</td>\n",
       "      <td>False</td>\n",
       "      <td>True</td>\n",
       "      <td>False</td>\n",
       "      <td>False</td>\n",
       "      <td>False</td>\n",
       "      <td>False</td>\n",
       "      <td>False</td>\n",
       "      <td>False</td>\n",
       "    </tr>\n",
       "    <tr>\n",
       "      <th>zipcode_is_na</th>\n",
       "      <td>False</td>\n",
       "      <td>False</td>\n",
       "      <td>False</td>\n",
       "      <td>False</td>\n",
       "      <td>False</td>\n",
       "      <td>False</td>\n",
       "      <td>False</td>\n",
       "      <td>False</td>\n",
       "      <td>False</td>\n",
       "      <td>False</td>\n",
       "      <td>True</td>\n",
       "      <td>False</td>\n",
       "      <td>False</td>\n",
       "      <td>False</td>\n",
       "      <td>False</td>\n",
       "      <td>False</td>\n",
       "    </tr>\n",
       "    <tr>\n",
       "      <th>zip_dists_1082</th>\n",
       "      <td>False</td>\n",
       "      <td>False</td>\n",
       "      <td>False</td>\n",
       "      <td>False</td>\n",
       "      <td>False</td>\n",
       "      <td>False</td>\n",
       "      <td>False</td>\n",
       "      <td>False</td>\n",
       "      <td>False</td>\n",
       "      <td>False</td>\n",
       "      <td>False</td>\n",
       "      <td>True</td>\n",
       "      <td>False</td>\n",
       "      <td>False</td>\n",
       "      <td>False</td>\n",
       "      <td>False</td>\n",
       "    </tr>\n",
       "    <tr>\n",
       "      <th>zip_dists_1335</th>\n",
       "      <td>False</td>\n",
       "      <td>False</td>\n",
       "      <td>False</td>\n",
       "      <td>False</td>\n",
       "      <td>True</td>\n",
       "      <td>False</td>\n",
       "      <td>False</td>\n",
       "      <td>False</td>\n",
       "      <td>False</td>\n",
       "      <td>False</td>\n",
       "      <td>False</td>\n",
       "      <td>False</td>\n",
       "      <td>True</td>\n",
       "      <td>False</td>\n",
       "      <td>False</td>\n",
       "      <td>False</td>\n",
       "    </tr>\n",
       "    <tr>\n",
       "      <th>zip_dists_other</th>\n",
       "      <td>False</td>\n",
       "      <td>False</td>\n",
       "      <td>False</td>\n",
       "      <td>False</td>\n",
       "      <td>False</td>\n",
       "      <td>False</td>\n",
       "      <td>False</td>\n",
       "      <td>False</td>\n",
       "      <td>False</td>\n",
       "      <td>False</td>\n",
       "      <td>False</td>\n",
       "      <td>False</td>\n",
       "      <td>False</td>\n",
       "      <td>True</td>\n",
       "      <td>False</td>\n",
       "      <td>False</td>\n",
       "    </tr>\n",
       "    <tr>\n",
       "      <th>state_is_berlin</th>\n",
       "      <td>False</td>\n",
       "      <td>False</td>\n",
       "      <td>False</td>\n",
       "      <td>False</td>\n",
       "      <td>False</td>\n",
       "      <td>False</td>\n",
       "      <td>False</td>\n",
       "      <td>False</td>\n",
       "      <td>False</td>\n",
       "      <td>False</td>\n",
       "      <td>False</td>\n",
       "      <td>False</td>\n",
       "      <td>False</td>\n",
       "      <td>False</td>\n",
       "      <td>True</td>\n",
       "      <td>True</td>\n",
       "    </tr>\n",
       "    <tr>\n",
       "      <th>street_is_berlin_berlin_germany</th>\n",
       "      <td>False</td>\n",
       "      <td>False</td>\n",
       "      <td>False</td>\n",
       "      <td>False</td>\n",
       "      <td>False</td>\n",
       "      <td>False</td>\n",
       "      <td>False</td>\n",
       "      <td>False</td>\n",
       "      <td>False</td>\n",
       "      <td>False</td>\n",
       "      <td>False</td>\n",
       "      <td>False</td>\n",
       "      <td>False</td>\n",
       "      <td>False</td>\n",
       "      <td>True</td>\n",
       "      <td>True</td>\n",
       "    </tr>\n",
       "  </tbody>\n",
       "</table>\n",
       "</div>"
      ],
      "text/plain": [
       "                                            neighbourhood_group_cleansed_Mitte  \\\n",
       "neighbourhood_group_cleansed_Mitte                                        True   \n",
       "neighbourhood_group_cleansed_Neukölln                                    False   \n",
       "neighbourhood_group_cleansed_Reinickendorf                               False   \n",
       "neighbourhood_group_cleansed_other                                       False   \n",
       "neighbourhood_Wedding                                                    False   \n",
       "neighbourhood_Wilmersdorf                                                False   \n",
       "host_neighbourhood_Wilmersdorf                                           False   \n",
       "neighbourhood_cleansed_Moabit Ost                                        False   \n",
       "neighbourhood_cleansed_Moabit West                                       False   \n",
       "neighbourhood_cleansed_Parkviertel                                       False   \n",
       "zipcode_is_na                                                            False   \n",
       "zip_dists_1082                                                           False   \n",
       "zip_dists_1335                                                           False   \n",
       "zip_dists_other                                                          False   \n",
       "state_is_berlin                                                          False   \n",
       "street_is_berlin_berlin_germany                                          False   \n",
       "\n",
       "                                            neighbourhood_group_cleansed_Neukölln  \\\n",
       "neighbourhood_group_cleansed_Mitte                                          False   \n",
       "neighbourhood_group_cleansed_Neukölln                                        True   \n",
       "neighbourhood_group_cleansed_Reinickendorf                                  False   \n",
       "neighbourhood_group_cleansed_other                                          False   \n",
       "neighbourhood_Wedding                                                       False   \n",
       "neighbourhood_Wilmersdorf                                                   False   \n",
       "host_neighbourhood_Wilmersdorf                                              False   \n",
       "neighbourhood_cleansed_Moabit Ost                                           False   \n",
       "neighbourhood_cleansed_Moabit West                                          False   \n",
       "neighbourhood_cleansed_Parkviertel                                          False   \n",
       "zipcode_is_na                                                               False   \n",
       "zip_dists_1082                                                              False   \n",
       "zip_dists_1335                                                              False   \n",
       "zip_dists_other                                                             False   \n",
       "state_is_berlin                                                             False   \n",
       "street_is_berlin_berlin_germany                                             False   \n",
       "\n",
       "                                            neighbourhood_group_cleansed_Reinickendorf  \\\n",
       "neighbourhood_group_cleansed_Mitte                                               False   \n",
       "neighbourhood_group_cleansed_Neukölln                                            False   \n",
       "neighbourhood_group_cleansed_Reinickendorf                                        True   \n",
       "neighbourhood_group_cleansed_other                                               False   \n",
       "neighbourhood_Wedding                                                            False   \n",
       "neighbourhood_Wilmersdorf                                                        False   \n",
       "host_neighbourhood_Wilmersdorf                                                   False   \n",
       "neighbourhood_cleansed_Moabit Ost                                                False   \n",
       "neighbourhood_cleansed_Moabit West                                               False   \n",
       "neighbourhood_cleansed_Parkviertel                                               False   \n",
       "zipcode_is_na                                                                    False   \n",
       "zip_dists_1082                                                                   False   \n",
       "zip_dists_1335                                                                   False   \n",
       "zip_dists_other                                                                  False   \n",
       "state_is_berlin                                                                  False   \n",
       "street_is_berlin_berlin_germany                                                  False   \n",
       "\n",
       "                                            neighbourhood_group_cleansed_other  \\\n",
       "neighbourhood_group_cleansed_Mitte                                       False   \n",
       "neighbourhood_group_cleansed_Neukölln                                    False   \n",
       "neighbourhood_group_cleansed_Reinickendorf                               False   \n",
       "neighbourhood_group_cleansed_other                                        True   \n",
       "neighbourhood_Wedding                                                    False   \n",
       "neighbourhood_Wilmersdorf                                                False   \n",
       "host_neighbourhood_Wilmersdorf                                           False   \n",
       "neighbourhood_cleansed_Moabit Ost                                        False   \n",
       "neighbourhood_cleansed_Moabit West                                       False   \n",
       "neighbourhood_cleansed_Parkviertel                                       False   \n",
       "zipcode_is_na                                                            False   \n",
       "zip_dists_1082                                                           False   \n",
       "zip_dists_1335                                                           False   \n",
       "zip_dists_other                                                          False   \n",
       "state_is_berlin                                                          False   \n",
       "street_is_berlin_berlin_germany                                          False   \n",
       "\n",
       "                                            neighbourhood_Wedding  \\\n",
       "neighbourhood_group_cleansed_Mitte                          False   \n",
       "neighbourhood_group_cleansed_Neukölln                       False   \n",
       "neighbourhood_group_cleansed_Reinickendorf                  False   \n",
       "neighbourhood_group_cleansed_other                          False   \n",
       "neighbourhood_Wedding                                        True   \n",
       "neighbourhood_Wilmersdorf                                   False   \n",
       "host_neighbourhood_Wilmersdorf                              False   \n",
       "neighbourhood_cleansed_Moabit Ost                           False   \n",
       "neighbourhood_cleansed_Moabit West                          False   \n",
       "neighbourhood_cleansed_Parkviertel                          False   \n",
       "zipcode_is_na                                               False   \n",
       "zip_dists_1082                                              False   \n",
       "zip_dists_1335                                               True   \n",
       "zip_dists_other                                             False   \n",
       "state_is_berlin                                             False   \n",
       "street_is_berlin_berlin_germany                             False   \n",
       "\n",
       "                                            neighbourhood_Wilmersdorf  \\\n",
       "neighbourhood_group_cleansed_Mitte                              False   \n",
       "neighbourhood_group_cleansed_Neukölln                           False   \n",
       "neighbourhood_group_cleansed_Reinickendorf                      False   \n",
       "neighbourhood_group_cleansed_other                              False   \n",
       "neighbourhood_Wedding                                           False   \n",
       "neighbourhood_Wilmersdorf                                        True   \n",
       "host_neighbourhood_Wilmersdorf                                   True   \n",
       "neighbourhood_cleansed_Moabit Ost                               False   \n",
       "neighbourhood_cleansed_Moabit West                              False   \n",
       "neighbourhood_cleansed_Parkviertel                              False   \n",
       "zipcode_is_na                                                   False   \n",
       "zip_dists_1082                                                  False   \n",
       "zip_dists_1335                                                  False   \n",
       "zip_dists_other                                                 False   \n",
       "state_is_berlin                                                 False   \n",
       "street_is_berlin_berlin_germany                                 False   \n",
       "\n",
       "                                            host_neighbourhood_Wilmersdorf  \\\n",
       "neighbourhood_group_cleansed_Mitte                                   False   \n",
       "neighbourhood_group_cleansed_Neukölln                                False   \n",
       "neighbourhood_group_cleansed_Reinickendorf                           False   \n",
       "neighbourhood_group_cleansed_other                                   False   \n",
       "neighbourhood_Wedding                                                False   \n",
       "neighbourhood_Wilmersdorf                                             True   \n",
       "host_neighbourhood_Wilmersdorf                                        True   \n",
       "neighbourhood_cleansed_Moabit Ost                                    False   \n",
       "neighbourhood_cleansed_Moabit West                                   False   \n",
       "neighbourhood_cleansed_Parkviertel                                   False   \n",
       "zipcode_is_na                                                        False   \n",
       "zip_dists_1082                                                       False   \n",
       "zip_dists_1335                                                       False   \n",
       "zip_dists_other                                                      False   \n",
       "state_is_berlin                                                      False   \n",
       "street_is_berlin_berlin_germany                                      False   \n",
       "\n",
       "                                            neighbourhood_cleansed_Moabit Ost  \\\n",
       "neighbourhood_group_cleansed_Mitte                                      False   \n",
       "neighbourhood_group_cleansed_Neukölln                                   False   \n",
       "neighbourhood_group_cleansed_Reinickendorf                              False   \n",
       "neighbourhood_group_cleansed_other                                      False   \n",
       "neighbourhood_Wedding                                                   False   \n",
       "neighbourhood_Wilmersdorf                                               False   \n",
       "host_neighbourhood_Wilmersdorf                                          False   \n",
       "neighbourhood_cleansed_Moabit Ost                                        True   \n",
       "neighbourhood_cleansed_Moabit West                                      False   \n",
       "neighbourhood_cleansed_Parkviertel                                      False   \n",
       "zipcode_is_na                                                           False   \n",
       "zip_dists_1082                                                          False   \n",
       "zip_dists_1335                                                          False   \n",
       "zip_dists_other                                                         False   \n",
       "state_is_berlin                                                         False   \n",
       "street_is_berlin_berlin_germany                                         False   \n",
       "\n",
       "                                            neighbourhood_cleansed_Moabit West  \\\n",
       "neighbourhood_group_cleansed_Mitte                                       False   \n",
       "neighbourhood_group_cleansed_Neukölln                                    False   \n",
       "neighbourhood_group_cleansed_Reinickendorf                               False   \n",
       "neighbourhood_group_cleansed_other                                       False   \n",
       "neighbourhood_Wedding                                                    False   \n",
       "neighbourhood_Wilmersdorf                                                False   \n",
       "host_neighbourhood_Wilmersdorf                                           False   \n",
       "neighbourhood_cleansed_Moabit Ost                                        False   \n",
       "neighbourhood_cleansed_Moabit West                                        True   \n",
       "neighbourhood_cleansed_Parkviertel                                       False   \n",
       "zipcode_is_na                                                            False   \n",
       "zip_dists_1082                                                           False   \n",
       "zip_dists_1335                                                           False   \n",
       "zip_dists_other                                                          False   \n",
       "state_is_berlin                                                          False   \n",
       "street_is_berlin_berlin_germany                                          False   \n",
       "\n",
       "                                            neighbourhood_cleansed_Parkviertel  \\\n",
       "neighbourhood_group_cleansed_Mitte                                       False   \n",
       "neighbourhood_group_cleansed_Neukölln                                    False   \n",
       "neighbourhood_group_cleansed_Reinickendorf                               False   \n",
       "neighbourhood_group_cleansed_other                                       False   \n",
       "neighbourhood_Wedding                                                    False   \n",
       "neighbourhood_Wilmersdorf                                                False   \n",
       "host_neighbourhood_Wilmersdorf                                           False   \n",
       "neighbourhood_cleansed_Moabit Ost                                        False   \n",
       "neighbourhood_cleansed_Moabit West                                       False   \n",
       "neighbourhood_cleansed_Parkviertel                                        True   \n",
       "zipcode_is_na                                                            False   \n",
       "zip_dists_1082                                                           False   \n",
       "zip_dists_1335                                                           False   \n",
       "zip_dists_other                                                          False   \n",
       "state_is_berlin                                                          False   \n",
       "street_is_berlin_berlin_germany                                          False   \n",
       "\n",
       "                                            zipcode_is_na  zip_dists_1082  \\\n",
       "neighbourhood_group_cleansed_Mitte                  False           False   \n",
       "neighbourhood_group_cleansed_Neukölln               False           False   \n",
       "neighbourhood_group_cleansed_Reinickendorf          False           False   \n",
       "neighbourhood_group_cleansed_other                  False           False   \n",
       "neighbourhood_Wedding                               False           False   \n",
       "neighbourhood_Wilmersdorf                           False           False   \n",
       "host_neighbourhood_Wilmersdorf                      False           False   \n",
       "neighbourhood_cleansed_Moabit Ost                   False           False   \n",
       "neighbourhood_cleansed_Moabit West                  False           False   \n",
       "neighbourhood_cleansed_Parkviertel                  False           False   \n",
       "zipcode_is_na                                        True           False   \n",
       "zip_dists_1082                                      False            True   \n",
       "zip_dists_1335                                      False           False   \n",
       "zip_dists_other                                     False           False   \n",
       "state_is_berlin                                     False           False   \n",
       "street_is_berlin_berlin_germany                     False           False   \n",
       "\n",
       "                                            zip_dists_1335  zip_dists_other  \\\n",
       "neighbourhood_group_cleansed_Mitte                   False            False   \n",
       "neighbourhood_group_cleansed_Neukölln                False            False   \n",
       "neighbourhood_group_cleansed_Reinickendorf           False            False   \n",
       "neighbourhood_group_cleansed_other                   False            False   \n",
       "neighbourhood_Wedding                                 True            False   \n",
       "neighbourhood_Wilmersdorf                            False            False   \n",
       "host_neighbourhood_Wilmersdorf                       False            False   \n",
       "neighbourhood_cleansed_Moabit Ost                    False            False   \n",
       "neighbourhood_cleansed_Moabit West                   False            False   \n",
       "neighbourhood_cleansed_Parkviertel                   False            False   \n",
       "zipcode_is_na                                        False            False   \n",
       "zip_dists_1082                                       False            False   \n",
       "zip_dists_1335                                        True            False   \n",
       "zip_dists_other                                      False             True   \n",
       "state_is_berlin                                      False            False   \n",
       "street_is_berlin_berlin_germany                      False            False   \n",
       "\n",
       "                                            state_is_berlin  \\\n",
       "neighbourhood_group_cleansed_Mitte                    False   \n",
       "neighbourhood_group_cleansed_Neukölln                 False   \n",
       "neighbourhood_group_cleansed_Reinickendorf            False   \n",
       "neighbourhood_group_cleansed_other                    False   \n",
       "neighbourhood_Wedding                                 False   \n",
       "neighbourhood_Wilmersdorf                             False   \n",
       "host_neighbourhood_Wilmersdorf                        False   \n",
       "neighbourhood_cleansed_Moabit Ost                     False   \n",
       "neighbourhood_cleansed_Moabit West                    False   \n",
       "neighbourhood_cleansed_Parkviertel                    False   \n",
       "zipcode_is_na                                         False   \n",
       "zip_dists_1082                                        False   \n",
       "zip_dists_1335                                        False   \n",
       "zip_dists_other                                       False   \n",
       "state_is_berlin                                        True   \n",
       "street_is_berlin_berlin_germany                        True   \n",
       "\n",
       "                                            street_is_berlin_berlin_germany  \n",
       "neighbourhood_group_cleansed_Mitte                                    False  \n",
       "neighbourhood_group_cleansed_Neukölln                                 False  \n",
       "neighbourhood_group_cleansed_Reinickendorf                            False  \n",
       "neighbourhood_group_cleansed_other                                    False  \n",
       "neighbourhood_Wedding                                                 False  \n",
       "neighbourhood_Wilmersdorf                                             False  \n",
       "host_neighbourhood_Wilmersdorf                                        False  \n",
       "neighbourhood_cleansed_Moabit Ost                                     False  \n",
       "neighbourhood_cleansed_Moabit West                                    False  \n",
       "neighbourhood_cleansed_Parkviertel                                    False  \n",
       "zipcode_is_na                                                         False  \n",
       "zip_dists_1082                                                        False  \n",
       "zip_dists_1335                                                        False  \n",
       "zip_dists_other                                                       False  \n",
       "state_is_berlin                                                        True  \n",
       "street_is_berlin_berlin_germany                                        True  "
      ]
     },
     "execution_count": 23,
     "metadata": {},
     "output_type": "execute_result"
    }
   ],
   "source": [
    "indexed_corr = np.abs((geo_df.corr(method = 'spearman')) > .60)\n",
    "indexed_corr"
   ]
  },
  {
   "cell_type": "code",
   "execution_count": 19,
   "metadata": {},
   "outputs": [
    {
     "data": {
      "text/html": [
       "<div>\n",
       "<style scoped>\n",
       "    .dataframe tbody tr th:only-of-type {\n",
       "        vertical-align: middle;\n",
       "    }\n",
       "\n",
       "    .dataframe tbody tr th {\n",
       "        vertical-align: top;\n",
       "    }\n",
       "\n",
       "    .dataframe thead th {\n",
       "        text-align: right;\n",
       "    }\n",
       "</style>\n",
       "<table border=\"1\" class=\"dataframe\">\n",
       "  <thead>\n",
       "    <tr style=\"text-align: right;\">\n",
       "      <th></th>\n",
       "      <th>neighbourhood_Wedding</th>\n",
       "      <th>neighbourhood_Wilmersdorf</th>\n",
       "      <th>host_neighbourhood_Wilmersdorf</th>\n",
       "      <th>zip_dists_1335</th>\n",
       "      <th>state_is_berlin</th>\n",
       "      <th>street_is_berlin_berlin_germany</th>\n",
       "    </tr>\n",
       "  </thead>\n",
       "  <tbody>\n",
       "    <tr>\n",
       "      <th>neighbourhood_Wedding</th>\n",
       "      <td>1.000000</td>\n",
       "      <td>-0.038366</td>\n",
       "      <td>-0.031592</td>\n",
       "      <td>0.808018</td>\n",
       "      <td>0.016985</td>\n",
       "      <td>0.016855</td>\n",
       "    </tr>\n",
       "    <tr>\n",
       "      <th>neighbourhood_Wilmersdorf</th>\n",
       "      <td>-0.038366</td>\n",
       "      <td>1.000000</td>\n",
       "      <td>0.803552</td>\n",
       "      <td>-0.033285</td>\n",
       "      <td>-0.005961</td>\n",
       "      <td>-0.010946</td>\n",
       "    </tr>\n",
       "    <tr>\n",
       "      <th>host_neighbourhood_Wilmersdorf</th>\n",
       "      <td>-0.031592</td>\n",
       "      <td>0.803552</td>\n",
       "      <td>1.000000</td>\n",
       "      <td>-0.026839</td>\n",
       "      <td>-0.003056</td>\n",
       "      <td>-0.011327</td>\n",
       "    </tr>\n",
       "    <tr>\n",
       "      <th>zip_dists_1335</th>\n",
       "      <td>0.808018</td>\n",
       "      <td>-0.033285</td>\n",
       "      <td>-0.026839</td>\n",
       "      <td>1.000000</td>\n",
       "      <td>0.017751</td>\n",
       "      <td>0.020733</td>\n",
       "    </tr>\n",
       "    <tr>\n",
       "      <th>state_is_berlin</th>\n",
       "      <td>0.016985</td>\n",
       "      <td>-0.005961</td>\n",
       "      <td>-0.003056</td>\n",
       "      <td>0.017751</td>\n",
       "      <td>1.000000</td>\n",
       "      <td>0.748955</td>\n",
       "    </tr>\n",
       "    <tr>\n",
       "      <th>street_is_berlin_berlin_germany</th>\n",
       "      <td>0.016855</td>\n",
       "      <td>-0.010946</td>\n",
       "      <td>-0.011327</td>\n",
       "      <td>0.020733</td>\n",
       "      <td>0.748955</td>\n",
       "      <td>1.000000</td>\n",
       "    </tr>\n",
       "  </tbody>\n",
       "</table>\n",
       "</div>"
      ],
      "text/plain": [
       "                                 neighbourhood_Wedding  \\\n",
       "neighbourhood_Wedding                         1.000000   \n",
       "neighbourhood_Wilmersdorf                    -0.038366   \n",
       "host_neighbourhood_Wilmersdorf               -0.031592   \n",
       "zip_dists_1335                                0.808018   \n",
       "state_is_berlin                               0.016985   \n",
       "street_is_berlin_berlin_germany               0.016855   \n",
       "\n",
       "                                 neighbourhood_Wilmersdorf  \\\n",
       "neighbourhood_Wedding                            -0.038366   \n",
       "neighbourhood_Wilmersdorf                         1.000000   \n",
       "host_neighbourhood_Wilmersdorf                    0.803552   \n",
       "zip_dists_1335                                   -0.033285   \n",
       "state_is_berlin                                  -0.005961   \n",
       "street_is_berlin_berlin_germany                  -0.010946   \n",
       "\n",
       "                                 host_neighbourhood_Wilmersdorf  \\\n",
       "neighbourhood_Wedding                                 -0.031592   \n",
       "neighbourhood_Wilmersdorf                              0.803552   \n",
       "host_neighbourhood_Wilmersdorf                         1.000000   \n",
       "zip_dists_1335                                        -0.026839   \n",
       "state_is_berlin                                       -0.003056   \n",
       "street_is_berlin_berlin_germany                       -0.011327   \n",
       "\n",
       "                                 zip_dists_1335  state_is_berlin  \\\n",
       "neighbourhood_Wedding                  0.808018         0.016985   \n",
       "neighbourhood_Wilmersdorf             -0.033285        -0.005961   \n",
       "host_neighbourhood_Wilmersdorf        -0.026839        -0.003056   \n",
       "zip_dists_1335                         1.000000         0.017751   \n",
       "state_is_berlin                        0.017751         1.000000   \n",
       "street_is_berlin_berlin_germany        0.020733         0.748955   \n",
       "\n",
       "                                 street_is_berlin_berlin_germany  \n",
       "neighbourhood_Wedding                                   0.016855  \n",
       "neighbourhood_Wilmersdorf                              -0.010946  \n",
       "host_neighbourhood_Wilmersdorf                         -0.011327  \n",
       "zip_dists_1335                                          0.020733  \n",
       "state_is_berlin                                         0.748955  \n",
       "street_is_berlin_berlin_germany                         1.000000  "
      ]
     },
     "execution_count": 19,
     "metadata": {},
     "output_type": "execute_result"
    }
   ],
   "source": [
    "indexed_corr = np.abs((geo_df.corr(method = 'spearman')) > .60).sum()\n",
    "correlated_cols = indexed_corr[indexed_corr > 1].index\n",
    "\n",
    "geo_df[correlated_cols].corr(method = 'spearman')"
   ]
  },
  {
   "cell_type": "markdown",
   "metadata": {},
   "source": [
    "So from here we can see some pairings: \n",
    "    * neighborhood_Wedding and zip_dists_1335\n",
    "    * neighbourhood_Wilmersdorf, host_neighbourhood_Wilmersdorf\n",
    "    * state_is_berlin, street_is_berlin\n",
    "    * street_is_berlin_berlin_germany, state_is_berlin"
   ]
  },
  {
   "cell_type": "markdown",
   "metadata": {},
   "source": [
    "* We of course could also do this with our entire matrix."
   ]
  },
  {
   "cell_type": "markdown",
   "metadata": {},
   "source": [
    "But we can see any even stronger relationship, if we use a metric like `spearmanr`.  "
   ]
  },
  {
   "cell_type": "code",
   "execution_count": 64,
   "metadata": {},
   "outputs": [
    {
     "data": {
      "text/plain": [
       "Index(['host_response_rate_is_na', 'state_is_berlin',\n",
       "       'street_is_berlin_berlin_germany', 'neighbourhood_Wedding',\n",
       "       'neighbourhood_Wilmersdorf', 'host_neighbourhood_Wilmersdorf',\n",
       "       'host_response_time_other', 'zip_dists_1335'],\n",
       "      dtype='object')"
      ]
     },
     "execution_count": 64,
     "metadata": {},
     "output_type": "execute_result"
    }
   ],
   "source": [
    "#  here need to also have for less than .60\n",
    "indexed_corr = (X_train_pruned.corr(method = 'spearman') > .60).sum()\n",
    "correlated_cols = indexed_corr[indexed_corr > 1].index\n",
    "correlated_cols\n",
    "\n",
    "X_train_pruned[correlated_cols].corr(method = 'spearman')"
   ]
  },
  {
   "cell_type": "code",
   "execution_count": 62,
   "metadata": {},
   "outputs": [
    {
     "data": {
      "text/html": [
       "<div>\n",
       "<style scoped>\n",
       "    .dataframe tbody tr th:only-of-type {\n",
       "        vertical-align: middle;\n",
       "    }\n",
       "\n",
       "    .dataframe tbody tr th {\n",
       "        vertical-align: top;\n",
       "    }\n",
       "\n",
       "    .dataframe thead th {\n",
       "        text-align: right;\n",
       "    }\n",
       "</style>\n",
       "<table border=\"1\" class=\"dataframe\">\n",
       "  <thead>\n",
       "    <tr style=\"text-align: right;\">\n",
       "      <th></th>\n",
       "      <th>host_response_rate_is_na</th>\n",
       "      <th>state_is_berlin</th>\n",
       "      <th>street_is_berlin_berlin_germany</th>\n",
       "      <th>neighbourhood_Wedding</th>\n",
       "      <th>neighbourhood_Wilmersdorf</th>\n",
       "      <th>host_neighbourhood_Wilmersdorf</th>\n",
       "      <th>host_response_time_other</th>\n",
       "      <th>zip_dists_1335</th>\n",
       "    </tr>\n",
       "  </thead>\n",
       "  <tbody>\n",
       "    <tr>\n",
       "      <th>host_response_rate_is_na</th>\n",
       "      <td>1.000000</td>\n",
       "      <td>0.008039</td>\n",
       "      <td>0.034077</td>\n",
       "      <td>0.046751</td>\n",
       "      <td>-0.027278</td>\n",
       "      <td>-0.025850</td>\n",
       "      <td>1.000000</td>\n",
       "      <td>0.027216</td>\n",
       "    </tr>\n",
       "    <tr>\n",
       "      <th>state_is_berlin</th>\n",
       "      <td>0.008039</td>\n",
       "      <td>1.000000</td>\n",
       "      <td>0.748955</td>\n",
       "      <td>0.016985</td>\n",
       "      <td>-0.005961</td>\n",
       "      <td>-0.003056</td>\n",
       "      <td>0.008039</td>\n",
       "      <td>0.017751</td>\n",
       "    </tr>\n",
       "    <tr>\n",
       "      <th>street_is_berlin_berlin_germany</th>\n",
       "      <td>0.034077</td>\n",
       "      <td>0.748955</td>\n",
       "      <td>1.000000</td>\n",
       "      <td>0.016855</td>\n",
       "      <td>-0.010946</td>\n",
       "      <td>-0.011327</td>\n",
       "      <td>0.034077</td>\n",
       "      <td>0.020733</td>\n",
       "    </tr>\n",
       "    <tr>\n",
       "      <th>neighbourhood_Wedding</th>\n",
       "      <td>0.046751</td>\n",
       "      <td>0.016985</td>\n",
       "      <td>0.016855</td>\n",
       "      <td>1.000000</td>\n",
       "      <td>-0.038366</td>\n",
       "      <td>-0.031592</td>\n",
       "      <td>0.046751</td>\n",
       "      <td>0.808018</td>\n",
       "    </tr>\n",
       "    <tr>\n",
       "      <th>neighbourhood_Wilmersdorf</th>\n",
       "      <td>-0.027278</td>\n",
       "      <td>-0.005961</td>\n",
       "      <td>-0.010946</td>\n",
       "      <td>-0.038366</td>\n",
       "      <td>1.000000</td>\n",
       "      <td>0.803552</td>\n",
       "      <td>-0.027278</td>\n",
       "      <td>-0.033285</td>\n",
       "    </tr>\n",
       "    <tr>\n",
       "      <th>host_neighbourhood_Wilmersdorf</th>\n",
       "      <td>-0.025850</td>\n",
       "      <td>-0.003056</td>\n",
       "      <td>-0.011327</td>\n",
       "      <td>-0.031592</td>\n",
       "      <td>0.803552</td>\n",
       "      <td>1.000000</td>\n",
       "      <td>-0.025850</td>\n",
       "      <td>-0.026839</td>\n",
       "    </tr>\n",
       "    <tr>\n",
       "      <th>host_response_time_other</th>\n",
       "      <td>1.000000</td>\n",
       "      <td>0.008039</td>\n",
       "      <td>0.034077</td>\n",
       "      <td>0.046751</td>\n",
       "      <td>-0.027278</td>\n",
       "      <td>-0.025850</td>\n",
       "      <td>1.000000</td>\n",
       "      <td>0.027216</td>\n",
       "    </tr>\n",
       "    <tr>\n",
       "      <th>zip_dists_1335</th>\n",
       "      <td>0.027216</td>\n",
       "      <td>0.017751</td>\n",
       "      <td>0.020733</td>\n",
       "      <td>0.808018</td>\n",
       "      <td>-0.033285</td>\n",
       "      <td>-0.026839</td>\n",
       "      <td>0.027216</td>\n",
       "      <td>1.000000</td>\n",
       "    </tr>\n",
       "  </tbody>\n",
       "</table>\n",
       "</div>"
      ],
      "text/plain": [
       "                                 host_response_rate_is_na  state_is_berlin  \\\n",
       "host_response_rate_is_na                         1.000000         0.008039   \n",
       "state_is_berlin                                  0.008039         1.000000   \n",
       "street_is_berlin_berlin_germany                  0.034077         0.748955   \n",
       "neighbourhood_Wedding                            0.046751         0.016985   \n",
       "neighbourhood_Wilmersdorf                       -0.027278        -0.005961   \n",
       "host_neighbourhood_Wilmersdorf                  -0.025850        -0.003056   \n",
       "host_response_time_other                         1.000000         0.008039   \n",
       "zip_dists_1335                                   0.027216         0.017751   \n",
       "\n",
       "                                 street_is_berlin_berlin_germany  \\\n",
       "host_response_rate_is_na                                0.034077   \n",
       "state_is_berlin                                         0.748955   \n",
       "street_is_berlin_berlin_germany                         1.000000   \n",
       "neighbourhood_Wedding                                   0.016855   \n",
       "neighbourhood_Wilmersdorf                              -0.010946   \n",
       "host_neighbourhood_Wilmersdorf                         -0.011327   \n",
       "host_response_time_other                                0.034077   \n",
       "zip_dists_1335                                          0.020733   \n",
       "\n",
       "                                 neighbourhood_Wedding  \\\n",
       "host_response_rate_is_na                      0.046751   \n",
       "state_is_berlin                               0.016985   \n",
       "street_is_berlin_berlin_germany               0.016855   \n",
       "neighbourhood_Wedding                         1.000000   \n",
       "neighbourhood_Wilmersdorf                    -0.038366   \n",
       "host_neighbourhood_Wilmersdorf               -0.031592   \n",
       "host_response_time_other                      0.046751   \n",
       "zip_dists_1335                                0.808018   \n",
       "\n",
       "                                 neighbourhood_Wilmersdorf  \\\n",
       "host_response_rate_is_na                         -0.027278   \n",
       "state_is_berlin                                  -0.005961   \n",
       "street_is_berlin_berlin_germany                  -0.010946   \n",
       "neighbourhood_Wedding                            -0.038366   \n",
       "neighbourhood_Wilmersdorf                         1.000000   \n",
       "host_neighbourhood_Wilmersdorf                    0.803552   \n",
       "host_response_time_other                         -0.027278   \n",
       "zip_dists_1335                                   -0.033285   \n",
       "\n",
       "                                 host_neighbourhood_Wilmersdorf  \\\n",
       "host_response_rate_is_na                              -0.025850   \n",
       "state_is_berlin                                       -0.003056   \n",
       "street_is_berlin_berlin_germany                       -0.011327   \n",
       "neighbourhood_Wedding                                 -0.031592   \n",
       "neighbourhood_Wilmersdorf                              0.803552   \n",
       "host_neighbourhood_Wilmersdorf                         1.000000   \n",
       "host_response_time_other                              -0.025850   \n",
       "zip_dists_1335                                        -0.026839   \n",
       "\n",
       "                                 host_response_time_other  zip_dists_1335  \n",
       "host_response_rate_is_na                         1.000000        0.027216  \n",
       "state_is_berlin                                  0.008039        0.017751  \n",
       "street_is_berlin_berlin_germany                  0.034077        0.020733  \n",
       "neighbourhood_Wedding                            0.046751        0.808018  \n",
       "neighbourhood_Wilmersdorf                       -0.027278       -0.033285  \n",
       "host_neighbourhood_Wilmersdorf                  -0.025850       -0.026839  \n",
       "host_response_time_other                         1.000000        0.027216  \n",
       "zip_dists_1335                                   0.027216        1.000000  "
      ]
     },
     "execution_count": 62,
     "metadata": {},
     "output_type": "execute_result"
    }
   ],
   "source": [
    "X_train_pruned[correlated_cols].corr(method = 'spearman')"
   ]
  },
  {
   "cell_type": "markdown",
   "metadata": {},
   "source": [
    "So to this we can add: \n",
    "    * host_response_time_other, and host_response_rate_is_na"
   ]
  },
  {
   "cell_type": "markdown",
   "metadata": {},
   "source": [
    "## Remove connected columns"
   ]
  },
  {
   "cell_type": "markdown",
   "metadata": {},
   "source": [
    "* neighborhood_Wedding and zip_dists_1335\n",
    "* neighbourhood_Wilmersdorf, host_neighbourhood_Wilmersdorf\n",
    "* state_is_berlin, street_is_berlin\n",
    "* street_is_berlin_berlin_germany, state_is_berlin\n",
    "* host_response_time_other, and host_response_rate_is_na"
   ]
  },
  {
   "cell_type": "code",
   "execution_count": 65,
   "metadata": {},
   "outputs": [],
   "source": [
    "X_train_dropped = X_train_pruned.drop(columns=['zip_dists_1335', 'host_neighbourhood_Wilmersdorf', 'state_is_berlin', 'street_is_berlin_berlin_germany', 'host_response_time_other'])"
   ]
  },
  {
   "cell_type": "code",
   "execution_count": 67,
   "metadata": {},
   "outputs": [
    {
     "data": {
      "text/plain": [
       "30"
      ]
     },
     "execution_count": 67,
     "metadata": {},
     "output_type": "execute_result"
    }
   ],
   "source": [
    "len(X_train_dropped.columns)"
   ]
  },
  {
   "cell_type": "markdown",
   "metadata": {},
   "source": [
    "# Working with Dendrograms"
   ]
  },
  {
   "cell_type": "markdown",
   "metadata": {},
   "source": [
    "### Introduction"
   ]
  },
  {
   "cell_type": "markdown",
   "metadata": {},
   "source": [
    "In the last lesson, we saw how we can detect variables that are associated with each other by using correlations.  The motivation for examining the correlations between variables is that if two features are correlated, we can likely remove one of them with suffering a significant decrease in our model's accuracy.  And by reducing the number of features, we see our standard benefits of a more understable model, a decrease in variance, and a reduction in multicollinearity."
   ]
  },
  {
   "cell_type": "markdown",
   "metadata": {},
   "source": [
    "In the last section, we also saw two different types of correlations.  The pearson correlation which measured strictly the strength of a linear relationship between variables, and the spearman correlation or rank correlation, which also captured non-linear relationships.\n",
    "\n",
    "As mentioned, we'll focus on the spearman correlation going forward."
   ]
  },
  {
   "cell_type": "markdown",
   "metadata": {},
   "source": [
    "### Plotting Correlations with Dendrograms"
   ]
  },
  {
   "cell_type": "markdown",
   "metadata": {},
   "source": [
    "Now previously, we plotted both our relationships among variables with scatter plots.  In this section, we'll use a dendrogram to see if two variables are assosicated with one another.  Ok, so let's start by plotting our scatter matrix of the rank of the features."
   ]
  },
  {
   "cell_type": "code",
   "execution_count": 41,
   "metadata": {},
   "outputs": [
    {
     "ename": "NameError",
     "evalue": "name 'X_train_dropped' is not defined",
     "output_type": "error",
     "traceback": [
      "\u001b[0;31m---------------------------------------------------------------------------\u001b[0m",
      "\u001b[0;31mNameError\u001b[0m                                 Traceback (most recent call last)",
      "\u001b[0;32m<ipython-input-41-70cd1b69db04>\u001b[0m in \u001b[0;36m<module>\u001b[0;34m\u001b[0m\n\u001b[1;32m      1\u001b[0m \u001b[0;32mimport\u001b[0m \u001b[0mscipy\u001b[0m\u001b[0;34m.\u001b[0m\u001b[0mcluster\u001b[0m\u001b[0;34m.\u001b[0m\u001b[0mhierarchy\u001b[0m \u001b[0;32mas\u001b[0m \u001b[0mhc\u001b[0m\u001b[0;34m\u001b[0m\u001b[0;34m\u001b[0m\u001b[0m\n\u001b[0;32m----> 2\u001b[0;31m \u001b[0mcorr\u001b[0m \u001b[0;34m=\u001b[0m \u001b[0mX_train_dropped\u001b[0m\u001b[0;34m.\u001b[0m\u001b[0mcorr\u001b[0m\u001b[0;34m(\u001b[0m\u001b[0mmethod\u001b[0m \u001b[0;34m=\u001b[0m \u001b[0;34m'spearman'\u001b[0m\u001b[0;34m)\u001b[0m\u001b[0;34m\u001b[0m\u001b[0;34m\u001b[0m\u001b[0m\n\u001b[0m\u001b[1;32m      3\u001b[0m \u001b[0mcorr_condensed\u001b[0m \u001b[0;34m=\u001b[0m \u001b[0mhc\u001b[0m\u001b[0;34m.\u001b[0m\u001b[0mdistance\u001b[0m\u001b[0;34m.\u001b[0m\u001b[0msquareform\u001b[0m\u001b[0;34m(\u001b[0m\u001b[0;36m1\u001b[0m \u001b[0;34m-\u001b[0m \u001b[0mnp\u001b[0m\u001b[0;34m.\u001b[0m\u001b[0mabs\u001b[0m\u001b[0;34m(\u001b[0m\u001b[0mcorr\u001b[0m\u001b[0;34m)\u001b[0m\u001b[0;34m)\u001b[0m\u001b[0;34m\u001b[0m\u001b[0;34m\u001b[0m\u001b[0m\n\u001b[1;32m      4\u001b[0m \u001b[0mz\u001b[0m \u001b[0;34m=\u001b[0m \u001b[0mhc\u001b[0m\u001b[0;34m.\u001b[0m\u001b[0mlinkage\u001b[0m\u001b[0;34m(\u001b[0m\u001b[0mcorr_condensed\u001b[0m\u001b[0;34m,\u001b[0m \u001b[0mmethod\u001b[0m \u001b[0;34m=\u001b[0m \u001b[0;34m'average'\u001b[0m\u001b[0;34m)\u001b[0m\u001b[0;34m\u001b[0m\u001b[0;34m\u001b[0m\u001b[0m\n\u001b[1;32m      5\u001b[0m \u001b[0;34m\u001b[0m\u001b[0m\n",
      "\u001b[0;31mNameError\u001b[0m: name 'X_train_dropped' is not defined"
     ]
    }
   ],
   "source": [
    "import scipy.cluster.hierarchy as hc\n",
    "corr = X_train_dropped.corr(method = 'spearman')\n",
    "corr_condensed = hc.distance.squareform(1 - np.abs(corr))\n",
    "z = hc.linkage(corr_condensed, method = 'average')\n",
    "\n",
    "import matplotlib.pyplot as plt\n",
    "fig = plt.figure(figsize=(16,10))\n",
    "dendrogram = hc.dendrogram(z, labels = X_train_dropped.columns, orientation = 'left', leaf_font_size=16)"
   ]
  },
  {
   "cell_type": "code",
   "execution_count": 70,
   "metadata": {},
   "outputs": [
    {
     "data": {
      "text/plain": [
       "Index(['longitude', 'bedrooms', 'bedrooms_is_na', 'host_response_rate_is_na',\n",
       "       'summary_is_na', 'license_is_na', 'zipcode_is_na', 'bathrooms_is_na',\n",
       "       'beds_is_na', 'host_sinceIs_year_end', 'requires_license',\n",
       "       'property_type_Loft', 'property_type_other',\n",
       "       'neighbourhood_group_cleansed_Mitte',\n",
       "       'neighbourhood_group_cleansed_Neukölln',\n",
       "       'neighbourhood_group_cleansed_Reinickendorf',\n",
       "       'neighbourhood_group_cleansed_other', 'neighbourhood_Wedding',\n",
       "       'neighbourhood_Wilmersdorf', 'cancellation_policy_super_strict_60',\n",
       "       'room_type_Private room', 'room_type_Shared room',\n",
       "       'neighbourhood_cleansed_Moabit Ost',\n",
       "       'neighbourhood_cleansed_Moabit West',\n",
       "       'neighbourhood_cleansed_Parkviertel', 'zip_dists_1082',\n",
       "       'zip_dists_other', 'last_reviewMonth_2.0', 'last_reviewMonth_3.0',\n",
       "       'last_reviewMonth_12.0'],\n",
       "      dtype='object')"
      ]
     },
     "execution_count": 70,
     "metadata": {},
     "output_type": "execute_result"
    }
   ],
   "source": [
    "X_train_dropped.columns"
   ]
  },
  {
   "cell_type": "code",
   "execution_count": 73,
   "metadata": {},
   "outputs": [
    {
     "data": {
      "text/html": [
       "<div>\n",
       "<style scoped>\n",
       "    .dataframe tbody tr th:only-of-type {\n",
       "        vertical-align: middle;\n",
       "    }\n",
       "\n",
       "    .dataframe tbody tr th {\n",
       "        vertical-align: top;\n",
       "    }\n",
       "\n",
       "    .dataframe thead th {\n",
       "        text-align: right;\n",
       "    }\n",
       "</style>\n",
       "<table border=\"1\" class=\"dataframe\">\n",
       "  <thead>\n",
       "    <tr style=\"text-align: right;\">\n",
       "      <th></th>\n",
       "      <th>longitude</th>\n",
       "      <th>neighbourhood_group_cleansed_Neukölln</th>\n",
       "    </tr>\n",
       "  </thead>\n",
       "  <tbody>\n",
       "    <tr>\n",
       "      <th>longitude</th>\n",
       "      <td>1.000000</td>\n",
       "      <td>0.294026</td>\n",
       "    </tr>\n",
       "    <tr>\n",
       "      <th>neighbourhood_group_cleansed_Neukölln</th>\n",
       "      <td>0.294026</td>\n",
       "      <td>1.000000</td>\n",
       "    </tr>\n",
       "  </tbody>\n",
       "</table>\n",
       "</div>"
      ],
      "text/plain": [
       "                                       longitude  \\\n",
       "longitude                               1.000000   \n",
       "neighbourhood_group_cleansed_Neukölln   0.294026   \n",
       "\n",
       "                                       neighbourhood_group_cleansed_Neukölln  \n",
       "longitude                                                           0.294026  \n",
       "neighbourhood_group_cleansed_Neukölln                               1.000000  "
      ]
     },
     "execution_count": 73,
     "metadata": {},
     "output_type": "execute_result"
    }
   ],
   "source": [
    "first_pair = ['longitude', 'neighbourhood_group_cleansed_Neukölln']\n",
    "second_pair = ['neighbourhood_group_cleansed_Mitte', 'neighbourhood_Wedding']\n",
    "X_train_dropped[first_pair].corr(method = 'spearman')"
   ]
  },
  {
   "cell_type": "code",
   "execution_count": 74,
   "metadata": {},
   "outputs": [
    {
     "data": {
      "text/html": [
       "<div>\n",
       "<style scoped>\n",
       "    .dataframe tbody tr th:only-of-type {\n",
       "        vertical-align: middle;\n",
       "    }\n",
       "\n",
       "    .dataframe tbody tr th {\n",
       "        vertical-align: top;\n",
       "    }\n",
       "\n",
       "    .dataframe thead th {\n",
       "        text-align: right;\n",
       "    }\n",
       "</style>\n",
       "<table border=\"1\" class=\"dataframe\">\n",
       "  <thead>\n",
       "    <tr style=\"text-align: right;\">\n",
       "      <th></th>\n",
       "      <th>neighbourhood_group_cleansed_Mitte</th>\n",
       "      <th>neighbourhood_Wedding</th>\n",
       "    </tr>\n",
       "  </thead>\n",
       "  <tbody>\n",
       "    <tr>\n",
       "      <th>neighbourhood_group_cleansed_Mitte</th>\n",
       "      <td>1.000000</td>\n",
       "      <td>0.509146</td>\n",
       "    </tr>\n",
       "    <tr>\n",
       "      <th>neighbourhood_Wedding</th>\n",
       "      <td>0.509146</td>\n",
       "      <td>1.000000</td>\n",
       "    </tr>\n",
       "  </tbody>\n",
       "</table>\n",
       "</div>"
      ],
      "text/plain": [
       "                                    neighbourhood_group_cleansed_Mitte  \\\n",
       "neighbourhood_group_cleansed_Mitte                            1.000000   \n",
       "neighbourhood_Wedding                                         0.509146   \n",
       "\n",
       "                                    neighbourhood_Wedding  \n",
       "neighbourhood_group_cleansed_Mitte               0.509146  \n",
       "neighbourhood_Wedding                            1.000000  "
      ]
     },
     "execution_count": 74,
     "metadata": {},
     "output_type": "execute_result"
    }
   ],
   "source": [
    "X_train_dropped[second_pair].corr(method = 'spearman')"
   ]
  },
  {
   "cell_type": "markdown",
   "metadata": {},
   "source": [
    "### Removing Features"
   ]
  },
  {
   "cell_type": "markdown",
   "metadata": {},
   "source": [
    "Neither of these look too strong, so we can leave them both in."
   ]
  },
  {
   "cell_type": "code",
   "execution_count": null,
   "metadata": {},
   "outputs": [],
   "source": [
    "# model.fit(X_train_pruned, y_train_pruned)\n",
    "# model.score(X_test_pruned, y_test_pruned)"
   ]
  },
  {
   "cell_type": "code",
   "execution_count": 76,
   "metadata": {},
   "outputs": [
    {
     "data": {
      "text/plain": [
       "LinearRegression(copy_X=True, fit_intercept=True, n_jobs=None,\n",
       "         normalize=False)"
      ]
     },
     "execution_count": 76,
     "metadata": {},
     "output_type": "execute_result"
    }
   ],
   "source": [
    "model.fit(X_train_dropped, y_train_pruned)"
   ]
  },
  {
   "cell_type": "code",
   "execution_count": 77,
   "metadata": {},
   "outputs": [],
   "source": [
    "dropped_columns =['zip_dists_1335', 'host_neighbourhood_Wilmersdorf', 'state_is_berlin', 'street_is_berlin_berlin_germany', 'host_response_time_other']"
   ]
  },
  {
   "cell_type": "code",
   "execution_count": 79,
   "metadata": {},
   "outputs": [
    {
     "data": {
      "text/plain": [
       "0.46007398634498153"
      ]
     },
     "execution_count": 79,
     "metadata": {},
     "output_type": "execute_result"
    }
   ],
   "source": [
    "X_test_dropped = X_test_pruned.drop(columns = dropped_columns)\n",
    "\n",
    "model.score(X_test_dropped, y_test_pruned)"
   ]
  },
  {
   "cell_type": "code",
   "execution_count": 80,
   "metadata": {},
   "outputs": [
    {
     "data": {
      "text/plain": [
       "Index(['longitude', 'bedrooms', 'bedrooms_is_na', 'host_response_rate_is_na',\n",
       "       'summary_is_na', 'license_is_na', 'zipcode_is_na', 'bathrooms_is_na',\n",
       "       'beds_is_na', 'host_sinceIs_year_end', 'requires_license',\n",
       "       'state_is_berlin', 'street_is_berlin_berlin_germany',\n",
       "       'property_type_Loft', 'property_type_other',\n",
       "       'neighbourhood_group_cleansed_Mitte',\n",
       "       'neighbourhood_group_cleansed_Neukölln',\n",
       "       'neighbourhood_group_cleansed_Reinickendorf',\n",
       "       'neighbourhood_group_cleansed_other', 'neighbourhood_Wedding',\n",
       "       'neighbourhood_Wilmersdorf', 'host_neighbourhood_Wilmersdorf',\n",
       "       'cancellation_policy_super_strict_60', 'room_type_Private room',\n",
       "       'room_type_Shared room', 'host_response_time_other',\n",
       "       'neighbourhood_cleansed_Moabit Ost',\n",
       "       'neighbourhood_cleansed_Moabit West',\n",
       "       'neighbourhood_cleansed_Parkviertel', 'zip_dists_1082',\n",
       "       'zip_dists_1335', 'zip_dists_other', 'last_reviewMonth_2.0',\n",
       "       'last_reviewMonth_3.0', 'last_reviewMonth_12.0'],\n",
       "      dtype='object')"
      ]
     },
     "execution_count": 80,
     "metadata": {},
     "output_type": "execute_result"
    }
   ],
   "source": [
    "X_test_pruned.columns"
   ]
  },
  {
   "cell_type": "markdown",
   "metadata": {},
   "source": [
    "So we notice that we removed five columns, and essentially wound up with the same as our previous larger model."
   ]
  },
  {
   "cell_type": "markdown",
   "metadata": {},
   "source": [
    "(35 features, and score of 0.4628732594292488)"
   ]
  },
  {
   "cell_type": "markdown",
   "metadata": {},
   "source": [
    "Here are our new importances: "
   ]
  },
  {
   "cell_type": "code",
   "execution_count": 84,
   "metadata": {},
   "outputs": [
    {
     "data": {
      "text/plain": [
       "array([['room_type_Shared room', -0.9389809471607655],\n",
       "       ['cancellation_policy_super_strict_60', 0.8424899490730072],\n",
       "       ['requires_license', 0.7047767596167392],\n",
       "       ['longitude', -0.6794678066264861],\n",
       "       ['room_type_Private room', -0.5248350063414015],\n",
       "       ['beds_is_na', 0.49824074208911406],\n",
       "       ['neighbourhood_cleansed_Moabit West', -0.3956887963818316],\n",
       "       ['property_type_Loft', 0.37686854970723155],\n",
       "       ['property_type_other', 0.37594275346111766],\n",
       "       ['neighbourhood_Wedding', -0.3633285128970777],\n",
       "       ['bathrooms_is_na', -0.3257359699532433],\n",
       "       ['host_sinceIs_year_end', -0.3195202583914894],\n",
       "       ['bedrooms_is_na', -0.31867848759722883],\n",
       "       ['neighbourhood_cleansed_Moabit Ost', -0.2977904215325947],\n",
       "       ['bedrooms', 0.2662678090864989],\n",
       "       ['neighbourhood_group_cleansed_Reinickendorf',\n",
       "        -0.2191956998422411],\n",
       "       ['neighbourhood_group_cleansed_other', -0.21602486160547915],\n",
       "       ['license_is_na', -0.18860748379066372],\n",
       "       ['summary_is_na', 0.1689073334231896],\n",
       "       ['zip_dists_other', -0.16281728030429682],\n",
       "       ['last_reviewMonth_3.0', -0.1627764700642387],\n",
       "       ['neighbourhood_group_cleansed_Mitte', 0.16043181011720672],\n",
       "       ['last_reviewMonth_2.0', -0.15913130584647103],\n",
       "       ['neighbourhood_cleansed_Parkviertel', -0.1470142898970722],\n",
       "       ['zipcode_is_na', 0.14598430798934384],\n",
       "       ['neighbourhood_group_cleansed_Neukölln', -0.14280180086673389],\n",
       "       ['neighbourhood_Wilmersdorf', 0.14003012909082965],\n",
       "       ['last_reviewMonth_12.0', -0.12447140163916472],\n",
       "       ['zip_dists_1082', -0.11295043604846301],\n",
       "       ['host_response_rate_is_na', -0.10458074464671833]], dtype=object)"
      ]
     },
     "execution_count": 84,
     "metadata": {},
     "output_type": "execute_result"
    }
   ],
   "source": [
    "feature_importances(X_test_dropped, model)[:, :-1]"
   ]
  }
 ],
 "metadata": {
  "kernelspec": {
   "display_name": "Python 3",
   "language": "python",
   "name": "python3"
  },
  "language_info": {
   "codemirror_mode": {
    "name": "ipython",
    "version": 3
   },
   "file_extension": ".py",
   "mimetype": "text/x-python",
   "name": "python",
   "nbconvert_exporter": "python",
   "pygments_lexer": "ipython3",
   "version": "3.7.4"
  }
 },
 "nbformat": 4,
 "nbformat_minor": 4
}
