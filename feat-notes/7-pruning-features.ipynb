{
 "cells": [
  {
   "cell_type": "markdown",
   "metadata": {},
   "source": [
    "# Correlation Analysis"
   ]
  },
  {
   "cell_type": "markdown",
   "metadata": {},
   "source": [
    "### Introduction"
   ]
  },
  {
   "cell_type": "code",
   "execution_count": 1,
   "metadata": {},
   "outputs": [],
   "source": [
    "top_forty = ['first_reviewElapsed', 'first_reviewYear_is_na', 'reviews_per_month_is_na', 'last_reviewElapsed',\n",
    "'last_reviewYear_is_na', 'first_reviewYear', 'host_sinceElapsed', 'host_sinceYear_is_na', 'host_total_listings_count_is_na', \n",
    "'host_listings_count_is_na', 'first_reviewDayofyear', 'host_sinceYear', 'host_sinceDayofyear', 'host_sinceMonth',\n",
    "'last_reviewYear', 'cancellation_policy_x0_flexible', 'cancellation_policy_x0_moderate', 'cancellation_policy_x0_strict_14_with_grace_period',\n",
    "'accommodates', 'room_type_x0_Entire home/apt', 'host_sinceDay', 'review_scores_communication_is_na', 'neighbourhood_group_cleansed_x0_Mitte', 'last_reviewDayofyear',\n",
    "'review_scores_rating_is_na', 'bedrooms', 'review_scores_value_is_na', 'first_reviewMonth', 'cleaning_fee',\n",
    "'neighbourhood_group_cleansed_x0_Friedrichshain-Kreuzberg', 'guests_included', 'availability_90',\n",
    "'neighbourhood_cleansed_x0_Moabit West', 'bathrooms', 'neighbourhood_cleansed_x0_Parkviertel', 'neighbourhood_cleansed_x0_Wedding Zentrum',\n",
    "'review_scores_location_is_na', 'neighbourhood_cleansed_x0_Osloer Straße', 'calculated_host_listings_count', 'property_type_x0_Apartment', 'price']"
   ]
  },
  {
   "cell_type": "code",
   "execution_count": 2,
   "metadata": {},
   "outputs": [],
   "source": [
    "import pandas as pd\n",
    "url = './listings_train_df.csv'\n",
    "train_df = pd.read_csv(url, usecols = top_forty)"
   ]
  },
  {
   "cell_type": "code",
   "execution_count": 3,
   "metadata": {},
   "outputs": [
    {
     "data": {
      "text/plain": [
       "(17952, 41)"
      ]
     },
     "execution_count": 3,
     "metadata": {},
     "output_type": "execute_result"
    }
   ],
   "source": [
    "train_df.shape"
   ]
  },
  {
   "cell_type": "code",
   "execution_count": 4,
   "metadata": {},
   "outputs": [],
   "source": [
    "y = train_df['price']"
   ]
  },
  {
   "cell_type": "code",
   "execution_count": 5,
   "metadata": {},
   "outputs": [],
   "source": [
    "X = train_df.drop('price', axis = 1)"
   ]
  },
  {
   "cell_type": "code",
   "execution_count": null,
   "metadata": {},
   "outputs": [],
   "source": []
  },
  {
   "cell_type": "code",
   "execution_count": 18,
   "metadata": {},
   "outputs": [],
   "source": [
    "sampled_X = X.sample(500, random_state = 1)\n",
    "\n",
    "top_X = sampled_X[top_forty[:20]]"
   ]
  },
  {
   "cell_type": "code",
   "execution_count": 21,
   "metadata": {},
   "outputs": [],
   "source": [
    "top_num = top_X.select_dtypes(exclude = 'bool')"
   ]
  },
  {
   "cell_type": "code",
   "execution_count": 25,
   "metadata": {},
   "outputs": [],
   "source": [
    "# pd.plotting.scatter_matrix(top_num.iloc[:, :5])"
   ]
  },
  {
   "cell_type": "markdown",
   "metadata": {},
   "source": [
    "### Correlations without Plotting"
   ]
  },
  {
   "cell_type": "code",
   "execution_count": null,
   "metadata": {},
   "outputs": [],
   "source": []
  },
  {
   "cell_type": "code",
   "execution_count": 28,
   "metadata": {},
   "outputs": [],
   "source": [
    "\n",
    "neighborhood_cols = [col for col in X.columns if 'neighbourhood' in col]\n",
    "zip_cols = [col for col in X.columns if 'zip' in col]\n",
    "berlin_cols = [col for col in X.columns if 'berlin' in col]\n",
    "geo_cols = neighborhood_cols + zip_cols + berlin_cols"
   ]
  },
  {
   "cell_type": "code",
   "execution_count": 30,
   "metadata": {},
   "outputs": [],
   "source": [
    "geo_df = X.loc[:, geo_cols]"
   ]
  },
  {
   "cell_type": "code",
   "execution_count": 33,
   "metadata": {},
   "outputs": [
    {
     "data": {
      "text/plain": [
       "Index([], dtype='object')"
      ]
     },
     "execution_count": 33,
     "metadata": {},
     "output_type": "execute_result"
    }
   ],
   "source": [
    "import numpy as np\n",
    "indexed_corr = np.abs((geo_df.corr(method = 'spearman')) > .60).sum()\n",
    "correlated_cols = indexed_corr[indexed_corr > 1].index\n",
    "\n",
    "# geo_df[correlated_cols].corr(method = 'spearman')\n",
    "\n",
    "correlated_cols"
   ]
  },
  {
   "cell_type": "code",
   "execution_count": 34,
   "metadata": {},
   "outputs": [
    {
     "data": {
      "text/html": [
       "<div>\n",
       "<style scoped>\n",
       "    .dataframe tbody tr th:only-of-type {\n",
       "        vertical-align: middle;\n",
       "    }\n",
       "\n",
       "    .dataframe tbody tr th {\n",
       "        vertical-align: top;\n",
       "    }\n",
       "\n",
       "    .dataframe thead th {\n",
       "        text-align: right;\n",
       "    }\n",
       "</style>\n",
       "<table border=\"1\" class=\"dataframe\">\n",
       "  <thead>\n",
       "    <tr style=\"text-align: right;\">\n",
       "      <th></th>\n",
       "    </tr>\n",
       "  </thead>\n",
       "  <tbody>\n",
       "  </tbody>\n",
       "</table>\n",
       "</div>"
      ],
      "text/plain": [
       "Empty DataFrame\n",
       "Columns: []\n",
       "Index: []"
      ]
     },
     "execution_count": 34,
     "metadata": {},
     "output_type": "execute_result"
    }
   ],
   "source": [
    "indexed_corr = np.abs((geo_df.corr(method = 'spearman')) > .60).sum()\n",
    "correlated_cols = indexed_corr[indexed_corr > 1].index\n",
    "\n",
    "geo_df[correlated_cols].corr(method = 'spearman')"
   ]
  },
  {
   "cell_type": "code",
   "execution_count": null,
   "metadata": {},
   "outputs": [],
   "source": []
  }
 ],
 "metadata": {
  "kernelspec": {
   "display_name": "Python 3",
   "language": "python",
   "name": "python3"
  },
  "language_info": {
   "codemirror_mode": {
    "name": "ipython",
    "version": 3
   },
   "file_extension": ".py",
   "mimetype": "text/x-python",
   "name": "python",
   "nbconvert_exporter": "python",
   "pygments_lexer": "ipython3",
   "version": "3.7.4"
  }
 },
 "nbformat": 4,
 "nbformat_minor": 4
}
