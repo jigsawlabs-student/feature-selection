{
 "cells": [
  {
   "cell_type": "markdown",
   "metadata": {},
   "source": [
    "# Correlation Analysis"
   ]
  },
  {
   "cell_type": "markdown",
   "metadata": {},
   "source": [
    "### Introduction"
   ]
  },
  {
   "cell_type": "code",
   "execution_count": 1,
   "metadata": {},
   "outputs": [],
   "source": [
    "top_forty = ['first_reviewElapsed', 'first_reviewYear_is_na', 'reviews_per_month_is_na', 'last_reviewElapsed',\n",
    "'last_reviewYear_is_na', 'first_reviewYear', 'host_sinceElapsed', 'host_sinceYear_is_na', 'host_total_listings_count_is_na', \n",
    "'host_listings_count_is_na', 'first_reviewDayofyear', 'host_sinceYear', 'host_sinceDayofyear', 'host_sinceMonth',\n",
    "'last_reviewYear', 'cancellation_policy_x0_flexible', 'cancellation_policy_x0_moderate', 'cancellation_policy_x0_strict_14_with_grace_period',\n",
    "'accommodates', 'room_type_x0_Entire home/apt', 'host_sinceDay', 'review_scores_communication_is_na', 'neighbourhood_group_cleansed_x0_Mitte', 'last_reviewDayofyear',\n",
    "'review_scores_rating_is_na', 'bedrooms', 'review_scores_value_is_na', 'first_reviewMonth', 'cleaning_fee',\n",
    "'neighbourhood_group_cleansed_x0_Friedrichshain-Kreuzberg', 'guests_included', 'availability_90',\n",
    "'neighbourhood_cleansed_x0_Moabit West', 'bathrooms', 'neighbourhood_cleansed_x0_Parkviertel', 'neighbourhood_cleansed_x0_Wedding Zentrum',\n",
    "'review_scores_location_is_na', 'neighbourhood_cleansed_x0_Osloer Straße', 'calculated_host_listings_count', 'property_type_x0_Apartment', 'price']"
   ]
  },
  {
   "cell_type": "code",
   "execution_count": 2,
   "metadata": {},
   "outputs": [],
   "source": [
    "import pandas as pd\n",
    "url = './listings_train_df.csv'\n",
    "train_df = pd.read_csv(url, usecols = top_forty)"
   ]
  },
  {
   "cell_type": "code",
   "execution_count": 3,
   "metadata": {},
   "outputs": [
    {
     "data": {
      "text/plain": [
       "(17952, 41)"
      ]
     },
     "execution_count": 3,
     "metadata": {},
     "output_type": "execute_result"
    }
   ],
   "source": [
    "train_df.shape"
   ]
  },
  {
   "cell_type": "code",
   "execution_count": 4,
   "metadata": {},
   "outputs": [],
   "source": [
    "y = train_df['price']"
   ]
  },
  {
   "cell_type": "code",
   "execution_count": 5,
   "metadata": {},
   "outputs": [],
   "source": [
    "X = train_df.drop('price', axis = 1)"
   ]
  },
  {
   "cell_type": "code",
   "execution_count": 6,
   "metadata": {},
   "outputs": [
    {
     "data": {
      "text/plain": [
       "['first_reviewElapsed',\n",
       " 'first_reviewYear_is_na',\n",
       " 'reviews_per_month_is_na',\n",
       " 'last_reviewElapsed',\n",
       " 'last_reviewYear_is_na',\n",
       " 'first_reviewYear',\n",
       " 'host_sinceElapsed',\n",
       " 'host_sinceYear_is_na',\n",
       " 'host_total_listings_count_is_na',\n",
       " 'host_listings_count_is_na']"
      ]
     },
     "execution_count": 6,
     "metadata": {},
     "output_type": "execute_result"
    }
   ],
   "source": []
  },
  {
   "cell_type": "code",
   "execution_count": 15,
   "metadata": {},
   "outputs": [],
   "source": [
    "sampled_X = X.sample(500, random_state = 1)\n",
    "\n",
    "top_ten_X = sampled_X[top_forty[:3]]"
   ]
  },
  {
   "cell_type": "code",
   "execution_count": 16,
   "metadata": {},
   "outputs": [
    {
     "data": {
      "text/plain": [
       "(500, 3)"
      ]
     },
     "execution_count": 16,
     "metadata": {},
     "output_type": "execute_result"
    }
   ],
   "source": [
    "top_ten_X.shape"
   ]
  },
  {
   "cell_type": "code",
   "execution_count": 17,
   "metadata": {},
   "outputs": [
    {
     "ename": "TypeError",
     "evalue": "numpy boolean subtract, the `-` operator, is deprecated, use the bitwise_xor, the `^` operator, or the logical_xor function instead.",
     "output_type": "error",
     "traceback": [
      "\u001b[0;31m---------------------------------------------------------------------------\u001b[0m",
      "\u001b[0;31mTypeError\u001b[0m                                 Traceback (most recent call last)",
      "\u001b[0;32m<ipython-input-17-ceff88a8fd24>\u001b[0m in \u001b[0;36m<module>\u001b[0;34m\u001b[0m\n\u001b[0;32m----> 1\u001b[0;31m \u001b[0mpd\u001b[0m\u001b[0;34m.\u001b[0m\u001b[0mplotting\u001b[0m\u001b[0;34m.\u001b[0m\u001b[0mscatter_matrix\u001b[0m\u001b[0;34m(\u001b[0m\u001b[0mtop_ten_X\u001b[0m\u001b[0;34m)\u001b[0m\u001b[0;34m\u001b[0m\u001b[0;34m\u001b[0m\u001b[0m\n\u001b[0m",
      "\u001b[0;32m~/opt/anaconda3/lib/python3.7/site-packages/pandas/plotting/_misc.py\u001b[0m in \u001b[0;36mscatter_matrix\u001b[0;34m(frame, alpha, figsize, ax, grid, diagonal, marker, density_kwds, hist_kwds, range_padding, **kwds)\u001b[0m\n\u001b[1;32m     77\u001b[0m         \u001b[0mvalues\u001b[0m \u001b[0;34m=\u001b[0m \u001b[0mdf\u001b[0m\u001b[0;34m[\u001b[0m\u001b[0ma\u001b[0m\u001b[0;34m]\u001b[0m\u001b[0;34m.\u001b[0m\u001b[0mvalues\u001b[0m\u001b[0;34m[\u001b[0m\u001b[0mmask\u001b[0m\u001b[0;34m[\u001b[0m\u001b[0ma\u001b[0m\u001b[0;34m]\u001b[0m\u001b[0;34m.\u001b[0m\u001b[0mvalues\u001b[0m\u001b[0;34m]\u001b[0m\u001b[0;34m\u001b[0m\u001b[0;34m\u001b[0m\u001b[0m\n\u001b[1;32m     78\u001b[0m         \u001b[0mrmin_\u001b[0m\u001b[0;34m,\u001b[0m \u001b[0mrmax_\u001b[0m \u001b[0;34m=\u001b[0m \u001b[0mnp\u001b[0m\u001b[0;34m.\u001b[0m\u001b[0mmin\u001b[0m\u001b[0;34m(\u001b[0m\u001b[0mvalues\u001b[0m\u001b[0;34m)\u001b[0m\u001b[0;34m,\u001b[0m \u001b[0mnp\u001b[0m\u001b[0;34m.\u001b[0m\u001b[0mmax\u001b[0m\u001b[0;34m(\u001b[0m\u001b[0mvalues\u001b[0m\u001b[0;34m)\u001b[0m\u001b[0;34m\u001b[0m\u001b[0;34m\u001b[0m\u001b[0m\n\u001b[0;32m---> 79\u001b[0;31m         \u001b[0mrdelta_ext\u001b[0m \u001b[0;34m=\u001b[0m \u001b[0;34m(\u001b[0m\u001b[0mrmax_\u001b[0m \u001b[0;34m-\u001b[0m \u001b[0mrmin_\u001b[0m\u001b[0;34m)\u001b[0m \u001b[0;34m*\u001b[0m \u001b[0mrange_padding\u001b[0m \u001b[0;34m/\u001b[0m \u001b[0;36m2.\u001b[0m\u001b[0;34m\u001b[0m\u001b[0;34m\u001b[0m\u001b[0m\n\u001b[0m\u001b[1;32m     80\u001b[0m         \u001b[0mboundaries_list\u001b[0m\u001b[0;34m.\u001b[0m\u001b[0mappend\u001b[0m\u001b[0;34m(\u001b[0m\u001b[0;34m(\u001b[0m\u001b[0mrmin_\u001b[0m \u001b[0;34m-\u001b[0m \u001b[0mrdelta_ext\u001b[0m\u001b[0;34m,\u001b[0m \u001b[0mrmax_\u001b[0m \u001b[0;34m+\u001b[0m \u001b[0mrdelta_ext\u001b[0m\u001b[0;34m)\u001b[0m\u001b[0;34m)\u001b[0m\u001b[0;34m\u001b[0m\u001b[0;34m\u001b[0m\u001b[0m\n\u001b[1;32m     81\u001b[0m \u001b[0;34m\u001b[0m\u001b[0m\n",
      "\u001b[0;31mTypeError\u001b[0m: numpy boolean subtract, the `-` operator, is deprecated, use the bitwise_xor, the `^` operator, or the logical_xor function instead."
     ]
    },
    {
     "data": {
      "image/png": "[encoded data removed]",
      "text/plain": [
       "<Figure size 432x288 with 9 Axes>"
      ]
     },
     "metadata": {
      "needs_background": "light"
     },
     "output_type": "display_data"
    }
   ],
   "source": [
    "pd.plotting.scatter_matrix(top_ten_X)"
   ]
  },
  {
   "cell_type": "markdown",
   "metadata": {},
   "source": [
    "### Correlations without Plotting"
   ]
  },
  {
   "cell_type": "code",
   "execution_count": null,
   "metadata": {},
   "outputs": [],
   "source": []
  },
  {
   "cell_type": "code",
   "execution_count": null,
   "metadata": {},
   "outputs": [],
   "source": [
    "\n",
    "neighborhood_cols = [col for col in X_train_pruned.columns if 'neighbourhood' in col]\n",
    "zip_cols = [col for col in X_train_pruned.columns if 'zip' in col]\n",
    "berlin_cols = [col for col in X_train_pruned.columns if 'berlin' in col]\n",
    "geo_cols = neighborhood_cols + zip_cols + berlin_cols"
   ]
  },
  {
   "cell_type": "code",
   "execution_count": null,
   "metadata": {},
   "outputs": [],
   "source": [
    "geo_df = X_train_pruned.loc[:, geo_cols]"
   ]
  },
  {
   "cell_type": "code",
   "execution_count": null,
   "metadata": {},
   "outputs": [],
   "source": [
    "indexed_corr = np.abs((geo_df.corr(method = 'spearman')) > .60).sum()\n",
    "correlated_cols = indexed_corr[indexed_corr > 1].index\n",
    "\n",
    "geo_df[correlated_cols].corr(method = 'spearman')"
   ]
  },
  {
   "cell_type": "code",
   "execution_count": null,
   "metadata": {},
   "outputs": [],
   "source": [
    "indexed_corr = np.abs((geo_df.corr(method = 'spearman')) > .60).sum()\n",
    "correlated_cols = indexed_corr[indexed_corr > 1].index\n",
    "\n",
    "geo_df[correlated_cols].corr(method = 'spearman')"
   ]
  }
 ],
 "metadata": {
  "kernelspec": {
   "display_name": "Python 3",
   "language": "python",
   "name": "python3"
  },
  "language_info": {
   "codemirror_mode": {
    "name": "ipython",
    "version": 3
   },
   "file_extension": ".py",
   "mimetype": "text/x-python",
   "name": "python",
   "nbconvert_exporter": "python",
   "pygments_lexer": "ipython3",
   "version": "3.7.4"
  }
 },
 "nbformat": 4,
 "nbformat_minor": 4
}
