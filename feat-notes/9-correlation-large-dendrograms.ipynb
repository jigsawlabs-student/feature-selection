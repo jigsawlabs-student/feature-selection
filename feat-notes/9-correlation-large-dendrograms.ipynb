{
 "cells": [
  {
   "cell_type": "markdown",
   "metadata": {},
   "source": [
    "# Using Correlations"
   ]
  },
  {
   "cell_type": "markdown",
   "metadata": {},
   "source": [
    "### Introduction"
   ]
  },
  {
   "cell_type": "markdown",
   "metadata": {},
   "source": [
    "In this lesson, we'll apply what we learned about correlations to reducing the features in our Airbnb dataset.  Let's get started."
   ]
  },
  {
   "cell_type": "markdown",
   "metadata": {},
   "source": [
    "### Loading the Data"
   ]
  },
  {
   "cell_type": "markdown",
   "metadata": {},
   "source": [
    "We'll start by loading up our training set with the top features that we previously found using permutation importance."
   ]
  },
  {
   "cell_type": "code",
   "execution_count": 169,
   "metadata": {},
   "outputs": [
    {
     "data": {
      "text/plain": [
       "(17952, 41)"
      ]
     },
     "execution_count": 169,
     "metadata": {},
     "output_type": "execute_result"
    }
   ],
   "source": [
    "import pandas as pd\n",
    "\n",
    "listings_df = pd.read_csv('./listings_train_top_forty.csv', index_col = 0)\n",
    "listings_df.shape"
   ]
  },
  {
   "cell_type": "markdown",
   "metadata": {},
   "source": [
    "Included here is the `price` feature."
   ]
  },
  {
   "cell_type": "code",
   "execution_count": 170,
   "metadata": {},
   "outputs": [],
   "source": [
    "X = listings_df.drop('price', axis = 1)"
   ]
  },
  {
   "cell_type": "code",
   "execution_count": 171,
   "metadata": {},
   "outputs": [],
   "source": [
    "y = listings_df['price']"
   ]
  },
  {
   "cell_type": "markdown",
   "metadata": {},
   "source": [
    "### Finding Correlated Features In Code"
   ]
  },
  {
   "cell_type": "markdown",
   "metadata": {},
   "source": [
    "Because we have so many features, we'll avoid plotting a scatter matrix."
   ]
  },
  {
   "cell_type": "markdown",
   "metadata": {},
   "source": [
    "Instead we can calculate our correlation in code.  To do so, we first should coerce all of our values to numbers.  So we can select our boolean features and coerce them to 1s and 0s."
   ]
  },
  {
   "cell_type": "code",
   "execution_count": 172,
   "metadata": {},
   "outputs": [],
   "source": [
    "bool_cols = listings_df.select_dtypes(include='bool').columns\n",
    "\n",
    "# we do this with astype int\n",
    "listings_df[bool_cols] = listings_df[bool_cols].astype(int)"
   ]
  },
  {
   "cell_type": "markdown",
   "metadata": {},
   "source": [
    "Now that everything is numeric, we can calculate the correlation between all columns."
   ]
  },
  {
   "cell_type": "markdown",
   "metadata": {},
   "source": [
    "Let's start with the pearson correlation.  Start by assigning `pearson_corr_df` to a grid of the pearson correlation coefficients."
   ]
  },
  {
   "cell_type": "code",
   "execution_count": 176,
   "metadata": {},
   "outputs": [
    {
     "data": {
      "text/html": [
       "<div>\n",
       "<style scoped>\n",
       "    .dataframe tbody tr th:only-of-type {\n",
       "        vertical-align: middle;\n",
       "    }\n",
       "\n",
       "    .dataframe tbody tr th {\n",
       "        vertical-align: top;\n",
       "    }\n",
       "\n",
       "    .dataframe thead th {\n",
       "        text-align: right;\n",
       "    }\n",
       "</style>\n",
       "<table border=\"1\" class=\"dataframe\">\n",
       "  <thead>\n",
       "    <tr style=\"text-align: right;\">\n",
       "      <th></th>\n",
       "      <th>accommodates</th>\n",
       "      <th>guests_included</th>\n",
       "      <th>availability_90</th>\n",
       "      <th>calculated_host_listings_count</th>\n",
       "      <th>property_type_x0_Apartment</th>\n",
       "    </tr>\n",
       "  </thead>\n",
       "  <tbody>\n",
       "    <tr>\n",
       "      <th>accommodates</th>\n",
       "      <td>1.000000</td>\n",
       "      <td>0.502932</td>\n",
       "      <td>0.148772</td>\n",
       "      <td>0.182929</td>\n",
       "      <td>-0.118029</td>\n",
       "    </tr>\n",
       "    <tr>\n",
       "      <th>guests_included</th>\n",
       "      <td>0.502932</td>\n",
       "      <td>1.000000</td>\n",
       "      <td>0.099042</td>\n",
       "      <td>0.099660</td>\n",
       "      <td>-0.059833</td>\n",
       "    </tr>\n",
       "    <tr>\n",
       "      <th>availability_90</th>\n",
       "      <td>0.148772</td>\n",
       "      <td>0.099042</td>\n",
       "      <td>1.000000</td>\n",
       "      <td>0.223432</td>\n",
       "      <td>-0.178087</td>\n",
       "    </tr>\n",
       "    <tr>\n",
       "      <th>calculated_host_listings_count</th>\n",
       "      <td>0.182929</td>\n",
       "      <td>0.099660</td>\n",
       "      <td>0.223432</td>\n",
       "      <td>1.000000</td>\n",
       "      <td>-0.159715</td>\n",
       "    </tr>\n",
       "    <tr>\n",
       "      <th>property_type_x0_Apartment</th>\n",
       "      <td>-0.118029</td>\n",
       "      <td>-0.059833</td>\n",
       "      <td>-0.178087</td>\n",
       "      <td>-0.159715</td>\n",
       "      <td>1.000000</td>\n",
       "    </tr>\n",
       "  </tbody>\n",
       "</table>\n",
       "</div>"
      ],
      "text/plain": [
       "                                accommodates  guests_included  \\\n",
       "accommodates                        1.000000         0.502932   \n",
       "guests_included                     0.502932         1.000000   \n",
       "availability_90                     0.148772         0.099042   \n",
       "calculated_host_listings_count      0.182929         0.099660   \n",
       "property_type_x0_Apartment         -0.118029        -0.059833   \n",
       "\n",
       "                                availability_90  \\\n",
       "accommodates                           0.148772   \n",
       "guests_included                        0.099042   \n",
       "availability_90                        1.000000   \n",
       "calculated_host_listings_count         0.223432   \n",
       "property_type_x0_Apartment            -0.178087   \n",
       "\n",
       "                                calculated_host_listings_count  \\\n",
       "accommodates                                          0.182929   \n",
       "guests_included                                       0.099660   \n",
       "availability_90                                       0.223432   \n",
       "calculated_host_listings_count                        1.000000   \n",
       "property_type_x0_Apartment                           -0.159715   \n",
       "\n",
       "                                property_type_x0_Apartment  \n",
       "accommodates                                     -0.118029  \n",
       "guests_included                                  -0.059833  \n",
       "availability_90                                  -0.178087  \n",
       "calculated_host_listings_count                   -0.159715  \n",
       "property_type_x0_Apartment                        1.000000  "
      ]
     },
     "execution_count": 176,
     "metadata": {},
     "output_type": "execute_result"
    }
   ],
   "source": [
    "pearson_corr_df = X.corr(method = 'pearson')\n",
    "\n",
    "pearson_corr_df.iloc[:5, :5]\n",
    "# \taccommodates\tguests_included\tavailability_90\tcalculated_host_listings_count\tproperty_type_x0_Apartment\n",
    "# accommodates\t1.000000\t0.502932\t0.148772\t0.182929\t-0.118029\n",
    "# guests_included\t0.502932\t1.000000\t0.099042\t0.099660\t-0.059833\n",
    "# availability_90\t0.148772\t0.099042\t1.000000\t0.223432\t-0.178087\n",
    "# calculated_host_listings_count\t0.182929\t0.099660\t0.223432\t1.000000\t-0.159715\n",
    "# property_type_x0_Apartment\t-0.118029\t-0.059833\t-0.178087\t-0.159715\t1.000000"
   ]
  },
  {
   "cell_type": "code",
   "execution_count": 178,
   "metadata": {},
   "outputs": [
    {
     "data": {
      "text/plain": [
       "(40, 40)"
      ]
     },
     "execution_count": 178,
     "metadata": {},
     "output_type": "execute_result"
    }
   ],
   "source": [
    "pearson_corr_df.shape\n",
    "\n",
    "# (40, 40)"
   ]
  },
  {
   "cell_type": "markdown",
   "metadata": {},
   "source": [
    "So with the above, we can see how well a line fits to each of the above pairs of features.  Next, for each feature, find the number of correlations over $.70$, and sort by this amount."
   ]
  },
  {
   "cell_type": "code",
   "execution_count": 184,
   "metadata": {},
   "outputs": [],
   "source": [
    "pearson_corr_amounts = (pearson_corr_df > .70).sum(axis = 1).sort_values(ascending = False)"
   ]
  },
  {
   "cell_type": "code",
   "execution_count": 185,
   "metadata": {},
   "outputs": [
    {
     "data": {
      "text/plain": [
       "last_reviewYear_is_na                7\n",
       "reviews_per_month_is_na              7\n",
       "review_scores_value_is_na            7\n",
       "review_scores_location_is_na         7\n",
       "review_scores_communication_is_na    7\n",
       "review_scores_rating_is_na           7\n",
       "first_reviewYear_is_na               7\n",
       "host_sinceYear_is_na                 3\n",
       "host_total_listings_count_is_na      3\n",
       "host_listings_count_is_na            3\n",
       "dtype: int64"
      ]
     },
     "execution_count": 185,
     "metadata": {},
     "output_type": "execute_result"
    }
   ],
   "source": [
    "pearson_corr_amounts[:10]"
   ]
  },
  {
   "cell_type": "markdown",
   "metadata": {},
   "source": [
    "We can see that a lot of our na columns are correlated with each other.  Let's start by removing those columns that "
   ]
  },
  {
   "cell_type": "markdown",
   "metadata": {},
   "source": [
    "Let's see how well this applies to the above."
   ]
  },
  {
   "cell_type": "code",
   "execution_count": null,
   "metadata": {},
   "outputs": [],
   "source": [
    "corr_df"
   ]
  },
  {
   "cell_type": "code",
   "execution_count": 152,
   "metadata": {},
   "outputs": [
    {
     "data": {
      "text/plain": [
       "array([ 0,  1,  2,  3,  4,  5,  6,  7,  8,  9, 10, 11, 12, 13, 14, 15, 16,\n",
       "       17, 18, 19, 20, 21, 22, 23, 24, 25, 26, 27, 28, 29, 30, 30, 32, 33,\n",
       "       34, 35, 36, 30, 36, 39, 40])"
      ]
     },
     "execution_count": 152,
     "metadata": {},
     "output_type": "execute_result"
    }
   ],
   "source": [
    "np.argmax(corr_df.to_numpy(), axis = 1)"
   ]
  },
  {
   "cell_type": "code",
   "execution_count": 47,
   "metadata": {},
   "outputs": [],
   "source": [
    "over_one_corr = indexed_corr.sum(axis = 0)"
   ]
  },
  {
   "cell_type": "code",
   "execution_count": 51,
   "metadata": {},
   "outputs": [],
   "source": [
    "highly_corr_cols = over_one_corr.sort_values(ascending = False).index[:7]"
   ]
  },
  {
   "cell_type": "code",
   "execution_count": 102,
   "metadata": {},
   "outputs": [
    {
     "data": {
      "text/plain": [
       "Index(['first_reviewYear_is_na', 'reviews_per_month_is_na',\n",
       "       'review_scores_value_is_na', 'review_scores_location_is_na',\n",
       "       'review_scores_communication_is_na', 'review_scores_rating_is_na',\n",
       "       'last_reviewYear_is_na'],\n",
       "      dtype='object')"
      ]
     },
     "execution_count": 102,
     "metadata": {},
     "output_type": "execute_result"
    }
   ],
   "source": [
    "highly_corr_cols"
   ]
  },
  {
   "cell_type": "markdown",
   "metadata": {},
   "source": [
    "### Drop Columns"
   ]
  },
  {
   "cell_type": "code",
   "execution_count": 55,
   "metadata": {},
   "outputs": [],
   "source": [
    "X = listings_df.drop('price', axis = 1)"
   ]
  },
  {
   "cell_type": "code",
   "execution_count": 56,
   "metadata": {},
   "outputs": [],
   "source": [
    "y = listings_df['price']"
   ]
  },
  {
   "cell_type": "code",
   "execution_count": 93,
   "metadata": {},
   "outputs": [],
   "source": [
    "X_pruned = X.drop(columns = highly_corr_cols[:5])"
   ]
  },
  {
   "cell_type": "code",
   "execution_count": 94,
   "metadata": {},
   "outputs": [],
   "source": [
    "from sklearn.model_selection import train_test_split"
   ]
  },
  {
   "cell_type": "code",
   "execution_count": 95,
   "metadata": {},
   "outputs": [],
   "source": [
    "X_train, X_validate, y_train, y_validate = train_test_split(X_pruned, y)"
   ]
  },
  {
   "cell_type": "code",
   "execution_count": 96,
   "metadata": {},
   "outputs": [],
   "source": [
    "from sklearn.linear_model import LinearRegression"
   ]
  },
  {
   "cell_type": "code",
   "execution_count": 97,
   "metadata": {},
   "outputs": [
    {
     "data": {
      "text/plain": [
       "LinearRegression(copy_X=True, fit_intercept=True, n_jobs=None, normalize=False)"
      ]
     },
     "execution_count": 97,
     "metadata": {},
     "output_type": "execute_result"
    }
   ],
   "source": [
    "model = LinearRegression()\n",
    "model.fit(X_train, y_train)"
   ]
  },
  {
   "cell_type": "code",
   "execution_count": 98,
   "metadata": {},
   "outputs": [
    {
     "data": {
      "text/plain": [
       "0.5007910801998332"
      ]
     },
     "execution_count": 98,
     "metadata": {},
     "output_type": "execute_result"
    }
   ],
   "source": [
    "model.score(X_validate, y_validate)"
   ]
  },
  {
   "cell_type": "code",
   "execution_count": 99,
   "metadata": {},
   "outputs": [
    {
     "data": {
      "text/plain": [
       "Index(['first_reviewYear_is_na', 'reviews_per_month_is_na',\n",
       "       'review_scores_value_is_na', 'review_scores_location_is_na',\n",
       "       'review_scores_communication_is_na'],\n",
       "      dtype='object')"
      ]
     },
     "execution_count": 99,
     "metadata": {},
     "output_type": "execute_result"
    }
   ],
   "source": [
    "highly_corr_cols[:5]"
   ]
  },
  {
   "cell_type": "code",
   "execution_count": 100,
   "metadata": {},
   "outputs": [
    {
     "data": {
      "text/plain": [
       "(17952, 35)"
      ]
     },
     "execution_count": 100,
     "metadata": {},
     "output_type": "execute_result"
    }
   ],
   "source": [
    "X_pruned.shape"
   ]
  },
  {
   "cell_type": "markdown",
   "metadata": {},
   "source": [
    "### Resources"
   ]
  },
  {
   "cell_type": "markdown",
   "metadata": {},
   "source": [
    "[Khan Academy correlation coefficient](https://www.youtube.com/watch?v=u4ugaNo6v1Q)"
   ]
  },
  {
   "cell_type": "markdown",
   "metadata": {},
   "source": [
    "So from here we can see some pairings: \n",
    "\n",
    "* neighborhood_Wedding and zip_dists_1335\n",
    "* neighbourhood_Wilmersdorf, host_neighbourhood_Wilmersdorf\n",
    "* state_is_berlin, street_is_berlin\n",
    "* street_is_berlin_berlin_germany, state_is_berlin"
   ]
  },
  {
   "cell_type": "markdown",
   "metadata": {},
   "source": [
    "* We of course could also do this with our entire matrix."
   ]
  },
  {
   "cell_type": "markdown",
   "metadata": {},
   "source": [
    "But we can see any even stronger relationship, if we use a metric like `spearmanr`.  "
   ]
  },
  {
   "cell_type": "code",
   "execution_count": 64,
   "metadata": {},
   "outputs": [
    {
     "data": {
      "text/plain": [
       "Index(['host_response_rate_is_na', 'state_is_berlin',\n",
       "       'street_is_berlin_berlin_germany', 'neighbourhood_Wedding',\n",
       "       'neighbourhood_Wilmersdorf', 'host_neighbourhood_Wilmersdorf',\n",
       "       'host_response_time_other', 'zip_dists_1335'],\n",
       "      dtype='object')"
      ]
     },
     "execution_count": 64,
     "metadata": {},
     "output_type": "execute_result"
    }
   ],
   "source": [
    "#  here need to also have for less than .60\n",
    "indexed_corr = (X_train_pruned.corr(method = 'spearman') > .60).sum()\n",
    "correlated_cols = indexed_corr[indexed_corr > 1].index\n",
    "correlated_cols\n",
    "\n",
    "X_train_pruned[correlated_cols].corr(method = 'spearman')"
   ]
  },
  {
   "cell_type": "code",
   "execution_count": 62,
   "metadata": {},
   "outputs": [
    {
     "data": {
      "text/html": [
       "<div>\n",
       "<style scoped>\n",
       "    .dataframe tbody tr th:only-of-type {\n",
       "        vertical-align: middle;\n",
       "    }\n",
       "\n",
       "    .dataframe tbody tr th {\n",
       "        vertical-align: top;\n",
       "    }\n",
       "\n",
       "    .dataframe thead th {\n",
       "        text-align: right;\n",
       "    }\n",
       "</style>\n",
       "<table border=\"1\" class=\"dataframe\">\n",
       "  <thead>\n",
       "    <tr style=\"text-align: right;\">\n",
       "      <th></th>\n",
       "      <th>host_response_rate_is_na</th>\n",
       "      <th>state_is_berlin</th>\n",
       "      <th>street_is_berlin_berlin_germany</th>\n",
       "      <th>neighbourhood_Wedding</th>\n",
       "      <th>neighbourhood_Wilmersdorf</th>\n",
       "      <th>host_neighbourhood_Wilmersdorf</th>\n",
       "      <th>host_response_time_other</th>\n",
       "      <th>zip_dists_1335</th>\n",
       "    </tr>\n",
       "  </thead>\n",
       "  <tbody>\n",
       "    <tr>\n",
       "      <th>host_response_rate_is_na</th>\n",
       "      <td>1.000000</td>\n",
       "      <td>0.008039</td>\n",
       "      <td>0.034077</td>\n",
       "      <td>0.046751</td>\n",
       "      <td>-0.027278</td>\n",
       "      <td>-0.025850</td>\n",
       "      <td>1.000000</td>\n",
       "      <td>0.027216</td>\n",
       "    </tr>\n",
       "    <tr>\n",
       "      <th>state_is_berlin</th>\n",
       "      <td>0.008039</td>\n",
       "      <td>1.000000</td>\n",
       "      <td>0.748955</td>\n",
       "      <td>0.016985</td>\n",
       "      <td>-0.005961</td>\n",
       "      <td>-0.003056</td>\n",
       "      <td>0.008039</td>\n",
       "      <td>0.017751</td>\n",
       "    </tr>\n",
       "    <tr>\n",
       "      <th>street_is_berlin_berlin_germany</th>\n",
       "      <td>0.034077</td>\n",
       "      <td>0.748955</td>\n",
       "      <td>1.000000</td>\n",
       "      <td>0.016855</td>\n",
       "      <td>-0.010946</td>\n",
       "      <td>-0.011327</td>\n",
       "      <td>0.034077</td>\n",
       "      <td>0.020733</td>\n",
       "    </tr>\n",
       "    <tr>\n",
       "      <th>neighbourhood_Wedding</th>\n",
       "      <td>0.046751</td>\n",
       "      <td>0.016985</td>\n",
       "      <td>0.016855</td>\n",
       "      <td>1.000000</td>\n",
       "      <td>-0.038366</td>\n",
       "      <td>-0.031592</td>\n",
       "      <td>0.046751</td>\n",
       "      <td>0.808018</td>\n",
       "    </tr>\n",
       "    <tr>\n",
       "      <th>neighbourhood_Wilmersdorf</th>\n",
       "      <td>-0.027278</td>\n",
       "      <td>-0.005961</td>\n",
       "      <td>-0.010946</td>\n",
       "      <td>-0.038366</td>\n",
       "      <td>1.000000</td>\n",
       "      <td>0.803552</td>\n",
       "      <td>-0.027278</td>\n",
       "      <td>-0.033285</td>\n",
       "    </tr>\n",
       "    <tr>\n",
       "      <th>host_neighbourhood_Wilmersdorf</th>\n",
       "      <td>-0.025850</td>\n",
       "      <td>-0.003056</td>\n",
       "      <td>-0.011327</td>\n",
       "      <td>-0.031592</td>\n",
       "      <td>0.803552</td>\n",
       "      <td>1.000000</td>\n",
       "      <td>-0.025850</td>\n",
       "      <td>-0.026839</td>\n",
       "    </tr>\n",
       "    <tr>\n",
       "      <th>host_response_time_other</th>\n",
       "      <td>1.000000</td>\n",
       "      <td>0.008039</td>\n",
       "      <td>0.034077</td>\n",
       "      <td>0.046751</td>\n",
       "      <td>-0.027278</td>\n",
       "      <td>-0.025850</td>\n",
       "      <td>1.000000</td>\n",
       "      <td>0.027216</td>\n",
       "    </tr>\n",
       "    <tr>\n",
       "      <th>zip_dists_1335</th>\n",
       "      <td>0.027216</td>\n",
       "      <td>0.017751</td>\n",
       "      <td>0.020733</td>\n",
       "      <td>0.808018</td>\n",
       "      <td>-0.033285</td>\n",
       "      <td>-0.026839</td>\n",
       "      <td>0.027216</td>\n",
       "      <td>1.000000</td>\n",
       "    </tr>\n",
       "  </tbody>\n",
       "</table>\n",
       "</div>"
      ],
      "text/plain": [
       "                                 host_response_rate_is_na  state_is_berlin  \\\n",
       "host_response_rate_is_na                         1.000000         0.008039   \n",
       "state_is_berlin                                  0.008039         1.000000   \n",
       "street_is_berlin_berlin_germany                  0.034077         0.748955   \n",
       "neighbourhood_Wedding                            0.046751         0.016985   \n",
       "neighbourhood_Wilmersdorf                       -0.027278        -0.005961   \n",
       "host_neighbourhood_Wilmersdorf                  -0.025850        -0.003056   \n",
       "host_response_time_other                         1.000000         0.008039   \n",
       "zip_dists_1335                                   0.027216         0.017751   \n",
       "\n",
       "                                 street_is_berlin_berlin_germany  \\\n",
       "host_response_rate_is_na                                0.034077   \n",
       "state_is_berlin                                         0.748955   \n",
       "street_is_berlin_berlin_germany                         1.000000   \n",
       "neighbourhood_Wedding                                   0.016855   \n",
       "neighbourhood_Wilmersdorf                              -0.010946   \n",
       "host_neighbourhood_Wilmersdorf                         -0.011327   \n",
       "host_response_time_other                                0.034077   \n",
       "zip_dists_1335                                          0.020733   \n",
       "\n",
       "                                 neighbourhood_Wedding  \\\n",
       "host_response_rate_is_na                      0.046751   \n",
       "state_is_berlin                               0.016985   \n",
       "street_is_berlin_berlin_germany               0.016855   \n",
       "neighbourhood_Wedding                         1.000000   \n",
       "neighbourhood_Wilmersdorf                    -0.038366   \n",
       "host_neighbourhood_Wilmersdorf               -0.031592   \n",
       "host_response_time_other                      0.046751   \n",
       "zip_dists_1335                                0.808018   \n",
       "\n",
       "                                 neighbourhood_Wilmersdorf  \\\n",
       "host_response_rate_is_na                         -0.027278   \n",
       "state_is_berlin                                  -0.005961   \n",
       "street_is_berlin_berlin_germany                  -0.010946   \n",
       "neighbourhood_Wedding                            -0.038366   \n",
       "neighbourhood_Wilmersdorf                         1.000000   \n",
       "host_neighbourhood_Wilmersdorf                    0.803552   \n",
       "host_response_time_other                         -0.027278   \n",
       "zip_dists_1335                                   -0.033285   \n",
       "\n",
       "                                 host_neighbourhood_Wilmersdorf  \\\n",
       "host_response_rate_is_na                              -0.025850   \n",
       "state_is_berlin                                       -0.003056   \n",
       "street_is_berlin_berlin_germany                       -0.011327   \n",
       "neighbourhood_Wedding                                 -0.031592   \n",
       "neighbourhood_Wilmersdorf                              0.803552   \n",
       "host_neighbourhood_Wilmersdorf                         1.000000   \n",
       "host_response_time_other                              -0.025850   \n",
       "zip_dists_1335                                        -0.026839   \n",
       "\n",
       "                                 host_response_time_other  zip_dists_1335  \n",
       "host_response_rate_is_na                         1.000000        0.027216  \n",
       "state_is_berlin                                  0.008039        0.017751  \n",
       "street_is_berlin_berlin_germany                  0.034077        0.020733  \n",
       "neighbourhood_Wedding                            0.046751        0.808018  \n",
       "neighbourhood_Wilmersdorf                       -0.027278       -0.033285  \n",
       "host_neighbourhood_Wilmersdorf                  -0.025850       -0.026839  \n",
       "host_response_time_other                         1.000000        0.027216  \n",
       "zip_dists_1335                                   0.027216        1.000000  "
      ]
     },
     "execution_count": 62,
     "metadata": {},
     "output_type": "execute_result"
    }
   ],
   "source": [
    "X_train_pruned[correlated_cols].corr(method = 'spearman')"
   ]
  },
  {
   "cell_type": "markdown",
   "metadata": {},
   "source": [
    "So to this we can add: \n",
    "    * host_response_time_other, and host_response_rate_is_na"
   ]
  },
  {
   "cell_type": "markdown",
   "metadata": {},
   "source": [
    "## Remove connected columns"
   ]
  },
  {
   "cell_type": "markdown",
   "metadata": {},
   "source": [
    "* neighborhood_Wedding and zip_dists_1335\n",
    "* neighbourhood_Wilmersdorf, host_neighbourhood_Wilmersdorf\n",
    "* state_is_berlin, street_is_berlin\n",
    "* street_is_berlin_berlin_germany, state_is_berlin\n",
    "* host_response_time_other, and host_response_rate_is_na"
   ]
  },
  {
   "cell_type": "code",
   "execution_count": 65,
   "metadata": {},
   "outputs": [],
   "source": [
    "X_train_dropped = X_train_pruned.drop(columns=['zip_dists_1335', 'host_neighbourhood_Wilmersdorf', 'state_is_berlin', 'street_is_berlin_berlin_germany', 'host_response_time_other'])"
   ]
  },
  {
   "cell_type": "code",
   "execution_count": 67,
   "metadata": {},
   "outputs": [
    {
     "data": {
      "text/plain": [
       "30"
      ]
     },
     "execution_count": 67,
     "metadata": {},
     "output_type": "execute_result"
    }
   ],
   "source": [
    "len(X_train_dropped.columns)"
   ]
  },
  {
   "cell_type": "markdown",
   "metadata": {},
   "source": [
    "# Working with Dendrograms"
   ]
  },
  {
   "cell_type": "markdown",
   "metadata": {},
   "source": [
    "### Introduction"
   ]
  },
  {
   "cell_type": "markdown",
   "metadata": {},
   "source": [
    "In the last lesson, we saw how we can detect variables that are associated with each other by using correlations.  The motivation for examining the correlations between variables is that if two features are correlated, we can likely remove one of them with suffering a significant decrease in our model's accuracy.  And by reducing the number of features, we see our standard benefits of a more understable model, a decrease in variance, and a reduction in multicollinearity."
   ]
  },
  {
   "cell_type": "markdown",
   "metadata": {},
   "source": [
    "In the last section, we also saw two different types of correlations.  The pearson correlation which measured strictly the strength of a linear relationship between variables, and the spearman correlation or rank correlation, which also captured non-linear relationships.\n",
    "\n",
    "As mentioned, we'll focus on the spearman correlation going forward."
   ]
  },
  {
   "cell_type": "markdown",
   "metadata": {},
   "source": [
    "### Plotting Correlations with Dendrograms"
   ]
  },
  {
   "cell_type": "markdown",
   "metadata": {},
   "source": [
    "Now previously, we plotted both our relationships among variables with scatter plots.  In this section, we'll use a dendrogram to see if two variables are assosicated with one another.  Ok, so let's start by plotting our scatter matrix of the rank of the features."
   ]
  },
  {
   "cell_type": "code",
   "execution_count": 41,
   "metadata": {},
   "outputs": [
    {
     "ename": "NameError",
     "evalue": "name 'X_train_dropped' is not defined",
     "output_type": "error",
     "traceback": [
      "\u001b[0;31m---------------------------------------------------------------------------\u001b[0m",
      "\u001b[0;31mNameError\u001b[0m                                 Traceback (most recent call last)",
      "\u001b[0;32m<ipython-input-41-70cd1b69db04>\u001b[0m in \u001b[0;36m<module>\u001b[0;34m\u001b[0m\n\u001b[1;32m      1\u001b[0m \u001b[0;32mimport\u001b[0m \u001b[0mscipy\u001b[0m\u001b[0;34m.\u001b[0m\u001b[0mcluster\u001b[0m\u001b[0;34m.\u001b[0m\u001b[0mhierarchy\u001b[0m \u001b[0;32mas\u001b[0m \u001b[0mhc\u001b[0m\u001b[0;34m\u001b[0m\u001b[0;34m\u001b[0m\u001b[0m\n\u001b[0;32m----> 2\u001b[0;31m \u001b[0mcorr\u001b[0m \u001b[0;34m=\u001b[0m \u001b[0mX_train_dropped\u001b[0m\u001b[0;34m.\u001b[0m\u001b[0mcorr\u001b[0m\u001b[0;34m(\u001b[0m\u001b[0mmethod\u001b[0m \u001b[0;34m=\u001b[0m \u001b[0;34m'spearman'\u001b[0m\u001b[0;34m)\u001b[0m\u001b[0;34m\u001b[0m\u001b[0;34m\u001b[0m\u001b[0m\n\u001b[0m\u001b[1;32m      3\u001b[0m \u001b[0mcorr_condensed\u001b[0m \u001b[0;34m=\u001b[0m \u001b[0mhc\u001b[0m\u001b[0;34m.\u001b[0m\u001b[0mdistance\u001b[0m\u001b[0;34m.\u001b[0m\u001b[0msquareform\u001b[0m\u001b[0;34m(\u001b[0m\u001b[0;36m1\u001b[0m \u001b[0;34m-\u001b[0m \u001b[0mnp\u001b[0m\u001b[0;34m.\u001b[0m\u001b[0mabs\u001b[0m\u001b[0;34m(\u001b[0m\u001b[0mcorr\u001b[0m\u001b[0;34m)\u001b[0m\u001b[0;34m)\u001b[0m\u001b[0;34m\u001b[0m\u001b[0;34m\u001b[0m\u001b[0m\n\u001b[1;32m      4\u001b[0m \u001b[0mz\u001b[0m \u001b[0;34m=\u001b[0m \u001b[0mhc\u001b[0m\u001b[0;34m.\u001b[0m\u001b[0mlinkage\u001b[0m\u001b[0;34m(\u001b[0m\u001b[0mcorr_condensed\u001b[0m\u001b[0;34m,\u001b[0m \u001b[0mmethod\u001b[0m \u001b[0;34m=\u001b[0m \u001b[0;34m'average'\u001b[0m\u001b[0;34m)\u001b[0m\u001b[0;34m\u001b[0m\u001b[0;34m\u001b[0m\u001b[0m\n\u001b[1;32m      5\u001b[0m \u001b[0;34m\u001b[0m\u001b[0m\n",
      "\u001b[0;31mNameError\u001b[0m: name 'X_train_dropped' is not defined"
     ]
    }
   ],
   "source": [
    "import scipy.cluster.hierarchy as hc\n",
    "corr = X_train_dropped.corr(method = 'spearman')\n",
    "corr_condensed = hc.distance.squareform(1 - np.abs(corr))\n",
    "z = hc.linkage(corr_condensed, method = 'average')\n",
    "\n",
    "import matplotlib.pyplot as plt\n",
    "fig = plt.figure(figsize=(16,10))\n",
    "dendrogram = hc.dendrogram(z, labels = X_train_dropped.columns, orientation = 'left', leaf_font_size=16)"
   ]
  },
  {
   "cell_type": "code",
   "execution_count": 70,
   "metadata": {},
   "outputs": [
    {
     "data": {
      "text/plain": [
       "Index(['longitude', 'bedrooms', 'bedrooms_is_na', 'host_response_rate_is_na',\n",
       "       'summary_is_na', 'license_is_na', 'zipcode_is_na', 'bathrooms_is_na',\n",
       "       'beds_is_na', 'host_sinceIs_year_end', 'requires_license',\n",
       "       'property_type_Loft', 'property_type_other',\n",
       "       'neighbourhood_group_cleansed_Mitte',\n",
       "       'neighbourhood_group_cleansed_Neukölln',\n",
       "       'neighbourhood_group_cleansed_Reinickendorf',\n",
       "       'neighbourhood_group_cleansed_other', 'neighbourhood_Wedding',\n",
       "       'neighbourhood_Wilmersdorf', 'cancellation_policy_super_strict_60',\n",
       "       'room_type_Private room', 'room_type_Shared room',\n",
       "       'neighbourhood_cleansed_Moabit Ost',\n",
       "       'neighbourhood_cleansed_Moabit West',\n",
       "       'neighbourhood_cleansed_Parkviertel', 'zip_dists_1082',\n",
       "       'zip_dists_other', 'last_reviewMonth_2.0', 'last_reviewMonth_3.0',\n",
       "       'last_reviewMonth_12.0'],\n",
       "      dtype='object')"
      ]
     },
     "execution_count": 70,
     "metadata": {},
     "output_type": "execute_result"
    }
   ],
   "source": [
    "X_train_dropped.columns"
   ]
  },
  {
   "cell_type": "code",
   "execution_count": 73,
   "metadata": {},
   "outputs": [
    {
     "data": {
      "text/html": [
       "<div>\n",
       "<style scoped>\n",
       "    .dataframe tbody tr th:only-of-type {\n",
       "        vertical-align: middle;\n",
       "    }\n",
       "\n",
       "    .dataframe tbody tr th {\n",
       "        vertical-align: top;\n",
       "    }\n",
       "\n",
       "    .dataframe thead th {\n",
       "        text-align: right;\n",
       "    }\n",
       "</style>\n",
       "<table border=\"1\" class=\"dataframe\">\n",
       "  <thead>\n",
       "    <tr style=\"text-align: right;\">\n",
       "      <th></th>\n",
       "      <th>longitude</th>\n",
       "      <th>neighbourhood_group_cleansed_Neukölln</th>\n",
       "    </tr>\n",
       "  </thead>\n",
       "  <tbody>\n",
       "    <tr>\n",
       "      <th>longitude</th>\n",
       "      <td>1.000000</td>\n",
       "      <td>0.294026</td>\n",
       "    </tr>\n",
       "    <tr>\n",
       "      <th>neighbourhood_group_cleansed_Neukölln</th>\n",
       "      <td>0.294026</td>\n",
       "      <td>1.000000</td>\n",
       "    </tr>\n",
       "  </tbody>\n",
       "</table>\n",
       "</div>"
      ],
      "text/plain": [
       "                                       longitude  \\\n",
       "longitude                               1.000000   \n",
       "neighbourhood_group_cleansed_Neukölln   0.294026   \n",
       "\n",
       "                                       neighbourhood_group_cleansed_Neukölln  \n",
       "longitude                                                           0.294026  \n",
       "neighbourhood_group_cleansed_Neukölln                               1.000000  "
      ]
     },
     "execution_count": 73,
     "metadata": {},
     "output_type": "execute_result"
    }
   ],
   "source": [
    "first_pair = ['longitude', 'neighbourhood_group_cleansed_Neukölln']\n",
    "second_pair = ['neighbourhood_group_cleansed_Mitte', 'neighbourhood_Wedding']\n",
    "X_train_dropped[first_pair].corr(method = 'spearman')"
   ]
  },
  {
   "cell_type": "code",
   "execution_count": 74,
   "metadata": {},
   "outputs": [
    {
     "data": {
      "text/html": [
       "<div>\n",
       "<style scoped>\n",
       "    .dataframe tbody tr th:only-of-type {\n",
       "        vertical-align: middle;\n",
       "    }\n",
       "\n",
       "    .dataframe tbody tr th {\n",
       "        vertical-align: top;\n",
       "    }\n",
       "\n",
       "    .dataframe thead th {\n",
       "        text-align: right;\n",
       "    }\n",
       "</style>\n",
       "<table border=\"1\" class=\"dataframe\">\n",
       "  <thead>\n",
       "    <tr style=\"text-align: right;\">\n",
       "      <th></th>\n",
       "      <th>neighbourhood_group_cleansed_Mitte</th>\n",
       "      <th>neighbourhood_Wedding</th>\n",
       "    </tr>\n",
       "  </thead>\n",
       "  <tbody>\n",
       "    <tr>\n",
       "      <th>neighbourhood_group_cleansed_Mitte</th>\n",
       "      <td>1.000000</td>\n",
       "      <td>0.509146</td>\n",
       "    </tr>\n",
       "    <tr>\n",
       "      <th>neighbourhood_Wedding</th>\n",
       "      <td>0.509146</td>\n",
       "      <td>1.000000</td>\n",
       "    </tr>\n",
       "  </tbody>\n",
       "</table>\n",
       "</div>"
      ],
      "text/plain": [
       "                                    neighbourhood_group_cleansed_Mitte  \\\n",
       "neighbourhood_group_cleansed_Mitte                            1.000000   \n",
       "neighbourhood_Wedding                                         0.509146   \n",
       "\n",
       "                                    neighbourhood_Wedding  \n",
       "neighbourhood_group_cleansed_Mitte               0.509146  \n",
       "neighbourhood_Wedding                            1.000000  "
      ]
     },
     "execution_count": 74,
     "metadata": {},
     "output_type": "execute_result"
    }
   ],
   "source": [
    "X_train_dropped[second_pair].corr(method = 'spearman')"
   ]
  },
  {
   "cell_type": "markdown",
   "metadata": {},
   "source": [
    "### Removing Features"
   ]
  },
  {
   "cell_type": "markdown",
   "metadata": {},
   "source": [
    "Neither of these look too strong, so we can leave them both in."
   ]
  },
  {
   "cell_type": "code",
   "execution_count": null,
   "metadata": {},
   "outputs": [],
   "source": [
    "# model.fit(X_train_pruned, y_train_pruned)\n",
    "# model.score(X_test_pruned, y_test_pruned)"
   ]
  },
  {
   "cell_type": "code",
   "execution_count": 76,
   "metadata": {},
   "outputs": [
    {
     "data": {
      "text/plain": [
       "LinearRegression(copy_X=True, fit_intercept=True, n_jobs=None,\n",
       "         normalize=False)"
      ]
     },
     "execution_count": 76,
     "metadata": {},
     "output_type": "execute_result"
    }
   ],
   "source": [
    "model.fit(X_train_dropped, y_train_pruned)"
   ]
  },
  {
   "cell_type": "code",
   "execution_count": 77,
   "metadata": {},
   "outputs": [],
   "source": [
    "dropped_columns =['zip_dists_1335', 'host_neighbourhood_Wilmersdorf', 'state_is_berlin', 'street_is_berlin_berlin_germany', 'host_response_time_other']"
   ]
  },
  {
   "cell_type": "code",
   "execution_count": 79,
   "metadata": {},
   "outputs": [
    {
     "data": {
      "text/plain": [
       "0.46007398634498153"
      ]
     },
     "execution_count": 79,
     "metadata": {},
     "output_type": "execute_result"
    }
   ],
   "source": [
    "X_test_dropped = X_test_pruned.drop(columns = dropped_columns)\n",
    "\n",
    "model.score(X_test_dropped, y_test_pruned)"
   ]
  },
  {
   "cell_type": "code",
   "execution_count": 80,
   "metadata": {},
   "outputs": [
    {
     "data": {
      "text/plain": [
       "Index(['longitude', 'bedrooms', 'bedrooms_is_na', 'host_response_rate_is_na',\n",
       "       'summary_is_na', 'license_is_na', 'zipcode_is_na', 'bathrooms_is_na',\n",
       "       'beds_is_na', 'host_sinceIs_year_end', 'requires_license',\n",
       "       'state_is_berlin', 'street_is_berlin_berlin_germany',\n",
       "       'property_type_Loft', 'property_type_other',\n",
       "       'neighbourhood_group_cleansed_Mitte',\n",
       "       'neighbourhood_group_cleansed_Neukölln',\n",
       "       'neighbourhood_group_cleansed_Reinickendorf',\n",
       "       'neighbourhood_group_cleansed_other', 'neighbourhood_Wedding',\n",
       "       'neighbourhood_Wilmersdorf', 'host_neighbourhood_Wilmersdorf',\n",
       "       'cancellation_policy_super_strict_60', 'room_type_Private room',\n",
       "       'room_type_Shared room', 'host_response_time_other',\n",
       "       'neighbourhood_cleansed_Moabit Ost',\n",
       "       'neighbourhood_cleansed_Moabit West',\n",
       "       'neighbourhood_cleansed_Parkviertel', 'zip_dists_1082',\n",
       "       'zip_dists_1335', 'zip_dists_other', 'last_reviewMonth_2.0',\n",
       "       'last_reviewMonth_3.0', 'last_reviewMonth_12.0'],\n",
       "      dtype='object')"
      ]
     },
     "execution_count": 80,
     "metadata": {},
     "output_type": "execute_result"
    }
   ],
   "source": [
    "X_test_pruned.columns"
   ]
  },
  {
   "cell_type": "markdown",
   "metadata": {},
   "source": [
    "So we notice that we removed five columns, and essentially wound up with the same as our previous larger model."
   ]
  },
  {
   "cell_type": "markdown",
   "metadata": {},
   "source": [
    "(35 features, and score of 0.4628732594292488)"
   ]
  },
  {
   "cell_type": "markdown",
   "metadata": {},
   "source": [
    "Here are our new importances: "
   ]
  },
  {
   "cell_type": "code",
   "execution_count": 84,
   "metadata": {},
   "outputs": [
    {
     "data": {
      "text/plain": [
       "array([['room_type_Shared room', -0.9389809471607655],\n",
       "       ['cancellation_policy_super_strict_60', 0.8424899490730072],\n",
       "       ['requires_license', 0.7047767596167392],\n",
       "       ['longitude', -0.6794678066264861],\n",
       "       ['room_type_Private room', -0.5248350063414015],\n",
       "       ['beds_is_na', 0.49824074208911406],\n",
       "       ['neighbourhood_cleansed_Moabit West', -0.3956887963818316],\n",
       "       ['property_type_Loft', 0.37686854970723155],\n",
       "       ['property_type_other', 0.37594275346111766],\n",
       "       ['neighbourhood_Wedding', -0.3633285128970777],\n",
       "       ['bathrooms_is_na', -0.3257359699532433],\n",
       "       ['host_sinceIs_year_end', -0.3195202583914894],\n",
       "       ['bedrooms_is_na', -0.31867848759722883],\n",
       "       ['neighbourhood_cleansed_Moabit Ost', -0.2977904215325947],\n",
       "       ['bedrooms', 0.2662678090864989],\n",
       "       ['neighbourhood_group_cleansed_Reinickendorf',\n",
       "        -0.2191956998422411],\n",
       "       ['neighbourhood_group_cleansed_other', -0.21602486160547915],\n",
       "       ['license_is_na', -0.18860748379066372],\n",
       "       ['summary_is_na', 0.1689073334231896],\n",
       "       ['zip_dists_other', -0.16281728030429682],\n",
       "       ['last_reviewMonth_3.0', -0.1627764700642387],\n",
       "       ['neighbourhood_group_cleansed_Mitte', 0.16043181011720672],\n",
       "       ['last_reviewMonth_2.0', -0.15913130584647103],\n",
       "       ['neighbourhood_cleansed_Parkviertel', -0.1470142898970722],\n",
       "       ['zipcode_is_na', 0.14598430798934384],\n",
       "       ['neighbourhood_group_cleansed_Neukölln', -0.14280180086673389],\n",
       "       ['neighbourhood_Wilmersdorf', 0.14003012909082965],\n",
       "       ['last_reviewMonth_12.0', -0.12447140163916472],\n",
       "       ['zip_dists_1082', -0.11295043604846301],\n",
       "       ['host_response_rate_is_na', -0.10458074464671833]], dtype=object)"
      ]
     },
     "execution_count": 84,
     "metadata": {},
     "output_type": "execute_result"
    }
   ],
   "source": [
    "feature_importances(X_test_dropped, model)[:, :-1]"
   ]
  }
 ],
 "metadata": {
  "kernelspec": {
   "display_name": "Python 3",
   "language": "python",
   "name": "python3"
  },
  "language_info": {
   "codemirror_mode": {
    "name": "ipython",
    "version": 3
   },
   "file_extension": ".py",
   "mimetype": "text/x-python",
   "name": "python",
   "nbconvert_exporter": "python",
   "pygments_lexer": "ipython3",
   "version": "3.7.4"
  }
 },
 "nbformat": 4,
 "nbformat_minor": 4
}
