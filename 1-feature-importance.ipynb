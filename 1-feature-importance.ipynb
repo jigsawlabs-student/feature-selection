{
 "cells": [
  {
   "cell_type": "markdown",
   "metadata": {},
   "source": [
    "# Feature Importance"
   ]
  },
  {
   "cell_type": "markdown",
   "metadata": {},
   "source": [
    "### Introduction"
   ]
  },
  {
   "cell_type": "markdown",
   "metadata": {},
   "source": [
    "Now that we have trained a model that fits pretty well, the next component is to move through the process of reducing and selecting our features.  In this lesson, we'll use permutation feature importance to do so.\n",
    "\n",
    "Let's load up our data where we last left off."
   ]
  },
  {
   "cell_type": "markdown",
   "metadata": {},
   "source": [
    "### Loading our Data"
   ]
  },
  {
   "cell_type": "code",
   "execution_count": 11,
   "metadata": {},
   "outputs": [],
   "source": [
    "import pandas as pd\n",
    "url = \"https://raw.githubusercontent.com/jigsawlabs-student/feature-selection/master/listings_train_df.csv\"\n",
    "\n",
    "train_validate_df = pd.read_csv(url)"
   ]
  },
  {
   "cell_type": "markdown",
   "metadata": {},
   "source": [
    "Then we can separate our feature and target variables."
   ]
  },
  {
   "cell_type": "code",
   "execution_count": 12,
   "metadata": {},
   "outputs": [],
   "source": [
    "target_cols = ['price']\n",
    "X = train_validate_df.drop(columns = target_cols)\n",
    "y = train_validate_df['price']"
   ]
  },
  {
   "cell_type": "markdown",
   "metadata": {},
   "source": [
    "And split our data."
   ]
  },
  {
   "cell_type": "code",
   "execution_count": 13,
   "metadata": {},
   "outputs": [],
   "source": [
    "from sklearn.model_selection import train_test_split\n",
    "X_train, X_validate, y_train, y_validate = train_test_split(X, y, random_state = 1, test_size = .2)"
   ]
  },
  {
   "cell_type": "code",
   "execution_count": 14,
   "metadata": {},
   "outputs": [
    {
     "data": {
      "text/plain": [
       "((14361, 322), (3591, 322))"
      ]
     },
     "execution_count": 14,
     "metadata": {},
     "output_type": "execute_result"
    }
   ],
   "source": [
    "X_train.shape, X_validate.shape"
   ]
  },
  {
   "cell_type": "markdown",
   "metadata": {},
   "source": [
    "And then train our model."
   ]
  },
  {
   "cell_type": "code",
   "execution_count": 15,
   "metadata": {},
   "outputs": [
    {
     "data": {
      "text/plain": [
       "0.542429555631625"
      ]
     },
     "execution_count": 15,
     "metadata": {},
     "output_type": "execute_result"
    }
   ],
   "source": [
    "from sklearn.linear_model import LinearRegression\n",
    "model = LinearRegression()\n",
    "model.fit(X_train, y_train)\n",
    "model.score(X_validate, y_validate)"
   ]
  },
  {
   "cell_type": "markdown",
   "metadata": {},
   "source": [
    "### Permutations"
   ]
  },
  {
   "cell_type": "markdown",
   "metadata": {},
   "source": [
    "Now let's move onto feature selection.  To do so, we'll start with our eli5 library.  From the `eli5.sklearn` module we import the `PermutationImportance` class.  "
   ]
  },
  {
   "cell_type": "markdown",
   "metadata": {},
   "source": [
    "> Notice that we pass `PermutationImportance` our previously fitted model, and then evaluate the feature importances on the validation set."
   ]
  },
  {
   "cell_type": "code",
   "execution_count": 16,
   "metadata": {},
   "outputs": [],
   "source": [
    "from eli5.sklearn import PermutationImportance\n",
    "import eli5\n",
    "\n",
    "perm = PermutationImportance(model).fit(X_validate, y_validate)"
   ]
  },
  {
   "cell_type": "markdown",
   "metadata": {},
   "source": [
    "Then we can pass the permutation importance object to the `explain_weights_df` method."
   ]
  },
  {
   "cell_type": "code",
   "execution_count": 17,
   "metadata": {},
   "outputs": [],
   "source": [
    "exp_df = eli5.explain_weights_df(perm, feature_names = list(X_train.columns))"
   ]
  },
  {
   "cell_type": "code",
   "execution_count": 18,
   "metadata": {},
   "outputs": [
    {
     "data": {
      "text/html": [
       "<div>\n",
       "<style scoped>\n",
       "    .dataframe tbody tr th:only-of-type {\n",
       "        vertical-align: middle;\n",
       "    }\n",
       "\n",
       "    .dataframe tbody tr th {\n",
       "        vertical-align: top;\n",
       "    }\n",
       "\n",
       "    .dataframe thead th {\n",
       "        text-align: right;\n",
       "    }\n",
       "</style>\n",
       "<table border=\"1\" class=\"dataframe\">\n",
       "  <thead>\n",
       "    <tr style=\"text-align: right;\">\n",
       "      <th></th>\n",
       "      <th>feature</th>\n",
       "      <th>weight</th>\n",
       "      <th>std</th>\n",
       "    </tr>\n",
       "  </thead>\n",
       "  <tbody>\n",
       "    <tr>\n",
       "      <th>0</th>\n",
       "      <td>first_reviewElapsed</td>\n",
       "      <td>3.365127e+07</td>\n",
       "      <td>306585.081666</td>\n",
       "    </tr>\n",
       "    <tr>\n",
       "      <th>1</th>\n",
       "      <td>last_reviewElapsed</td>\n",
       "      <td>2.836485e+07</td>\n",
       "      <td>477121.026034</td>\n",
       "    </tr>\n",
       "    <tr>\n",
       "      <th>2</th>\n",
       "      <td>last_reviewDayofyear_is_na</td>\n",
       "      <td>7.854749e+05</td>\n",
       "      <td>8255.423709</td>\n",
       "    </tr>\n",
       "    <tr>\n",
       "      <th>3</th>\n",
       "      <td>last_reviewYear_is_na</td>\n",
       "      <td>7.807572e+05</td>\n",
       "      <td>17638.244363</td>\n",
       "    </tr>\n",
       "    <tr>\n",
       "      <th>4</th>\n",
       "      <td>last_reviewWeek_is_na</td>\n",
       "      <td>7.775147e+05</td>\n",
       "      <td>10701.027460</td>\n",
       "    </tr>\n",
       "    <tr>\n",
       "      <th>5</th>\n",
       "      <td>last_reviewDayofweek_is_na</td>\n",
       "      <td>7.769247e+05</td>\n",
       "      <td>8161.377526</td>\n",
       "    </tr>\n",
       "    <tr>\n",
       "      <th>6</th>\n",
       "      <td>last_reviewDay_is_na</td>\n",
       "      <td>7.748573e+05</td>\n",
       "      <td>8918.861444</td>\n",
       "    </tr>\n",
       "    <tr>\n",
       "      <th>7</th>\n",
       "      <td>last_reviewMonth_is_na</td>\n",
       "      <td>7.724994e+05</td>\n",
       "      <td>16551.341056</td>\n",
       "    </tr>\n",
       "    <tr>\n",
       "      <th>8</th>\n",
       "      <td>first_reviewDayofyear_is_na</td>\n",
       "      <td>6.943819e+05</td>\n",
       "      <td>9681.879376</td>\n",
       "    </tr>\n",
       "    <tr>\n",
       "      <th>9</th>\n",
       "      <td>first_reviewYear_is_na</td>\n",
       "      <td>6.894710e+05</td>\n",
       "      <td>4655.924763</td>\n",
       "    </tr>\n",
       "  </tbody>\n",
       "</table>\n",
       "</div>"
      ],
      "text/plain": [
       "                       feature        weight            std\n",
       "0          first_reviewElapsed  3.365127e+07  306585.081666\n",
       "1           last_reviewElapsed  2.836485e+07  477121.026034\n",
       "2   last_reviewDayofyear_is_na  7.854749e+05    8255.423709\n",
       "3        last_reviewYear_is_na  7.807572e+05   17638.244363\n",
       "4        last_reviewWeek_is_na  7.775147e+05   10701.027460\n",
       "5   last_reviewDayofweek_is_na  7.769247e+05    8161.377526\n",
       "6         last_reviewDay_is_na  7.748573e+05    8918.861444\n",
       "7       last_reviewMonth_is_na  7.724994e+05   16551.341056\n",
       "8  first_reviewDayofyear_is_na  6.943819e+05    9681.879376\n",
       "9       first_reviewYear_is_na  6.894710e+05    4655.924763"
      ]
     },
     "execution_count": 18,
     "metadata": {},
     "output_type": "execute_result"
    }
   ],
   "source": [
    "exp_df[:10]"
   ]
  },
  {
   "cell_type": "markdown",
   "metadata": {},
   "source": [
    "### How Permutation Importance Works"
   ]
  },
  {
   "cell_type": "markdown",
   "metadata": {},
   "source": [
    "Let's talk about how `eli5` calculates the scores above.  The concept is to remove each of the features and see the reduction in scores.  For example, let's try to drop the `first_reviewElapsed` feature and see how it performs."
   ]
  },
  {
   "cell_type": "code",
   "execution_count": 18,
   "metadata": {},
   "outputs": [],
   "source": [
    "X_val_removed = X_validate.drop(columns = ['first_reviewElapsed'])"
   ]
  },
  {
   "cell_type": "markdown",
   "metadata": {},
   "source": [
    "> Comment and uncomment the line below."
   ]
  },
  {
   "cell_type": "code",
   "execution_count": 20,
   "metadata": {},
   "outputs": [],
   "source": [
    "# model.score(X_val_removed, y_validate)"
   ]
  },
  {
   "cell_type": "markdown",
   "metadata": {},
   "source": [
    "We can see that we can't simply score our model with a reduced dataset.  So instead we do the next best thing.  Instead of removing the feature all together, eli5 shuffles the feature, and then rescores the model.  If the score drops a lot, then the feature must have been significant."
   ]
  },
  {
   "cell_type": "markdown",
   "metadata": {},
   "source": [
    "### On with the show"
   ]
  },
  {
   "cell_type": "markdown",
   "metadata": {},
   "source": [
    "We can see from our below weights that a lot of the features are repeats of each other.  For example, when `last_reviewYear_is_na` we know that `last_reviewMonth_is_na` as well."
   ]
  },
  {
   "cell_type": "code",
   "execution_count": 28,
   "metadata": {},
   "outputs": [
    {
     "data": {
      "text/html": [
       "<div>\n",
       "<style scoped>\n",
       "    .dataframe tbody tr th:only-of-type {\n",
       "        vertical-align: middle;\n",
       "    }\n",
       "\n",
       "    .dataframe tbody tr th {\n",
       "        vertical-align: top;\n",
       "    }\n",
       "\n",
       "    .dataframe thead th {\n",
       "        text-align: right;\n",
       "    }\n",
       "</style>\n",
       "<table border=\"1\" class=\"dataframe\">\n",
       "  <thead>\n",
       "    <tr style=\"text-align: right;\">\n",
       "      <th></th>\n",
       "      <th>feature</th>\n",
       "      <th>weight</th>\n",
       "      <th>std</th>\n",
       "    </tr>\n",
       "  </thead>\n",
       "  <tbody>\n",
       "    <tr>\n",
       "      <th>0</th>\n",
       "      <td>first_reviewElapsed</td>\n",
       "      <td>3.356578e+07</td>\n",
       "      <td>233362.828339</td>\n",
       "    </tr>\n",
       "    <tr>\n",
       "      <th>1</th>\n",
       "      <td>last_reviewElapsed</td>\n",
       "      <td>2.847423e+07</td>\n",
       "      <td>341312.429978</td>\n",
       "    </tr>\n",
       "    <tr>\n",
       "      <th>2</th>\n",
       "      <td>last_reviewDayofyear_is_na</td>\n",
       "      <td>7.869540e+05</td>\n",
       "      <td>18947.061155</td>\n",
       "    </tr>\n",
       "    <tr>\n",
       "      <th>3</th>\n",
       "      <td>last_reviewDay_is_na</td>\n",
       "      <td>7.825373e+05</td>\n",
       "      <td>15185.248973</td>\n",
       "    </tr>\n",
       "    <tr>\n",
       "      <th>4</th>\n",
       "      <td>last_reviewYear_is_na</td>\n",
       "      <td>7.801670e+05</td>\n",
       "      <td>9295.946614</td>\n",
       "    </tr>\n",
       "    <tr>\n",
       "      <th>5</th>\n",
       "      <td>last_reviewMonth_is_na</td>\n",
       "      <td>7.748612e+05</td>\n",
       "      <td>7128.549279</td>\n",
       "    </tr>\n",
       "    <tr>\n",
       "      <th>6</th>\n",
       "      <td>last_reviewWeek_is_na</td>\n",
       "      <td>7.745553e+05</td>\n",
       "      <td>10930.451810</td>\n",
       "    </tr>\n",
       "    <tr>\n",
       "      <th>7</th>\n",
       "      <td>last_reviewDayofweek_is_na</td>\n",
       "      <td>7.707310e+05</td>\n",
       "      <td>6016.109522</td>\n",
       "    </tr>\n",
       "    <tr>\n",
       "      <th>8</th>\n",
       "      <td>first_reviewDayofweek_is_na</td>\n",
       "      <td>6.884379e+05</td>\n",
       "      <td>6846.013720</td>\n",
       "    </tr>\n",
       "    <tr>\n",
       "      <th>9</th>\n",
       "      <td>reviews_per_month_is_na</td>\n",
       "      <td>6.879067e+05</td>\n",
       "      <td>9095.983871</td>\n",
       "    </tr>\n",
       "  </tbody>\n",
       "</table>\n",
       "</div>"
      ],
      "text/plain": [
       "                       feature        weight            std\n",
       "0          first_reviewElapsed  3.356578e+07  233362.828339\n",
       "1           last_reviewElapsed  2.847423e+07  341312.429978\n",
       "2   last_reviewDayofyear_is_na  7.869540e+05   18947.061155\n",
       "3         last_reviewDay_is_na  7.825373e+05   15185.248973\n",
       "4        last_reviewYear_is_na  7.801670e+05    9295.946614\n",
       "5       last_reviewMonth_is_na  7.748612e+05    7128.549279\n",
       "6        last_reviewWeek_is_na  7.745553e+05   10930.451810\n",
       "7   last_reviewDayofweek_is_na  7.707310e+05    6016.109522\n",
       "8  first_reviewDayofweek_is_na  6.884379e+05    6846.013720\n",
       "9      reviews_per_month_is_na  6.879067e+05    9095.983871"
      ]
     },
     "execution_count": 28,
     "metadata": {},
     "output_type": "execute_result"
    }
   ],
   "source": [
    "exp_df[:10]"
   ]
  },
  {
   "cell_type": "markdown",
   "metadata": {},
   "source": [
    "We can remove all of these repeated nas (except for year), to reduce multicollinearity."
   ]
  },
  {
   "cell_type": "code",
   "execution_count": 29,
   "metadata": {},
   "outputs": [],
   "source": [
    "def remove_na_cols(df):\n",
    "    na_cols = np.array([\"Month_is_na\", \"Week_is_na\", \"Day_is_na\", \"Dayofweek_is_na\", \"Dayofyear_is_na\"])\n",
    "    to_remove = []\n",
    "    for df_col in df.columns:\n",
    "        if any(df_col.endswith(na_col)   for na_col in na_cols):\n",
    "            to_remove.append(df_col)\n",
    "    return to_remove"
   ]
  },
  {
   "cell_type": "code",
   "execution_count": 32,
   "metadata": {},
   "outputs": [
    {
     "data": {
      "text/plain": [
       "['host_sinceMonth_is_na',\n",
       " 'host_sinceWeek_is_na',\n",
       " 'host_sinceDay_is_na',\n",
       " 'host_sinceDayofweek_is_na',\n",
       " 'host_sinceDayofyear_is_na']"
      ]
     },
     "execution_count": 32,
     "metadata": {},
     "output_type": "execute_result"
    }
   ],
   "source": [
    "to_remove = remove_na_cols(X)\n",
    "to_remove[:5]"
   ]
  },
  {
   "cell_type": "markdown",
   "metadata": {},
   "source": [
    "Then we can drop repeated features, and train again."
   ]
  },
  {
   "cell_type": "code",
   "execution_count": 34,
   "metadata": {},
   "outputs": [],
   "source": [
    "X_train_prune = X_train.drop(columns = to_remove)\n",
    "X_validate_prune = X_validate.drop(columns = to_remove)"
   ]
  },
  {
   "cell_type": "code",
   "execution_count": 35,
   "metadata": {},
   "outputs": [
    {
     "data": {
      "text/plain": [
       "0.5423977589328159"
      ]
     },
     "execution_count": 35,
     "metadata": {},
     "output_type": "execute_result"
    }
   ],
   "source": [
    "pruned_model = LinearRegression()\n",
    "pruned_model.fit(X_train_prune, y_train)\n",
    "pruned_model.score(X_validate_prune, y_validate)"
   ]
  },
  {
   "cell_type": "markdown",
   "metadata": {},
   "source": [
    "> Notice that our score did not decrease."
   ]
  },
  {
   "cell_type": "code",
   "execution_count": 36,
   "metadata": {},
   "outputs": [
    {
     "data": {
      "text/html": [
       "<div>\n",
       "<style scoped>\n",
       "    .dataframe tbody tr th:only-of-type {\n",
       "        vertical-align: middle;\n",
       "    }\n",
       "\n",
       "    .dataframe tbody tr th {\n",
       "        vertical-align: top;\n",
       "    }\n",
       "\n",
       "    .dataframe thead th {\n",
       "        text-align: right;\n",
       "    }\n",
       "</style>\n",
       "<table border=\"1\" class=\"dataframe\">\n",
       "  <thead>\n",
       "    <tr style=\"text-align: right;\">\n",
       "      <th></th>\n",
       "      <th>feature</th>\n",
       "      <th>weight</th>\n",
       "      <th>std</th>\n",
       "    </tr>\n",
       "  </thead>\n",
       "  <tbody>\n",
       "    <tr>\n",
       "      <th>0</th>\n",
       "      <td>first_reviewElapsed</td>\n",
       "      <td>2.899975e+06</td>\n",
       "      <td>67305.045809</td>\n",
       "    </tr>\n",
       "    <tr>\n",
       "      <th>1</th>\n",
       "      <td>reviews_per_month_is_na</td>\n",
       "      <td>7.419269e+05</td>\n",
       "      <td>12781.201602</td>\n",
       "    </tr>\n",
       "    <tr>\n",
       "      <th>2</th>\n",
       "      <td>first_reviewYear_is_na</td>\n",
       "      <td>7.267786e+05</td>\n",
       "      <td>10681.661377</td>\n",
       "    </tr>\n",
       "  </tbody>\n",
       "</table>\n",
       "</div>"
      ],
      "text/plain": [
       "                   feature        weight           std\n",
       "0      first_reviewElapsed  2.899975e+06  67305.045809\n",
       "1  reviews_per_month_is_na  7.419269e+05  12781.201602\n",
       "2   first_reviewYear_is_na  7.267786e+05  10681.661377"
      ]
     },
     "execution_count": 36,
     "metadata": {},
     "output_type": "execute_result"
    }
   ],
   "source": [
    "perm = PermutationImportance(pruned_model).fit(X_validate_prune, y_validate)\n",
    "\n",
    "exp_df = eli5.explain_weights_df(perm, feature_names = list(X_train_prune.columns))\n",
    "exp_df[:3]"
   ]
  },
  {
   "cell_type": "markdown",
   "metadata": {},
   "source": [
    "> And that the feature importances of the `is_na` features are higher after the consolidation."
   ]
  },
  {
   "cell_type": "markdown",
   "metadata": {},
   "source": [
    "We can see that we still have over 300 features.  "
   ]
  },
  {
   "cell_type": "code",
   "execution_count": 37,
   "metadata": {},
   "outputs": [
    {
     "data": {
      "text/plain": [
       "(307, 3)"
      ]
     },
     "execution_count": 37,
     "metadata": {},
     "output_type": "execute_result"
    }
   ],
   "source": [
    "exp_df.shape"
   ]
  },
  {
   "cell_type": "markdown",
   "metadata": {},
   "source": [
    "So let's reduce our dataset to only those features that have an importance over `.005`, and see if we still receive a relatively high score."
   ]
  },
  {
   "cell_type": "code",
   "execution_count": 38,
   "metadata": {},
   "outputs": [],
   "source": [
    "top_fifty_feats = exp_df[exp_df['weight'] > .005]\n",
    "top_fifty_feat_cols = top_fifty_feats.feature.values"
   ]
  },
  {
   "cell_type": "code",
   "execution_count": 39,
   "metadata": {},
   "outputs": [
    {
     "data": {
      "text/plain": [
       "0.5243247723905214"
      ]
     },
     "execution_count": 39,
     "metadata": {},
     "output_type": "execute_result"
    }
   ],
   "source": [
    "X_train_top = X_train_prune[top_fifty_feat_cols]\n",
    "X_val_top = X_validate_prune[top_fifty_feat_cols]\n",
    "\n",
    "top_fifty_model = LinearRegression()\n",
    "top_fifty_model.fit(X_train_top, y_train)\n",
    "top_fifty_model.score(X_val_top, y_validate)"
   ]
  },
  {
   "cell_type": "code",
   "execution_count": 40,
   "metadata": {},
   "outputs": [
    {
     "data": {
      "text/plain": [
       "(53,)"
      ]
     },
     "execution_count": 40,
     "metadata": {},
     "output_type": "execute_result"
    }
   ],
   "source": [
    "top_fifty_feat_cols.shape"
   ]
  },
  {
   "cell_type": "markdown",
   "metadata": {},
   "source": [
    "So we reduced our model from 300 to 50 features and still maintained our score.  Now let's have another look at the permutation importances with our reduced model."
   ]
  },
  {
   "cell_type": "code",
   "execution_count": 42,
   "metadata": {},
   "outputs": [],
   "source": [
    "perm = PermutationImportance(top_fifty_model).fit(X_val_top, y_validate)\n",
    "\n",
    "exp_df = eli5.explain_weights_df(perm, feature_names = list(X_val_top.columns))"
   ]
  },
  {
   "cell_type": "code",
   "execution_count": 43,
   "metadata": {},
   "outputs": [
    {
     "data": {
      "text/html": [
       "<div>\n",
       "<style scoped>\n",
       "    .dataframe tbody tr th:only-of-type {\n",
       "        vertical-align: middle;\n",
       "    }\n",
       "\n",
       "    .dataframe tbody tr th {\n",
       "        vertical-align: top;\n",
       "    }\n",
       "\n",
       "    .dataframe thead th {\n",
       "        text-align: right;\n",
       "    }\n",
       "</style>\n",
       "<table border=\"1\" class=\"dataframe\">\n",
       "  <thead>\n",
       "    <tr style=\"text-align: right;\">\n",
       "      <th></th>\n",
       "      <th>feature</th>\n",
       "      <th>weight</th>\n",
       "      <th>std</th>\n",
       "    </tr>\n",
       "  </thead>\n",
       "  <tbody>\n",
       "    <tr>\n",
       "      <th>0</th>\n",
       "      <td>first_reviewElapsed</td>\n",
       "      <td>1.324899e+07</td>\n",
       "      <td>72622.692548</td>\n",
       "    </tr>\n",
       "    <tr>\n",
       "      <th>1</th>\n",
       "      <td>first_reviewYear_is_na</td>\n",
       "      <td>3.324616e+06</td>\n",
       "      <td>41683.846061</td>\n",
       "    </tr>\n",
       "    <tr>\n",
       "      <th>2</th>\n",
       "      <td>reviews_per_month_is_na</td>\n",
       "      <td>3.313544e+06</td>\n",
       "      <td>57782.602245</td>\n",
       "    </tr>\n",
       "    <tr>\n",
       "      <th>3</th>\n",
       "      <td>last_reviewElapsed</td>\n",
       "      <td>1.139278e+04</td>\n",
       "      <td>153.392684</td>\n",
       "    </tr>\n",
       "    <tr>\n",
       "      <th>4</th>\n",
       "      <td>last_reviewYear_is_na</td>\n",
       "      <td>1.135036e+04</td>\n",
       "      <td>71.338085</td>\n",
       "    </tr>\n",
       "    <tr>\n",
       "      <th>5</th>\n",
       "      <td>first_reviewYear</td>\n",
       "      <td>1.540228e+03</td>\n",
       "      <td>12.213261</td>\n",
       "    </tr>\n",
       "    <tr>\n",
       "      <th>6</th>\n",
       "      <td>host_sinceElapsed</td>\n",
       "      <td>1.128938e+03</td>\n",
       "      <td>4.190167</td>\n",
       "    </tr>\n",
       "    <tr>\n",
       "      <th>7</th>\n",
       "      <td>host_sinceYear_is_na</td>\n",
       "      <td>1.227909e+02</td>\n",
       "      <td>0.161924</td>\n",
       "    </tr>\n",
       "    <tr>\n",
       "      <th>8</th>\n",
       "      <td>host_total_listings_count_is_na</td>\n",
       "      <td>1.227607e+02</td>\n",
       "      <td>0.100223</td>\n",
       "    </tr>\n",
       "    <tr>\n",
       "      <th>9</th>\n",
       "      <td>host_listings_count_is_na</td>\n",
       "      <td>1.226623e+02</td>\n",
       "      <td>0.171026</td>\n",
       "    </tr>\n",
       "    <tr>\n",
       "      <th>10</th>\n",
       "      <td>first_reviewDayofyear</td>\n",
       "      <td>4.042238e+01</td>\n",
       "      <td>0.470600</td>\n",
       "    </tr>\n",
       "    <tr>\n",
       "      <th>11</th>\n",
       "      <td>host_sinceYear</td>\n",
       "      <td>2.604179e+01</td>\n",
       "      <td>0.167258</td>\n",
       "    </tr>\n",
       "    <tr>\n",
       "      <th>12</th>\n",
       "      <td>host_sinceDayofyear</td>\n",
       "      <td>1.729406e+01</td>\n",
       "      <td>0.184209</td>\n",
       "    </tr>\n",
       "    <tr>\n",
       "      <th>13</th>\n",
       "      <td>host_sinceMonth</td>\n",
       "      <td>1.186514e+01</td>\n",
       "      <td>0.161888</td>\n",
       "    </tr>\n",
       "    <tr>\n",
       "      <th>14</th>\n",
       "      <td>last_reviewYear</td>\n",
       "      <td>3.877267e-01</td>\n",
       "      <td>0.006917</td>\n",
       "    </tr>\n",
       "    <tr>\n",
       "      <th>15</th>\n",
       "      <td>cancellation_policy_x0_flexible</td>\n",
       "      <td>2.222500e-01</td>\n",
       "      <td>0.005460</td>\n",
       "    </tr>\n",
       "    <tr>\n",
       "      <th>16</th>\n",
       "      <td>cancellation_policy_x0_moderate</td>\n",
       "      <td>1.802712e-01</td>\n",
       "      <td>0.007649</td>\n",
       "    </tr>\n",
       "    <tr>\n",
       "      <th>17</th>\n",
       "      <td>cancellation_policy_x0_strict_14_with_grace_pe...</td>\n",
       "      <td>1.511439e-01</td>\n",
       "      <td>0.003334</td>\n",
       "    </tr>\n",
       "    <tr>\n",
       "      <th>18</th>\n",
       "      <td>accommodates</td>\n",
       "      <td>1.401579e-01</td>\n",
       "      <td>0.002159</td>\n",
       "    </tr>\n",
       "    <tr>\n",
       "      <th>19</th>\n",
       "      <td>room_type_x0_Entire home/apt</td>\n",
       "      <td>1.137050e-01</td>\n",
       "      <td>0.005355</td>\n",
       "    </tr>\n",
       "  </tbody>\n",
       "</table>\n",
       "</div>"
      ],
      "text/plain": [
       "                                              feature        weight  \\\n",
       "0                                 first_reviewElapsed  1.324899e+07   \n",
       "1                              first_reviewYear_is_na  3.324616e+06   \n",
       "2                             reviews_per_month_is_na  3.313544e+06   \n",
       "3                                  last_reviewElapsed  1.139278e+04   \n",
       "4                               last_reviewYear_is_na  1.135036e+04   \n",
       "5                                    first_reviewYear  1.540228e+03   \n",
       "6                                   host_sinceElapsed  1.128938e+03   \n",
       "7                                host_sinceYear_is_na  1.227909e+02   \n",
       "8                     host_total_listings_count_is_na  1.227607e+02   \n",
       "9                           host_listings_count_is_na  1.226623e+02   \n",
       "10                              first_reviewDayofyear  4.042238e+01   \n",
       "11                                     host_sinceYear  2.604179e+01   \n",
       "12                                host_sinceDayofyear  1.729406e+01   \n",
       "13                                    host_sinceMonth  1.186514e+01   \n",
       "14                                    last_reviewYear  3.877267e-01   \n",
       "15                    cancellation_policy_x0_flexible  2.222500e-01   \n",
       "16                    cancellation_policy_x0_moderate  1.802712e-01   \n",
       "17  cancellation_policy_x0_strict_14_with_grace_pe...  1.511439e-01   \n",
       "18                                       accommodates  1.401579e-01   \n",
       "19                       room_type_x0_Entire home/apt  1.137050e-01   \n",
       "\n",
       "             std  \n",
       "0   72622.692548  \n",
       "1   41683.846061  \n",
       "2   57782.602245  \n",
       "3     153.392684  \n",
       "4      71.338085  \n",
       "5      12.213261  \n",
       "6       4.190167  \n",
       "7       0.161924  \n",
       "8       0.100223  \n",
       "9       0.171026  \n",
       "10      0.470600  \n",
       "11      0.167258  \n",
       "12      0.184209  \n",
       "13      0.161888  \n",
       "14      0.006917  \n",
       "15      0.005460  \n",
       "16      0.007649  \n",
       "17      0.003334  \n",
       "18      0.002159  \n",
       "19      0.005355  "
      ]
     },
     "execution_count": 43,
     "metadata": {},
     "output_type": "execute_result"
    }
   ],
   "source": [
    "exp_df[:20]"
   ]
  },
  {
   "cell_type": "markdown",
   "metadata": {},
   "source": [
    "And finally we can plot the top eight features to better get a sense of the importances."
   ]
  },
  {
   "cell_type": "code",
   "execution_count": 129,
   "metadata": {},
   "outputs": [
    {
     "data": {
      "text/plain": [
       "<matplotlib.axes._subplots.AxesSubplot at 0x1a2c0028d0>"
      ]
     },
     "execution_count": 129,
     "metadata": {},
     "output_type": "execute_result"
    },
    {
     "data": {
      "image/png": "[encoded data removed]",
      "text/plain": [
       "<Figure size 1440x432 with 1 Axes>"
      ]
     },
     "metadata": {
      "needs_background": "light"
     },
     "output_type": "display_data"
    }
   ],
   "source": [
    "import matplotlib.pyplot as plt\n",
    "fig = plt.figure()\n",
    "fig.set_size_inches(20, 6)\n",
    "ax = fig.add_subplot(111)\n",
    "exp_df[:8].plot(x = 'feature', y = 'weight', ax = ax)\n"
   ]
  },
  {
   "cell_type": "markdown",
   "metadata": {},
   "source": [
    "### Summary"
   ]
  },
  {
   "cell_type": "markdown",
   "metadata": {},
   "source": [
    "In this lesson, we used permutation feature importance to reduce our number of features from over 300 to the top 50.  We also removed our repeating na features.  We saw that by removing only repeated features, or those features that had an importance score of less than .005, we were able to maintain our model's accuracy score. "
   ]
  },
  {
   "cell_type": "markdown",
   "metadata": {},
   "source": [
    "### Resources\n",
    "\n",
    "[Interpretable ML Book](https://christophm.github.io/interpretable-ml-book/)"
   ]
  }
 ],
 "metadata": {
  "kernelspec": {
   "display_name": "Python 3",
   "language": "python",
   "name": "python3"
  },
  "language_info": {
   "codemirror_mode": {
    "name": "ipython",
    "version": 3
   },
   "file_extension": ".py",
   "mimetype": "text/x-python",
   "name": "python",
   "nbconvert_exporter": "python",
   "pygments_lexer": "ipython3",
   "version": "3.7.4"
  }
 },
 "nbformat": 4,
 "nbformat_minor": 4
}
